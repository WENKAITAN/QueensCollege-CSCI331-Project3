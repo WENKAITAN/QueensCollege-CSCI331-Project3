{
    "metadata": {
        "kernelspec": {
            "name": "SQL",
            "display_name": "SQL",
            "language": "sql"
        },
        "language_info": {
            "name": "sql",
            "version": ""
        }
    },
    "nbformat_minor": 2,
    "nbformat": 4,
    "cells": [
        {
            "cell_type": "markdown",
            "source": [
                "<span style=\"color: #09885a;\">1</span>). Show all instructors who are teaching <span style=\"color: #0000ff;\">in</span> classes <span style=\"color: #0000ff;\">in</span> multiple departments"
            ],
            "metadata": {
                "language": "sql",
                "azdata_cell_guid": "80964fff-e6d9-485b-8a4b-9df180377674"
            },
            "attachments": {}
        },
        {
            "cell_type": "code",
            "source": [
                "USE QueensClassSchedule;\n",
                "Select DI.InstrustorID, I.InstructorFirstName, I.InstructorLastName\n",
                "FROM dbo.DepartmentInstructor as DI\n",
                "JOIN dbo.Instructor as I\n",
                "ON I.InstructorID = DI.InstrustorID\n",
                "GROUP BY InstrustorID, I.InstructorFirstName, I.InstructorLastName\n",
                "HAVING COUNT(InstrustorID) > 1;"
            ],
            "metadata": {
                "language": "sql",
                "azdata_cell_guid": "f7d16bbc-3370-4444-8c18-a77050bebe3a"
            },
            "outputs": [
                {
                    "output_type": "display_data",
                    "data": {
                        "text/html": "(123 rows affected)"
                    },
                    "metadata": {}
                },
                {
                    "output_type": "display_data",
                    "data": {
                        "text/html": "Total execution time: 00:00:00.005"
                    },
                    "metadata": {}
                },
                {
                    "output_type": "execute_result",
                    "metadata": {},
                    "execution_count": 1,
                    "data": {
                        "application/vnd.dataresource+json": {
                            "schema": {
                                "fields": [
                                    {
                                        "name": "InstrustorID"
                                    },
                                    {
                                        "name": "InstructorFirstName"
                                    },
                                    {
                                        "name": "InstructorLastName"
                                    }
                                ]
                            },
                            "data": [
                                {
                                    "0": "4793",
                                    "1": "Abigail",
                                    "2": "Doukhan"
                                },
                                {
                                    "0": "4816",
                                    "1": "Alan",
                                    "2": "Rosenberg"
                                },
                                {
                                    "0": "4831",
                                    "1": "Alexander",
                                    "2": "Reichl"
                                },
                                {
                                    "0": "4832",
                                    "1": "Alexander",
                                    "2": "Ryba"
                                },
                                {
                                    "0": "4839",
                                    "1": "Alice",
                                    "2": "Artzt"
                                },
                                {
                                    "0": "4847",
                                    "1": "Alicia",
                                    "2": "Melendez"
                                },
                                {
                                    "0": "4874",
                                    "1": "Andrea",
                                    "2": "Khalil"
                                },
                                {
                                    "0": "4875",
                                    "1": "Andrea",
                                    "2": "Li"
                                },
                                {
                                    "0": "4913",
                                    "1": "Anthony",
                                    "2": "Santana"
                                },
                                {
                                    "0": "4915",
                                    "1": "Antonio",
                                    "2": "Donato"
                                },
                                {
                                    "0": "4917",
                                    "1": "Antonio",
                                    "2": "Hart"
                                },
                                {
                                    "0": "4954",
                                    "1": "Barbara",
                                    "2": "Moore"
                                },
                                {
                                    "0": "4980",
                                    "1": "Bobby",
                                    "2": "Wintermute"
                                },
                                {
                                    "0": "4985",
                                    "1": "Brenda",
                                    "2": "Biddle"
                                },
                                {
                                    "0": "5003",
                                    "1": "Carlos",
                                    "2": "Fittante"
                                },
                                {
                                    "0": "5007",
                                    "1": "Carol",
                                    "2": "Giardina"
                                },
                                {
                                    "0": "5015",
                                    "1": "Carolyn",
                                    "2": "Pytte"
                                },
                                {
                                    "0": "5020",
                                    "1": "Catherine",
                                    "2": "Cordeiro"
                                },
                                {
                                    "0": "5025",
                                    "1": "Cathy",
                                    "2": "Savagedunn"
                                },
                                {
                                    "0": "5035",
                                    "1": "Charenee",
                                    "2": "Wade"
                                },
                                {
                                    "0": "5038",
                                    "1": "Charles",
                                    "2": "Martin"
                                },
                                {
                                    "0": "5054",
                                    "1": "Christina",
                                    "2": "Alaimo"
                                },
                                {
                                    "0": "5056",
                                    "1": "Christine",
                                    "2": "Spreizer"
                                },
                                {
                                    "0": "5065",
                                    "1": "Christopher",
                                    "2": "Winks"
                                },
                                {
                                    "0": "5068",
                                    "1": "Clare",
                                    "2": "Carroll"
                                },
                                {
                                    "0": "5085",
                                    "1": "Dae-Yeop",
                                    "2": "Hwang"
                                },
                                {
                                    "0": "5093",
                                    "1": "Daniel",
                                    "2": "Fienup"
                                },
                                {
                                    "0": "5111",
                                    "1": "David",
                                    "2": "Adler"
                                },
                                {
                                    "0": "5112",
                                    "1": "David",
                                    "2": "Berkman"
                                },
                                {
                                    "0": "5115",
                                    "1": "David",
                                    "2": "Debora"
                                },
                                {
                                    "0": "5127",
                                    "1": "David",
                                    "2": "Lahti"
                                },
                                {
                                    "0": "5128",
                                    "1": "David",
                                    "2": "Laurenson"
                                },
                                {
                                    "0": "5145",
                                    "1": "Dax",
                                    "2": "Soule"
                                },
                                {
                                    "0": "5154",
                                    "1": "Dennis",
                                    "2": "Mackrel"
                                },
                                {
                                    "0": "5174",
                                    "1": "Dorian",
                                    "2": "Abreu"
                                },
                                {
                                    "0": "5211",
                                    "1": "Ellen",
                                    "2": "Piccolo"
                                },
                                {
                                    "0": "5239",
                                    "1": "Esther",
                                    "2": "Lin"
                                },
                                {
                                    "0": "5244",
                                    "1": "Euna",
                                    "2": "Cho"
                                },
                                {
                                    "0": "5272",
                                    "1": "Francesca",
                                    "2": "Girod"
                                },
                                {
                                    "0": "5278",
                                    "1": "Fred",
                                    "2": "Cadieu"
                                },
                                {
                                    "0": "5294",
                                    "1": "Geoffrey",
                                    "2": "Nutter"
                                },
                                {
                                    "0": "5295",
                                    "1": "Geordan",
                                    "2": "Hull"
                                },
                                {
                                    "0": "5301",
                                    "1": "Georges",
                                    "2": "Courtadon"
                                },
                                {
                                    "0": "5306",
                                    "1": "Gerasimus",
                                    "2": "Katsan"
                                },
                                {
                                    "0": "5320",
                                    "1": "Gopal",
                                    "2": "Sukhu"
                                },
                                {
                                    "0": "5326",
                                    "1": "Gregory",
                                    "2": "O'Mullan"
                                },
                                {
                                    "0": "5344",
                                    "1": "Harvey",
                                    "2": "Burstein"
                                },
                                {
                                    "0": "5361",
                                    "1": "Holly",
                                    "2": "Rogers"
                                },
                                {
                                    "0": "5379",
                                    "1": "Ioannis",
                                    "2": "Kostopoulos"
                                },
                                {
                                    "0": "5392",
                                    "1": "Jacob",
                                    "2": "Mackey"
                                },
                                {
                                    "0": "5399",
                                    "1": "James",
                                    "2": "Jordan"
                                },
                                {
                                    "0": "5407",
                                    "1": "James",
                                    "2": "Richie"
                                },
                                {
                                    "0": "5422",
                                    "1": "Jason",
                                    "2": "Smith"
                                },
                                {
                                    "0": "5430",
                                    "1": "Jeff",
                                    "2": "Maskovsky"
                                },
                                {
                                    "0": "5433",
                                    "1": "Jeffrey",
                                    "2": "Bird"
                                },
                                {
                                    "0": "5435",
                                    "1": "Jeffrey",
                                    "2": "Farber"
                                },
                                {
                                    "0": "5437",
                                    "1": "Jeffrey",
                                    "2": "Marsh"
                                },
                                {
                                    "0": "5439",
                                    "1": "Jeffrey",
                                    "2": "Satenstein"
                                },
                                {
                                    "0": "5464",
                                    "1": "Ji Young",
                                    "2": "Kim"
                                },
                                {
                                    "0": "5466",
                                    "1": "Jia Xuan",
                                    "2": "Zhang"
                                },
                                {
                                    "0": "5475",
                                    "1": "Jinyo",
                                    "2": "Kim"
                                },
                                {
                                    "0": "5478",
                                    "1": "Joan",
                                    "2": "Nix"
                                },
                                {
                                    "0": "5484",
                                    "1": "Joel",
                                    "2": "Sneed"
                                },
                                {
                                    "0": "5487",
                                    "1": "John",
                                    "2": "Dennehy"
                                },
                                {
                                    "0": "5505",
                                    "1": "Johnathan",
                                    "2": "Thayer"
                                },
                                {
                                    "0": "5519",
                                    "1": "Joseph",
                                    "2": "Cohen"
                                },
                                {
                                    "0": "5533",
                                    "1": "Joshua",
                                    "2": "Brumberg"
                                },
                                {
                                    "0": "5540",
                                    "1": "Joyce",
                                    "2": "Warren"
                                },
                                {
                                    "0": "5558",
                                    "1": "Julia",
                                    "2": "Sneeringer"
                                },
                                {
                                    "0": "5565",
                                    "1": "Jung Min",
                                    "2": "Kang"
                                },
                                {
                                    "0": "5568",
                                    "1": "Justin",
                                    "2": "Storbeck"
                                },
                                {
                                    "0": "5572",
                                    "1": "Kamal",
                                    "2": "Soleimani"
                                },
                                {
                                    "0": "5588",
                                    "1": "Karl",
                                    "2": "Fath"
                                },
                                {
                                    "0": "5593",
                                    "1": "Kate",
                                    "2": "Schnur"
                                },
                                {
                                    "0": "5596",
                                    "1": "Katherine",
                                    "2": "Profeta"
                                },
                                {
                                    "0": "5609",
                                    "1": "Kelly",
                                    "2": "Seufert"
                                },
                                {
                                    "0": "5624",
                                    "1": "Kimberly",
                                    "2": "Reyes-Giordano"
                                },
                                {
                                    "0": "5675",
                                    "1": "Lewis",
                                    "2": "Cook"
                                },
                                {
                                    "0": "5705",
                                    "1": "Luc",
                                    "2": "Marest"
                                },
                                {
                                    "0": "5741",
                                    "1": "Mari",
                                    "2": "Fujimoto"
                                },
                                {
                                    "0": "5742",
                                    "1": "Maria",
                                    "2": "Argyros"
                                },
                                {
                                    "0": "5757",
                                    "1": "Marianne",
                                    "2": "Land"
                                },
                                {
                                    "0": "5764",
                                    "1": "Mark",
                                    "2": "Simon"
                                },
                                {
                                    "0": "5783",
                                    "1": "Matthew",
                                    "2": "Fried"
                                },
                                {
                                    "0": "5801",
                                    "1": "Meghan",
                                    "2": "Healey"
                                },
                                {
                                    "0": "5833",
                                    "1": "Michael",
                                    "2": "Musuraca"
                                },
                                {
                                    "0": "5848",
                                    "1": "Mihaela",
                                    "2": "Robila"
                                },
                                {
                                    "0": "5863",
                                    "1": "Mitchell",
                                    "2": "Shur"
                                },
                                {
                                    "0": "5882",
                                    "1": "Namseok",
                                    "2": "Yong"
                                },
                                {
                                    "0": "5891",
                                    "1": "Nathalia",
                                    "2": "Holtzman"
                                },
                                {
                                    "0": "5920",
                                    "1": "Nora",
                                    "2": "Carr"
                                },
                                {
                                    "0": "5921",
                                    "1": "Nora",
                                    "2": "Teikmanis"
                                },
                                {
                                    "0": "5933",
                                    "1": "Omri",
                                    "2": "Elisha"
                                },
                                {
                                    "0": "5968",
                                    "1": "Peter",
                                    "2": "Calandra"
                                },
                                {
                                    "0": "5977",
                                    "1": "Peter",
                                    "2": "Vellon"
                                },
                                {
                                    "0": "6002",
                                    "1": "Rebecca",
                                    "2": "Taleghani"
                                },
                                {
                                    "0": "6012",
                                    "1": "Richard",
                                    "2": "Bodnar"
                                },
                                {
                                    "0": "6016",
                                    "1": "Richard",
                                    "2": "Maroko"
                                },
                                {
                                    "0": "6025",
                                    "1": "Riddhi",
                                    "2": "Chauhan"
                                },
                                {
                                    "0": "6029",
                                    "1": "Robert",
                                    "2": "Engel"
                                },
                                {
                                    "0": "6095",
                                    "1": "Sanjai",
                                    "2": "Kumar"
                                },
                                {
                                    "0": "6105",
                                    "1": "Sarah",
                                    "2": "Covington"
                                },
                                {
                                    "0": "6116",
                                    "1": "Scott",
                                    "2": "Larson"
                                },
                                {
                                    "0": "6126",
                                    "1": "Seong Yeon",
                                    "2": "Ko"
                                },
                                {
                                    "0": "6130",
                                    "1": "Serinity",
                                    "2": "Young"
                                },
                                {
                                    "0": "6144",
                                    "1": "Sheldon",
                                    "2": "Wayman"
                                },
                                {
                                    "0": "6163",
                                    "1": "So",
                                    "2": "Takei"
                                },
                                {
                                    "0": "6165",
                                    "1": "Sonal",
                                    "2": "Soni"
                                },
                                {
                                    "0": "6172",
                                    "1": "Soribel",
                                    "2": "Genao"
                                },
                                {
                                    "0": "6202",
                                    "1": "Sue",
                                    "2": "Goldhaber"
                                },
                                {
                                    "0": "6250",
                                    "1": "Theresa",
                                    "2": "Gurl"
                                },
                                {
                                    "0": "6275",
                                    "1": "Tomas, Francisco",
                                    "2": "Penaranda Tomas"
                                },
                                {
                                    "0": "6277",
                                    "1": "Toni",
                                    "2": "Spring"
                                },
                                {
                                    "0": "6289",
                                    "1": "Uri",
                                    "2": "Samuni"
                                },
                                {
                                    "0": "6316",
                                    "1": "Warren",
                                    "2": "Woodfin"
                                },
                                {
                                    "0": "6338",
                                    "1": "Wilma",
                                    "2": "Saffran"
                                },
                                {
                                    "0": "6351",
                                    "1": "Yaching",
                                    "2": "Hung"
                                },
                                {
                                    "0": "6354",
                                    "1": "Yan",
                                    "2": "Sun"
                                },
                                {
                                    "0": "6364",
                                    "1": "Yoko",
                                    "2": "Nomura"
                                },
                                {
                                    "0": "6367",
                                    "1": "Yoshio",
                                    "2": "Aomori"
                                },
                                {
                                    "0": "6369",
                                    "1": "Yu",
                                    "2": "Chen"
                                },
                                {
                                    "0": "6375",
                                    "1": "Yves",
                                    "2": "Cloarec"
                                },
                                {
                                    "0": "6378",
                                    "1": "Zahra",
                                    "2": "Zakeri"
                                }
                            ]
                        },
                        "text/html": [
                            "<table>",
                            "<tr><th>InstrustorID</th><th>InstructorFirstName</th><th>InstructorLastName</th></tr>",
                            "<tr><td>4793</td><td>Abigail</td><td>Doukhan</td></tr>",
                            "<tr><td>4816</td><td>Alan</td><td>Rosenberg</td></tr>",
                            "<tr><td>4831</td><td>Alexander</td><td>Reichl</td></tr>",
                            "<tr><td>4832</td><td>Alexander</td><td>Ryba</td></tr>",
                            "<tr><td>4839</td><td>Alice</td><td>Artzt</td></tr>",
                            "<tr><td>4847</td><td>Alicia</td><td>Melendez</td></tr>",
                            "<tr><td>4874</td><td>Andrea</td><td>Khalil</td></tr>",
                            "<tr><td>4875</td><td>Andrea</td><td>Li</td></tr>",
                            "<tr><td>4913</td><td>Anthony</td><td>Santana</td></tr>",
                            "<tr><td>4915</td><td>Antonio</td><td>Donato</td></tr>",
                            "<tr><td>4917</td><td>Antonio</td><td>Hart</td></tr>",
                            "<tr><td>4954</td><td>Barbara</td><td>Moore</td></tr>",
                            "<tr><td>4980</td><td>Bobby</td><td>Wintermute</td></tr>",
                            "<tr><td>4985</td><td>Brenda</td><td>Biddle</td></tr>",
                            "<tr><td>5003</td><td>Carlos</td><td>Fittante</td></tr>",
                            "<tr><td>5007</td><td>Carol</td><td>Giardina</td></tr>",
                            "<tr><td>5015</td><td>Carolyn</td><td>Pytte</td></tr>",
                            "<tr><td>5020</td><td>Catherine</td><td>Cordeiro</td></tr>",
                            "<tr><td>5025</td><td>Cathy</td><td>Savagedunn</td></tr>",
                            "<tr><td>5035</td><td>Charenee</td><td>Wade</td></tr>",
                            "<tr><td>5038</td><td>Charles</td><td>Martin</td></tr>",
                            "<tr><td>5054</td><td>Christina</td><td>Alaimo</td></tr>",
                            "<tr><td>5056</td><td>Christine</td><td>Spreizer</td></tr>",
                            "<tr><td>5065</td><td>Christopher</td><td>Winks</td></tr>",
                            "<tr><td>5068</td><td>Clare</td><td>Carroll</td></tr>",
                            "<tr><td>5085</td><td>Dae-Yeop</td><td>Hwang</td></tr>",
                            "<tr><td>5093</td><td>Daniel</td><td>Fienup</td></tr>",
                            "<tr><td>5111</td><td>David</td><td>Adler</td></tr>",
                            "<tr><td>5112</td><td>David</td><td>Berkman</td></tr>",
                            "<tr><td>5115</td><td>David</td><td>Debora</td></tr>",
                            "<tr><td>5127</td><td>David</td><td>Lahti</td></tr>",
                            "<tr><td>5128</td><td>David</td><td>Laurenson</td></tr>",
                            "<tr><td>5145</td><td>Dax</td><td>Soule</td></tr>",
                            "<tr><td>5154</td><td>Dennis</td><td>Mackrel</td></tr>",
                            "<tr><td>5174</td><td>Dorian</td><td>Abreu</td></tr>",
                            "<tr><td>5211</td><td>Ellen</td><td>Piccolo</td></tr>",
                            "<tr><td>5239</td><td>Esther</td><td>Lin</td></tr>",
                            "<tr><td>5244</td><td>Euna</td><td>Cho</td></tr>",
                            "<tr><td>5272</td><td>Francesca</td><td>Girod</td></tr>",
                            "<tr><td>5278</td><td>Fred</td><td>Cadieu</td></tr>",
                            "<tr><td>5294</td><td>Geoffrey</td><td>Nutter</td></tr>",
                            "<tr><td>5295</td><td>Geordan</td><td>Hull</td></tr>",
                            "<tr><td>5301</td><td>Georges</td><td>Courtadon</td></tr>",
                            "<tr><td>5306</td><td>Gerasimus</td><td>Katsan</td></tr>",
                            "<tr><td>5320</td><td>Gopal</td><td>Sukhu</td></tr>",
                            "<tr><td>5326</td><td>Gregory</td><td>O'Mullan</td></tr>",
                            "<tr><td>5344</td><td>Harvey</td><td>Burstein</td></tr>",
                            "<tr><td>5361</td><td>Holly</td><td>Rogers</td></tr>",
                            "<tr><td>5379</td><td>Ioannis</td><td>Kostopoulos</td></tr>",
                            "<tr><td>5392</td><td>Jacob</td><td>Mackey</td></tr>",
                            "<tr><td>5399</td><td>James</td><td>Jordan</td></tr>",
                            "<tr><td>5407</td><td>James</td><td>Richie</td></tr>",
                            "<tr><td>5422</td><td>Jason</td><td>Smith</td></tr>",
                            "<tr><td>5430</td><td>Jeff</td><td>Maskovsky</td></tr>",
                            "<tr><td>5433</td><td>Jeffrey</td><td>Bird</td></tr>",
                            "<tr><td>5435</td><td>Jeffrey</td><td>Farber</td></tr>",
                            "<tr><td>5437</td><td>Jeffrey</td><td>Marsh</td></tr>",
                            "<tr><td>5439</td><td>Jeffrey</td><td>Satenstein</td></tr>",
                            "<tr><td>5464</td><td>Ji Young</td><td>Kim</td></tr>",
                            "<tr><td>5466</td><td>Jia Xuan</td><td>Zhang</td></tr>",
                            "<tr><td>5475</td><td>Jinyo</td><td>Kim</td></tr>",
                            "<tr><td>5478</td><td>Joan</td><td>Nix</td></tr>",
                            "<tr><td>5484</td><td>Joel</td><td>Sneed</td></tr>",
                            "<tr><td>5487</td><td>John</td><td>Dennehy</td></tr>",
                            "<tr><td>5505</td><td>Johnathan</td><td>Thayer</td></tr>",
                            "<tr><td>5519</td><td>Joseph</td><td>Cohen</td></tr>",
                            "<tr><td>5533</td><td>Joshua</td><td>Brumberg</td></tr>",
                            "<tr><td>5540</td><td>Joyce</td><td>Warren</td></tr>",
                            "<tr><td>5558</td><td>Julia</td><td>Sneeringer</td></tr>",
                            "<tr><td>5565</td><td>Jung Min</td><td>Kang</td></tr>",
                            "<tr><td>5568</td><td>Justin</td><td>Storbeck</td></tr>",
                            "<tr><td>5572</td><td>Kamal</td><td>Soleimani</td></tr>",
                            "<tr><td>5588</td><td>Karl</td><td>Fath</td></tr>",
                            "<tr><td>5593</td><td>Kate</td><td>Schnur</td></tr>",
                            "<tr><td>5596</td><td>Katherine</td><td>Profeta</td></tr>",
                            "<tr><td>5609</td><td>Kelly</td><td>Seufert</td></tr>",
                            "<tr><td>5624</td><td>Kimberly</td><td>Reyes-Giordano</td></tr>",
                            "<tr><td>5675</td><td>Lewis</td><td>Cook</td></tr>",
                            "<tr><td>5705</td><td>Luc</td><td>Marest</td></tr>",
                            "<tr><td>5741</td><td>Mari</td><td>Fujimoto</td></tr>",
                            "<tr><td>5742</td><td>Maria</td><td>Argyros</td></tr>",
                            "<tr><td>5757</td><td>Marianne</td><td>Land</td></tr>",
                            "<tr><td>5764</td><td>Mark</td><td>Simon</td></tr>",
                            "<tr><td>5783</td><td>Matthew</td><td>Fried</td></tr>",
                            "<tr><td>5801</td><td>Meghan</td><td>Healey</td></tr>",
                            "<tr><td>5833</td><td>Michael</td><td>Musuraca</td></tr>",
                            "<tr><td>5848</td><td>Mihaela</td><td>Robila</td></tr>",
                            "<tr><td>5863</td><td>Mitchell</td><td>Shur</td></tr>",
                            "<tr><td>5882</td><td>Namseok</td><td>Yong</td></tr>",
                            "<tr><td>5891</td><td>Nathalia</td><td>Holtzman</td></tr>",
                            "<tr><td>5920</td><td>Nora</td><td>Carr</td></tr>",
                            "<tr><td>5921</td><td>Nora</td><td>Teikmanis</td></tr>",
                            "<tr><td>5933</td><td>Omri</td><td>Elisha</td></tr>",
                            "<tr><td>5968</td><td>Peter</td><td>Calandra</td></tr>",
                            "<tr><td>5977</td><td>Peter</td><td>Vellon</td></tr>",
                            "<tr><td>6002</td><td>Rebecca</td><td>Taleghani</td></tr>",
                            "<tr><td>6012</td><td>Richard</td><td>Bodnar</td></tr>",
                            "<tr><td>6016</td><td>Richard</td><td>Maroko</td></tr>",
                            "<tr><td>6025</td><td>Riddhi</td><td>Chauhan</td></tr>",
                            "<tr><td>6029</td><td>Robert</td><td>Engel</td></tr>",
                            "<tr><td>6095</td><td>Sanjai</td><td>Kumar</td></tr>",
                            "<tr><td>6105</td><td>Sarah</td><td>Covington</td></tr>",
                            "<tr><td>6116</td><td>Scott</td><td>Larson</td></tr>",
                            "<tr><td>6126</td><td>Seong Yeon</td><td>Ko</td></tr>",
                            "<tr><td>6130</td><td>Serinity</td><td>Young</td></tr>",
                            "<tr><td>6144</td><td>Sheldon</td><td>Wayman</td></tr>",
                            "<tr><td>6163</td><td>So</td><td>Takei</td></tr>",
                            "<tr><td>6165</td><td>Sonal</td><td>Soni</td></tr>",
                            "<tr><td>6172</td><td>Soribel</td><td>Genao</td></tr>",
                            "<tr><td>6202</td><td>Sue</td><td>Goldhaber</td></tr>",
                            "<tr><td>6250</td><td>Theresa</td><td>Gurl</td></tr>",
                            "<tr><td>6275</td><td>Tomas, Francisco</td><td>Penaranda Tomas</td></tr>",
                            "<tr><td>6277</td><td>Toni</td><td>Spring</td></tr>",
                            "<tr><td>6289</td><td>Uri</td><td>Samuni</td></tr>",
                            "<tr><td>6316</td><td>Warren</td><td>Woodfin</td></tr>",
                            "<tr><td>6338</td><td>Wilma</td><td>Saffran</td></tr>",
                            "<tr><td>6351</td><td>Yaching</td><td>Hung</td></tr>",
                            "<tr><td>6354</td><td>Yan</td><td>Sun</td></tr>",
                            "<tr><td>6364</td><td>Yoko</td><td>Nomura</td></tr>",
                            "<tr><td>6367</td><td>Yoshio</td><td>Aomori</td></tr>",
                            "<tr><td>6369</td><td>Yu</td><td>Chen</td></tr>",
                            "<tr><td>6375</td><td>Yves</td><td>Cloarec</td></tr>",
                            "<tr><td>6378</td><td>Zahra</td><td>Zakeri</td></tr>",
                            "</table>"
                        ]
                    }
                }
            ],
            "execution_count": 1
        },
        {
            "cell_type": "markdown",
            "source": [
                "<span style=\"color: #09885a;\">2</span>) How many instructors are <span style=\"color: #0000ff;\">in</span> each department?"
            ],
            "metadata": {
                "language": "sql",
                "azdata_cell_guid": "c424056c-1ead-4ba6-8221-7623f5a59a5f"
            },
            "attachments": {}
        },
        {
            "cell_type": "code",
            "source": [
                "USE QueensClassSchedule;\n",
                "SELECT COUNT(DI.InstrustorID) as TotalProfessor,D.DepartmentName\n",
                "FROM dbo.DepartmentInstructor as DI\n",
                "JOIN dbo.Department as D\n",
                "ON DI.DepartmentID = D.DepartmentID\n",
                "GROUP BY D.DepartmentName;"
            ],
            "metadata": {
                "language": "sql",
                "azdata_cell_guid": "1265248f-1cd1-4517-87b5-bfa94d17493f"
            },
            "outputs": [
                {
                    "output_type": "display_data",
                    "data": {
                        "text/html": "(79 rows affected)"
                    },
                    "metadata": {}
                },
                {
                    "output_type": "display_data",
                    "data": {
                        "text/html": "Total execution time: 00:00:00.008"
                    },
                    "metadata": {}
                },
                {
                    "output_type": "execute_result",
                    "metadata": {},
                    "execution_count": 2,
                    "data": {
                        "application/vnd.dataresource+json": {
                            "schema": {
                                "fields": [
                                    {
                                        "name": "TotalProfessor"
                                    },
                                    {
                                        "name": "DepartmentName"
                                    }
                                ]
                            },
                            "data": [
                                {
                                    "0": "58",
                                    "1": "ACCT"
                                },
                                {
                                    "0": "1",
                                    "1": "AFST"
                                },
                                {
                                    "0": "2",
                                    "1": "AMST"
                                },
                                {
                                    "0": "32",
                                    "1": "ANTH"
                                },
                                {
                                    "0": "2",
                                    "1": "ARAB"
                                },
                                {
                                    "0": "12",
                                    "1": "ARTH"
                                },
                                {
                                    "0": "64",
                                    "1": "ARTS"
                                },
                                {
                                    "0": "3",
                                    "1": "ASTR"
                                },
                                {
                                    "0": "10",
                                    "1": "BALA"
                                },
                                {
                                    "0": "2",
                                    "1": "BIOCH"
                                },
                                {
                                    "0": "62",
                                    "1": "BIOL"
                                },
                                {
                                    "0": "19",
                                    "1": "BUS"
                                },
                                {
                                    "0": "3",
                                    "1": "CESL"
                                },
                                {
                                    "0": "50",
                                    "1": "CHEM"
                                },
                                {
                                    "0": "6",
                                    "1": "CHIN"
                                },
                                {
                                    "0": "6",
                                    "1": "CLAS"
                                },
                                {
                                    "0": "1",
                                    "1": "CMAL"
                                },
                                {
                                    "0": "23",
                                    "1": "CMLIT"
                                },
                                {
                                    "0": "1",
                                    "1": "CO-OP"
                                },
                                {
                                    "0": "53",
                                    "1": "CSCI"
                                },
                                {
                                    "0": "11",
                                    "1": "DANCE"
                                },
                                {
                                    "0": "22",
                                    "1": "DRAM"
                                },
                                {
                                    "0": "8",
                                    "1": "EAST"
                                },
                                {
                                    "0": "48",
                                    "1": "ECON"
                                },
                                {
                                    "0": "1",
                                    "1": "ECP"
                                },
                                {
                                    "0": "23",
                                    "1": "ECPCE"
                                },
                                {
                                    "0": "8",
                                    "1": "ECPEL"
                                },
                                {
                                    "0": "32",
                                    "1": "ECPSE"
                                },
                                {
                                    "0": "17",
                                    "1": "ECPSP"
                                },
                                {
                                    "0": "63",
                                    "1": "EECE"
                                },
                                {
                                    "0": "112",
                                    "1": "ENGL"
                                },
                                {
                                    "0": "19",
                                    "1": "ENSCI"
                                },
                                {
                                    "0": "3",
                                    "1": "EURO"
                                },
                                {
                                    "0": "62",
                                    "1": "FNES"
                                },
                                {
                                    "0": "7",
                                    "1": "FREN"
                                },
                                {
                                    "0": "18",
                                    "1": "GEOL"
                                },
                                {
                                    "0": "5",
                                    "1": "GERM"
                                },
                                {
                                    "0": "1",
                                    "1": "GREEK"
                                },
                                {
                                    "0": "3",
                                    "1": "GRKMD"
                                },
                                {
                                    "0": "3",
                                    "1": "HEBRW"
                                },
                                {
                                    "0": "50",
                                    "1": "HIST"
                                },
                                {
                                    "0": "23",
                                    "1": "HMNS"
                                },
                                {
                                    "0": "6",
                                    "1": "HNRS"
                                },
                                {
                                    "0": "2",
                                    "1": "HSS"
                                },
                                {
                                    "0": "8",
                                    "1": "HTH"
                                },
                                {
                                    "0": "1",
                                    "1": "IRST"
                                },
                                {
                                    "0": "10",
                                    "1": "ITAL"
                                },
                                {
                                    "0": "25",
                                    "1": "JAZZ"
                                },
                                {
                                    "0": "1",
                                    "1": "JEWST"
                                },
                                {
                                    "0": "5",
                                    "1": "JOURN"
                                },
                                {
                                    "0": "3",
                                    "1": "JPNS"
                                },
                                {
                                    "0": "8",
                                    "1": "KOR"
                                },
                                {
                                    "0": "4",
                                    "1": "LABST"
                                },
                                {
                                    "0": "3",
                                    "1": "LATIN"
                                },
                                {
                                    "0": "3",
                                    "1": "LBLST"
                                },
                                {
                                    "0": "24",
                                    "1": "LBSCI"
                                },
                                {
                                    "0": "38",
                                    "1": "LCD"
                                },
                                {
                                    "0": "5",
                                    "1": "LIBR"
                                },
                                {
                                    "0": "94",
                                    "1": "MATH"
                                },
                                {
                                    "0": "21",
                                    "1": "MEDST"
                                },
                                {
                                    "0": "2",
                                    "1": "MES"
                                },
                                {
                                    "0": "100",
                                    "1": "MUSIC"
                                },
                                {
                                    "0": "18",
                                    "1": "PHIL"
                                },
                                {
                                    "0": "26",
                                    "1": "PHYS"
                                },
                                {
                                    "0": "3",
                                    "1": "PORT"
                                },
                                {
                                    "0": "32",
                                    "1": "PSCI"
                                },
                                {
                                    "0": "108",
                                    "1": "PSYCH"
                                },
                                {
                                    "0": "2",
                                    "1": "RLGST"
                                },
                                {
                                    "0": "9",
                                    "1": "RM"
                                },
                                {
                                    "0": "4",
                                    "1": "RUSS"
                                },
                                {
                                    "0": "1",
                                    "1": "SEEK"
                                },
                                {
                                    "0": "54",
                                    "1": "SEYS"
                                },
                                {
                                    "0": "5",
                                    "1": "SEYSL"
                                },
                                {
                                    "0": "63",
                                    "1": "SOC"
                                },
                                {
                                    "0": "28",
                                    "1": "SPAN"
                                },
                                {
                                    "0": "17",
                                    "1": "SPST"
                                },
                                {
                                    "0": "3",
                                    "1": "STPER"
                                },
                                {
                                    "0": "41",
                                    "1": "URBST"
                                },
                                {
                                    "0": "4",
                                    "1": "WGS"
                                }
                            ]
                        },
                        "text/html": [
                            "<table>",
                            "<tr><th>TotalProfessor</th><th>DepartmentName</th></tr>",
                            "<tr><td>58</td><td>ACCT</td></tr>",
                            "<tr><td>1</td><td>AFST</td></tr>",
                            "<tr><td>2</td><td>AMST</td></tr>",
                            "<tr><td>32</td><td>ANTH</td></tr>",
                            "<tr><td>2</td><td>ARAB</td></tr>",
                            "<tr><td>12</td><td>ARTH</td></tr>",
                            "<tr><td>64</td><td>ARTS</td></tr>",
                            "<tr><td>3</td><td>ASTR</td></tr>",
                            "<tr><td>10</td><td>BALA</td></tr>",
                            "<tr><td>2</td><td>BIOCH</td></tr>",
                            "<tr><td>62</td><td>BIOL</td></tr>",
                            "<tr><td>19</td><td>BUS</td></tr>",
                            "<tr><td>3</td><td>CESL</td></tr>",
                            "<tr><td>50</td><td>CHEM</td></tr>",
                            "<tr><td>6</td><td>CHIN</td></tr>",
                            "<tr><td>6</td><td>CLAS</td></tr>",
                            "<tr><td>1</td><td>CMAL</td></tr>",
                            "<tr><td>23</td><td>CMLIT</td></tr>",
                            "<tr><td>1</td><td>CO-OP</td></tr>",
                            "<tr><td>53</td><td>CSCI</td></tr>",
                            "<tr><td>11</td><td>DANCE</td></tr>",
                            "<tr><td>22</td><td>DRAM</td></tr>",
                            "<tr><td>8</td><td>EAST</td></tr>",
                            "<tr><td>48</td><td>ECON</td></tr>",
                            "<tr><td>1</td><td>ECP</td></tr>",
                            "<tr><td>23</td><td>ECPCE</td></tr>",
                            "<tr><td>8</td><td>ECPEL</td></tr>",
                            "<tr><td>32</td><td>ECPSE</td></tr>",
                            "<tr><td>17</td><td>ECPSP</td></tr>",
                            "<tr><td>63</td><td>EECE</td></tr>",
                            "<tr><td>112</td><td>ENGL</td></tr>",
                            "<tr><td>19</td><td>ENSCI</td></tr>",
                            "<tr><td>3</td><td>EURO</td></tr>",
                            "<tr><td>62</td><td>FNES</td></tr>",
                            "<tr><td>7</td><td>FREN</td></tr>",
                            "<tr><td>18</td><td>GEOL</td></tr>",
                            "<tr><td>5</td><td>GERM</td></tr>",
                            "<tr><td>1</td><td>GREEK</td></tr>",
                            "<tr><td>3</td><td>GRKMD</td></tr>",
                            "<tr><td>3</td><td>HEBRW</td></tr>",
                            "<tr><td>50</td><td>HIST</td></tr>",
                            "<tr><td>23</td><td>HMNS</td></tr>",
                            "<tr><td>6</td><td>HNRS</td></tr>",
                            "<tr><td>2</td><td>HSS</td></tr>",
                            "<tr><td>8</td><td>HTH</td></tr>",
                            "<tr><td>1</td><td>IRST</td></tr>",
                            "<tr><td>10</td><td>ITAL</td></tr>",
                            "<tr><td>25</td><td>JAZZ</td></tr>",
                            "<tr><td>1</td><td>JEWST</td></tr>",
                            "<tr><td>5</td><td>JOURN</td></tr>",
                            "<tr><td>3</td><td>JPNS</td></tr>",
                            "<tr><td>8</td><td>KOR</td></tr>",
                            "<tr><td>4</td><td>LABST</td></tr>",
                            "<tr><td>3</td><td>LATIN</td></tr>",
                            "<tr><td>3</td><td>LBLST</td></tr>",
                            "<tr><td>24</td><td>LBSCI</td></tr>",
                            "<tr><td>38</td><td>LCD</td></tr>",
                            "<tr><td>5</td><td>LIBR</td></tr>",
                            "<tr><td>94</td><td>MATH</td></tr>",
                            "<tr><td>21</td><td>MEDST</td></tr>",
                            "<tr><td>2</td><td>MES</td></tr>",
                            "<tr><td>100</td><td>MUSIC</td></tr>",
                            "<tr><td>18</td><td>PHIL</td></tr>",
                            "<tr><td>26</td><td>PHYS</td></tr>",
                            "<tr><td>3</td><td>PORT</td></tr>",
                            "<tr><td>32</td><td>PSCI</td></tr>",
                            "<tr><td>108</td><td>PSYCH</td></tr>",
                            "<tr><td>2</td><td>RLGST</td></tr>",
                            "<tr><td>9</td><td>RM</td></tr>",
                            "<tr><td>4</td><td>RUSS</td></tr>",
                            "<tr><td>1</td><td>SEEK</td></tr>",
                            "<tr><td>54</td><td>SEYS</td></tr>",
                            "<tr><td>5</td><td>SEYSL</td></tr>",
                            "<tr><td>63</td><td>SOC</td></tr>",
                            "<tr><td>28</td><td>SPAN</td></tr>",
                            "<tr><td>17</td><td>SPST</td></tr>",
                            "<tr><td>3</td><td>STPER</td></tr>",
                            "<tr><td>41</td><td>URBST</td></tr>",
                            "<tr><td>4</td><td>WGS</td></tr>",
                            "</table>"
                        ]
                    }
                }
            ],
            "execution_count": 2
        },
        {
            "cell_type": "markdown",
            "source": [
                "<span style=\"color: #09885a;\">3</span>) How may classes that are being taught that semester grouped <span style=\"color: #0000ff;\">by</span> course <span style=\"color: #0000ff;\">and</span> aggregating the total enrollment, total class <span style=\"color: #0000ff;\">limit</span> <span style=\"color: #0000ff;\">and</span> the <span style=\"color: #0000ff;\">percentage</span> of enrollment."
            ],
            "metadata": {
                "language": "sql",
                "azdata_cell_guid": "2274e610-1ee2-44eb-9019-28f2aedd314d"
            },
            "attachments": {}
        },
        {
            "cell_type": "code",
            "source": [
                "USE QueensClassSchedule;\n",
                "SELECT COUNT(Class.ClassID) as Classes, Course.CourseName, SUM(Enrolled) as Enrolled, SUM(MaxEnrollment) as TotalEnrollment,\n",
                "    CASE \n",
                "    WHEN SUM(MaxEnrollment) = 0\n",
                "    THEN NULL\n",
                "    ELSE ROUND(CAST(( SUM(Enrolled) * 100.0 / SUM(MaxEnrollment)) AS FLOAT), 2)\n",
                "    END AS Percentage\n",
                "FROM Course\n",
                "JOIN dbo.Class\n",
                "ON Course.CourseID = Class.CourseID\n",
                "JOIN ClassDetail as CD\n",
                "ON CD.ClassDetailID = Class.ClassDetailID\n",
                "GROUP BY Course.CourseName;"
            ],
            "metadata": {
                "language": "sql",
                "azdata_cell_guid": "563174f0-9a10-4f35-97d7-fbf0cebd8b8e",
                "tags": []
            },
            "outputs": [
                {
                    "output_type": "display_data",
                    "data": {
                        "text/html": "(670 rows affected)"
                    },
                    "metadata": {}
                },
                {
                    "output_type": "display_data",
                    "data": {
                        "text/html": "Total execution time: 00:00:00.108"
                    },
                    "metadata": {}
                },
                {
                    "output_type": "execute_result",
                    "metadata": {},
                    "execution_count": 3,
                    "data": {
                        "application/vnd.dataresource+json": {
                            "schema": {
                                "fields": [
                                    {
                                        "name": "Classes"
                                    },
                                    {
                                        "name": "CourseName"
                                    },
                                    {
                                        "name": "Enrolled"
                                    },
                                    {
                                        "name": "TotalEnrollment"
                                    },
                                    {
                                        "name": "Percentage"
                                    }
                                ]
                            },
                            "data": [
                                {
                                    "0": "498",
                                    "1": "ACCT 322",
                                    "2": "19692",
                                    "3": "22740",
                                    "4": "86.6"
                                },
                                {
                                    "0": "13",
                                    "1": "ACCT 343",
                                    "2": "390",
                                    "3": "390",
                                    "4": "100"
                                },
                                {
                                    "0": "68",
                                    "1": "ACCT 350",
                                    "2": "2040",
                                    "3": "3128",
                                    "4": "65.22"
                                },
                                {
                                    "0": "798",
                                    "1": "ACCT 367",
                                    "2": "35686",
                                    "3": "42399",
                                    "4": "84.17"
                                },
                                {
                                    "0": "174",
                                    "1": "ACCT 752",
                                    "2": "1959",
                                    "3": "3480",
                                    "4": "56.29"
                                },
                                {
                                    "0": "891",
                                    "1": "ANTH 103",
                                    "2": "49374",
                                    "3": "52326",
                                    "4": "94.36"
                                },
                                {
                                    "0": "148",
                                    "1": "ANTH 104",
                                    "2": "8932",
                                    "3": "8560",
                                    "4": "104.35"
                                },
                                {
                                    "0": "20",
                                    "1": "ANTH 201",
                                    "2": "200",
                                    "3": "240",
                                    "4": "83.33"
                                },
                                {
                                    "0": "13",
                                    "1": "ANTH 225",
                                    "2": "260",
                                    "3": "260",
                                    "4": "100"
                                },
                                {
                                    "0": "5",
                                    "1": "ANTH 279",
                                    "2": "85",
                                    "3": "85",
                                    "4": "100"
                                },
                                {
                                    "0": "12",
                                    "1": "ARAB 102",
                                    "2": "336",
                                    "3": "300",
                                    "4": "112"
                                },
                                {
                                    "0": "11",
                                    "1": "ARTH 256",
                                    "2": "418",
                                    "3": "440",
                                    "4": "95"
                                },
                                {
                                    "0": "11",
                                    "1": "ARTH 300",
                                    "2": "44",
                                    "3": "110",
                                    "4": "40"
                                },
                                {
                                    "0": "168",
                                    "1": "ARTS 165",
                                    "2": "3018",
                                    "3": "2856",
                                    "4": "105.67"
                                },
                                {
                                    "0": "320",
                                    "1": "ARTS 186",
                                    "2": "5760",
                                    "3": "5440",
                                    "4": "105.88"
                                },
                                {
                                    "0": "56",
                                    "1": "ARTS 187",
                                    "2": "514",
                                    "3": "552",
                                    "4": "93.12"
                                },
                                {
                                    "0": "232",
                                    "1": "ARTS 190",
                                    "2": "4028",
                                    "3": "3944",
                                    "4": "102.13"
                                },
                                {
                                    "0": "280",
                                    "1": "ARTS 191",
                                    "2": "4760",
                                    "3": "4665",
                                    "4": "102.04"
                                },
                                {
                                    "0": "272",
                                    "1": "ARTS 193",
                                    "2": "4824",
                                    "3": "4624",
                                    "4": "104.33"
                                },
                                {
                                    "0": "21",
                                    "1": "ARTS 215",
                                    "2": "336",
                                    "3": "336",
                                    "4": "100"
                                },
                                {
                                    "0": "16",
                                    "1": "ARTS 235",
                                    "2": "64",
                                    "3": "64",
                                    "4": "100"
                                },
                                {
                                    "0": "18",
                                    "1": "ARTS 249",
                                    "2": "306",
                                    "3": "306",
                                    "4": "100"
                                },
                                {
                                    "0": "21",
                                    "1": "ARTS 250",
                                    "2": "252",
                                    "3": "357",
                                    "4": "70.59"
                                },
                                {
                                    "0": "21",
                                    "1": "ARTS 259",
                                    "2": "252",
                                    "3": "210",
                                    "4": "120"
                                },
                                {
                                    "0": "40",
                                    "1": "ARTS 260",
                                    "2": "544",
                                    "3": "600",
                                    "4": "90.67"
                                },
                                {
                                    "0": "16",
                                    "1": "ARTS 279",
                                    "2": "288",
                                    "3": "288",
                                    "4": "100"
                                },
                                {
                                    "0": "20",
                                    "1": "ARTS 282",
                                    "2": "320",
                                    "3": "280",
                                    "4": "114.29"
                                },
                                {
                                    "0": "10",
                                    "1": "ARTS 283",
                                    "2": "80",
                                    "3": "140",
                                    "4": "57.14"
                                },
                                {
                                    "0": "10",
                                    "1": "ARTS 284",
                                    "2": "20",
                                    "3": "40",
                                    "4": "50"
                                },
                                {
                                    "0": "5",
                                    "1": "ARTS 333",
                                    "2": "75",
                                    "3": "90",
                                    "4": "83.33"
                                },
                                {
                                    "0": "320",
                                    "1": "ARTS 379",
                                    "2": "480",
                                    "3": "320",
                                    "4": "150"
                                },
                                {
                                    "0": "11",
                                    "1": "ARTS 724",
                                    "2": "121",
                                    "3": "154",
                                    "4": "78.57"
                                },
                                {
                                    "0": "1870",
                                    "1": "BIOL 041",
                                    "2": "37500",
                                    "3": "36740",
                                    "4": "102.07"
                                },
                                {
                                    "0": "5837",
                                    "1": "BIOL 201",
                                    "2": "122642",
                                    "3": "124956",
                                    "4": "98.15"
                                },
                                {
                                    "0": "22528",
                                    "1": "BIOL 285",
                                    "2": "584936",
                                    "3": "608784",
                                    "4": "96.08"
                                },
                                {
                                    "0": "15",
                                    "1": "BIOL 286",
                                    "2": "1935",
                                    "3": "1800",
                                    "4": "107.5"
                                },
                                {
                                    "0": "153",
                                    "1": "BIOL 310",
                                    "2": "1377",
                                    "3": "1377",
                                    "4": "100"
                                },
                                {
                                    "0": "54",
                                    "1": "CESL 031",
                                    "2": "828",
                                    "3": "972",
                                    "4": "85.19"
                                },
                                {
                                    "0": "6",
                                    "1": "CESL 284",
                                    "2": "138",
                                    "3": "120",
                                    "4": "115"
                                },
                                {
                                    "0": "23",
                                    "1": "CHEM 378",
                                    "2": "69",
                                    "3": "460",
                                    "4": "15"
                                },
                                {
                                    "0": "184",
                                    "1": "CHEM 381",
                                    "2": "184",
                                    "3": "4600",
                                    "4": "4"
                                },
                                {
                                    "0": "23",
                                    "1": "CHEM 760",
                                    "2": "69",
                                    "3": "805",
                                    "4": "8.57"
                                },
                                {
                                    "0": "12",
                                    "1": "CHIN 317",
                                    "2": "360",
                                    "3": "360",
                                    "4": "100"
                                },
                                {
                                    "0": "7",
                                    "1": "CHIN 320",
                                    "2": "252",
                                    "3": "210",
                                    "4": "120"
                                },
                                {
                                    "0": "8",
                                    "1": "CHIN 340",
                                    "2": "240",
                                    "3": "240",
                                    "4": "100"
                                },
                                {
                                    "0": "15",
                                    "1": "CHIN 370",
                                    "2": "525",
                                    "3": "450",
                                    "4": "116.67"
                                },
                                {
                                    "0": "497",
                                    "1": "CLAS 150",
                                    "2": "13251",
                                    "3": "14910",
                                    "4": "88.87"
                                },
                                {
                                    "0": "52",
                                    "1": "CSCI 087",
                                    "2": "520",
                                    "3": "1040",
                                    "4": "50"
                                },
                                {
                                    "0": "5984",
                                    "1": "CSCI 111",
                                    "2": "275281",
                                    "3": "276012",
                                    "4": "99.74"
                                },
                                {
                                    "0": "4425",
                                    "1": "CSCI 211",
                                    "2": "187425",
                                    "3": "191685",
                                    "4": "97.78"
                                },
                                {
                                    "0": "4440",
                                    "1": "CSCI 212",
                                    "2": "173115",
                                    "3": "180975",
                                    "4": "95.66"
                                },
                                {
                                    "0": "702",
                                    "1": "CSCI 240",
                                    "2": "28764",
                                    "3": "29238",
                                    "4": "98.38"
                                },
                                {
                                    "0": "168",
                                    "1": "CSCI 316",
                                    "2": "7170",
                                    "3": "7560",
                                    "4": "94.84"
                                },
                                {
                                    "0": "177",
                                    "1": "CSCI 323",
                                    "2": "5706",
                                    "3": "5886",
                                    "4": "96.94"
                                },
                                {
                                    "0": "20",
                                    "1": "CSCI 332",
                                    "2": "340",
                                    "3": "340",
                                    "4": "100"
                                },
                                {
                                    "0": "308",
                                    "1": "CSCI 340",
                                    "2": "12080",
                                    "3": "12320",
                                    "4": "98.05"
                                },
                                {
                                    "0": "320",
                                    "1": "CSCI 343",
                                    "2": "12172",
                                    "3": "12240",
                                    "4": "99.44"
                                },
                                {
                                    "0": "177",
                                    "1": "CSCI 370",
                                    "2": "4563",
                                    "3": "5310",
                                    "4": "85.93"
                                },
                                {
                                    "0": "13",
                                    "1": "DRAM 204",
                                    "2": "286",
                                    "3": "312",
                                    "4": "91.67"
                                },
                                {
                                    "0": "13",
                                    "1": "DRAM 308",
                                    "2": "195",
                                    "3": "325",
                                    "4": "60"
                                },
                                {
                                    "0": "60",
                                    "1": "DRAM 329",
                                    "2": "624",
                                    "3": "1800",
                                    "4": "34.67"
                                },
                                {
                                    "0": "36",
                                    "1": "EAST 290",
                                    "2": "100",
                                    "3": "516",
                                    "4": "19.38"
                                },
                                {
                                    "0": "64",
                                    "1": "ECON 207",
                                    "2": "2050",
                                    "3": "1900",
                                    "4": "107.89"
                                },
                                {
                                    "0": "15",
                                    "1": "ECON 208",
                                    "2": "450",
                                    "3": "450",
                                    "4": "100"
                                },
                                {
                                    "0": "16",
                                    "1": "ECON 212",
                                    "2": "800",
                                    "3": "720",
                                    "4": "111.11"
                                },
                                {
                                    "0": "14",
                                    "1": "ECON 213",
                                    "2": "294",
                                    "3": "350",
                                    "4": "84"
                                },
                                {
                                    "0": "3930",
                                    "1": "ECON 382",
                                    "2": "81240",
                                    "3": "73080",
                                    "4": "111.17"
                                },
                                {
                                    "0": "117",
                                    "1": "EECE 350",
                                    "2": "2028",
                                    "3": "2340",
                                    "4": "86.67"
                                },
                                {
                                    "0": "135",
                                    "1": "EECE 351",
                                    "2": "2205",
                                    "3": "2700",
                                    "4": "81.67"
                                },
                                {
                                    "0": "120",
                                    "1": "EECE 352",
                                    "2": "1944",
                                    "3": "2400",
                                    "4": "81"
                                },
                                {
                                    "0": "144",
                                    "1": "EECE 750",
                                    "2": "2584",
                                    "3": "3240",
                                    "4": "79.75"
                                },
                                {
                                    "0": "24",
                                    "1": "EECE 803",
                                    "2": "432",
                                    "3": "480",
                                    "4": "90"
                                },
                                {
                                    "0": "17612",
                                    "1": "ENGL 130",
                                    "2": "394716",
                                    "3": "405853",
                                    "4": "97.26"
                                },
                                {
                                    "0": "180",
                                    "1": "ENGL 241",
                                    "2": "4724",
                                    "3": "4860",
                                    "4": "97.2"
                                },
                                {
                                    "0": "180",
                                    "1": "ENGL 244",
                                    "2": "4184",
                                    "3": "4860",
                                    "4": "86.09"
                                },
                                {
                                    "0": "14",
                                    "1": "ENGL 320",
                                    "2": "420",
                                    "3": "420",
                                    "4": "100"
                                },
                                {
                                    "0": "16",
                                    "1": "ENGL 352",
                                    "2": "480",
                                    "3": "464",
                                    "4": "103.45"
                                },
                                {
                                    "0": "14",
                                    "1": "ENGL 354",
                                    "2": "434",
                                    "3": "420",
                                    "4": "103.33"
                                },
                                {
                                    "0": "14",
                                    "1": "ENGL 387",
                                    "2": "420",
                                    "3": "420",
                                    "4": "100"
                                },
                                {
                                    "0": "13",
                                    "1": "ENGL 719",
                                    "2": "104",
                                    "3": "156",
                                    "4": "66.67"
                                },
                                {
                                    "0": "18",
                                    "1": "ENGL 723",
                                    "2": "180",
                                    "3": "216",
                                    "4": "83.33"
                                },
                                {
                                    "0": "2",
                                    "1": "ENGL 760",
                                    "2": "18",
                                    "3": "30",
                                    "4": "60"
                                },
                                {
                                    "0": "13",
                                    "1": "ENGL 761",
                                    "2": "143",
                                    "3": "195",
                                    "4": "73.33"
                                },
                                {
                                    "0": "6080",
                                    "1": "FNES 012",
                                    "2": "24860",
                                    "3": "41800",
                                    "4": "59.47"
                                },
                                {
                                    "0": "144",
                                    "1": "FNES 030",
                                    "2": "4032",
                                    "3": "3996",
                                    "4": "100.9"
                                },
                                {
                                    "0": "3",
                                    "1": "FNES 126",
                                    "2": "57",
                                    "3": "54",
                                    "4": "105.56"
                                },
                                {
                                    "0": "44",
                                    "1": "FNES 147",
                                    "2": "2420",
                                    "3": "2420",
                                    "4": "100"
                                },
                                {
                                    "0": "26",
                                    "1": "FNES 151",
                                    "2": "1098",
                                    "3": "1240",
                                    "4": "88.55"
                                },
                                {
                                    "0": "18",
                                    "1": "FNES 235",
                                    "2": "630",
                                    "3": "612",
                                    "4": "102.94"
                                },
                                {
                                    "0": "12",
                                    "1": "FNES 249",
                                    "2": "216",
                                    "3": "300",
                                    "4": "72"
                                },
                                {
                                    "0": "11",
                                    "1": "FNES 275",
                                    "2": "440",
                                    "3": "440",
                                    "4": "100"
                                },
                                {
                                    "0": "12",
                                    "1": "FNES 347",
                                    "2": "156",
                                    "3": "300",
                                    "4": "52"
                                },
                                {
                                    "0": "153",
                                    "1": "FNES 380",
                                    "2": "2448",
                                    "3": "2754",
                                    "4": "88.89"
                                },
                                {
                                    "0": "3",
                                    "1": "FNES 538",
                                    "2": "24",
                                    "3": "45",
                                    "4": "53.33"
                                },
                                {
                                    "0": "1",
                                    "1": "FNES 573",
                                    "2": "7",
                                    "3": "15",
                                    "4": "46.67"
                                },
                                {
                                    "0": "10",
                                    "1": "FNES 574",
                                    "2": "30",
                                    "3": "100",
                                    "4": "30"
                                },
                                {
                                    "0": "18",
                                    "1": "FNES 714",
                                    "2": "270",
                                    "3": "270",
                                    "4": "100"
                                },
                                {
                                    "0": "2",
                                    "1": "FNES 774",
                                    "2": "24",
                                    "3": "24",
                                    "4": "100"
                                },
                                {
                                    "0": "21",
                                    "1": "FNES 781",
                                    "2": "147",
                                    "3": "420",
                                    "4": "35"
                                },
                                {
                                    "0": "12",
                                    "1": "FNES 796",
                                    "2": "168",
                                    "3": "60",
                                    "4": "280"
                                },
                                {
                                    "0": "8",
                                    "1": "FREN 235",
                                    "2": "112",
                                    "3": "200",
                                    "4": "56"
                                },
                                {
                                    "0": "12",
                                    "1": "FREN 780",
                                    "2": "84",
                                    "3": "300",
                                    "4": "28"
                                },
                                {
                                    "0": "19",
                                    "1": "HIST 111",
                                    "2": "893",
                                    "3": "950",
                                    "4": "94"
                                },
                                {
                                    "0": "64",
                                    "1": "HIST 145",
                                    "2": "1328",
                                    "3": "1920",
                                    "4": "69.17"
                                },
                                {
                                    "0": "66",
                                    "1": "HIST 160",
                                    "2": "2226",
                                    "3": "2310",
                                    "4": "96.36"
                                },
                                {
                                    "0": "19",
                                    "1": "HIST 164",
                                    "2": "969",
                                    "3": "950",
                                    "4": "102"
                                },
                                {
                                    "0": "18",
                                    "1": "HIST 209",
                                    "2": "594",
                                    "3": "810",
                                    "4": "73.33"
                                },
                                {
                                    "0": "12",
                                    "1": "HIST 231",
                                    "2": "264",
                                    "3": "420",
                                    "4": "62.86"
                                },
                                {
                                    "0": "18",
                                    "1": "HIST 255",
                                    "2": "630",
                                    "3": "630",
                                    "4": "100"
                                },
                                {
                                    "0": "18",
                                    "1": "HIST 299",
                                    "2": "900",
                                    "3": "900",
                                    "4": "100"
                                },
                                {
                                    "0": "14",
                                    "1": "HIST 311",
                                    "2": "476",
                                    "3": "490",
                                    "4": "97.14"
                                },
                                {
                                    "0": "15",
                                    "1": "HIST 791",
                                    "2": "225",
                                    "3": "225",
                                    "4": "100"
                                },
                                {
                                    "0": "10",
                                    "1": "HIST 792",
                                    "2": "30",
                                    "3": "150",
                                    "4": "20"
                                },
                                {
                                    "0": "8",
                                    "1": "JAZZ 704",
                                    "2": "88",
                                    "3": "160",
                                    "4": "55"
                                },
                                {
                                    "0": "8",
                                    "1": "JAZZ 705",
                                    "2": "184",
                                    "3": "160",
                                    "4": "115"
                                },
                                {
                                    "0": "696",
                                    "1": "MATH 110",
                                    "2": "12816",
                                    "3": "16440",
                                    "4": "77.96"
                                },
                                {
                                    "0": "5502",
                                    "1": "MATH 115",
                                    "2": "111258",
                                    "3": "120855",
                                    "4": "92.06"
                                },
                                {
                                    "0": "13",
                                    "1": "MATH 116",
                                    "2": "247",
                                    "3": "325",
                                    "4": "76"
                                },
                                {
                                    "0": "310",
                                    "1": "MATH 201",
                                    "2": "6440",
                                    "3": "7500",
                                    "4": "85.87"
                                },
                                {
                                    "0": "12",
                                    "1": "MATH 272",
                                    "2": "48",
                                    "3": "300",
                                    "4": "16"
                                },
                                {
                                    "0": "11",
                                    "1": "MATH 555",
                                    "2": "231",
                                    "3": "275",
                                    "4": "84"
                                },
                                {
                                    "0": "6",
                                    "1": "MATH 628",
                                    "2": "138",
                                    "3": "138",
                                    "4": "100"
                                },
                                {
                                    "0": "15",
                                    "1": "MES 255W",
                                    "2": "255",
                                    "3": "375",
                                    "4": "68"
                                },
                                {
                                    "0": "129",
                                    "1": "PHIL 109",
                                    "2": "2175",
                                    "3": "2805",
                                    "4": "77.54"
                                },
                                {
                                    "0": "42",
                                    "1": "PHIL 116",
                                    "2": "1344",
                                    "3": "1470",
                                    "4": "91.43"
                                },
                                {
                                    "0": "18",
                                    "1": "PHIL 140",
                                    "2": "576",
                                    "3": "630",
                                    "4": "91.43"
                                },
                                {
                                    "0": "7",
                                    "1": "PHIL 143",
                                    "2": "210",
                                    "3": "210",
                                    "4": "100"
                                },
                                {
                                    "0": "13",
                                    "1": "PHIL 743",
                                    "2": "13",
                                    "3": "65",
                                    "4": "20"
                                },
                                {
                                    "0": "21",
                                    "1": "PHIL 778",
                                    "2": "21",
                                    "3": "105",
                                    "4": "20"
                                },
                                {
                                    "0": "28",
                                    "1": "PHYS 007",
                                    "2": "252",
                                    "3": "1400",
                                    "4": "18"
                                },
                                {
                                    "0": "2",
                                    "1": "PHYS 225",
                                    "2": "36",
                                    "3": "32",
                                    "4": "112.5"
                                },
                                {
                                    "0": "28",
                                    "1": "PHYS 507",
                                    "2": "56",
                                    "3": "700",
                                    "4": "8"
                                },
                                {
                                    "0": "7",
                                    "1": "PHYS 611",
                                    "2": "21",
                                    "3": "70",
                                    "4": "30"
                                },
                                {
                                    "0": "2",
                                    "1": "PHYS 672",
                                    "2": "14",
                                    "3": "30",
                                    "4": "46.67"
                                },
                                {
                                    "0": "30",
                                    "1": "PORT 111",
                                    "2": "750",
                                    "3": "750",
                                    "4": "100"
                                },
                                {
                                    "0": "70",
                                    "1": "PSCI 200",
                                    "2": "2400",
                                    "3": "2400",
                                    "4": "100"
                                },
                                {
                                    "0": "15",
                                    "1": "PSCI 232",
                                    "2": "375",
                                    "3": "825",
                                    "4": "45.45"
                                },
                                {
                                    "0": "19",
                                    "1": "PSCI 234",
                                    "2": "950",
                                    "3": "950",
                                    "4": "100"
                                },
                                {
                                    "0": "15",
                                    "1": "PSCI 235",
                                    "2": "330",
                                    "3": "825",
                                    "4": "40"
                                },
                                {
                                    "0": "7",
                                    "1": "SEEK 195",
                                    "2": "105",
                                    "3": "140",
                                    "4": "75"
                                },
                                {
                                    "0": "290",
                                    "1": "SEYS 340",
                                    "2": "6160",
                                    "3": "6050",
                                    "4": "101.82"
                                },
                                {
                                    "0": "12",
                                    "1": "SEYS 564",
                                    "2": "216",
                                    "3": "300",
                                    "4": "72"
                                },
                                {
                                    "0": "117",
                                    "1": "SEYS 700",
                                    "2": "1956",
                                    "3": "2340",
                                    "4": "83.59"
                                },
                                {
                                    "0": "13",
                                    "1": "SEYS 782",
                                    "2": "104",
                                    "3": "325",
                                    "4": "32"
                                },
                                {
                                    "0": "14",
                                    "1": "SEYS 784",
                                    "2": "196",
                                    "3": "350",
                                    "4": "56"
                                },
                                {
                                    "0": "8",
                                    "1": "SPAN 047",
                                    "2": "200",
                                    "3": "200",
                                    "4": "100"
                                },
                                {
                                    "0": "2085",
                                    "1": "SPAN 111",
                                    "2": "52725",
                                    "3": "52125",
                                    "4": "101.15"
                                },
                                {
                                    "0": "10",
                                    "1": "SPAN 215",
                                    "2": "190",
                                    "3": "250",
                                    "4": "76"
                                },
                                {
                                    "0": "102",
                                    "1": "SPAN 221",
                                    "2": "1773",
                                    "3": "2550",
                                    "4": "69.53"
                                },
                                {
                                    "0": "12",
                                    "1": "SPAN 377",
                                    "2": "72",
                                    "3": "96",
                                    "4": "75"
                                },
                                {
                                    "0": "9",
                                    "1": "SPAN 378",
                                    "2": "81",
                                    "3": "252",
                                    "4": "32.14"
                                },
                                {
                                    "0": "2052",
                                    "1": "ACCT 101",
                                    "2": "87456",
                                    "3": "101760",
                                    "4": "85.94"
                                },
                                {
                                    "0": "174",
                                    "1": "ACCT 363",
                                    "2": "3108",
                                    "3": "5220",
                                    "4": "59.54"
                                },
                                {
                                    "0": "728",
                                    "1": "ACCT 372",
                                    "2": "28105",
                                    "3": "35294",
                                    "4": "79.63"
                                },
                                {
                                    "0": "18",
                                    "1": "ACCT 707",
                                    "2": "504",
                                    "3": "450",
                                    "4": "112"
                                },
                                {
                                    "0": "3",
                                    "1": "ACCT 748",
                                    "2": "84",
                                    "3": "75",
                                    "4": "112"
                                },
                                {
                                    "0": "13",
                                    "1": "AFST 102",
                                    "2": "455",
                                    "3": "455",
                                    "4": "100"
                                },
                                {
                                    "0": "1170",
                                    "1": "ANTH 101",
                                    "2": "70407",
                                    "3": "70236",
                                    "4": "100.24"
                                },
                                {
                                    "0": "1441",
                                    "1": "ANTH 102",
                                    "2": "84304",
                                    "3": "84766",
                                    "4": "99.45"
                                },
                                {
                                    "0": "12",
                                    "1": "ANTH 239",
                                    "2": "228",
                                    "3": "240",
                                    "4": "95"
                                },
                                {
                                    "0": "5",
                                    "1": "ANTH 240",
                                    "2": "100",
                                    "3": "100",
                                    "4": "100"
                                },
                                {
                                    "0": "11",
                                    "1": "ANTH 241",
                                    "2": "396",
                                    "3": "407",
                                    "4": "97.3"
                                },
                                {
                                    "0": "12",
                                    "1": "ANTH 243",
                                    "2": "144",
                                    "3": "240",
                                    "4": "60"
                                },
                                {
                                    "0": "8",
                                    "1": "ARAB 306",
                                    "2": "56",
                                    "3": "200",
                                    "4": "28"
                                },
                                {
                                    "0": "81",
                                    "1": "ARTH 001",
                                    "2": "3768",
                                    "3": "3720",
                                    "4": "101.29"
                                },
                                {
                                    "0": "8",
                                    "1": "ARTH 101",
                                    "2": "400",
                                    "3": "400",
                                    "4": "100"
                                },
                                {
                                    "0": "81",
                                    "1": "ARTH 102",
                                    "2": "3633",
                                    "3": "3720",
                                    "4": "97.66"
                                },
                                {
                                    "0": "2",
                                    "1": "ARTH 234",
                                    "2": "72",
                                    "3": "100",
                                    "4": "72"
                                },
                                {
                                    "0": "2",
                                    "1": "ARTH 286",
                                    "2": "46",
                                    "3": "70",
                                    "4": "65.71"
                                },
                                {
                                    "0": "11",
                                    "1": "ARTH 503",
                                    "2": "33",
                                    "3": "110",
                                    "4": "30"
                                },
                                {
                                    "0": "11",
                                    "1": "ARTH 740",
                                    "2": "110",
                                    "3": "110",
                                    "4": "100"
                                },
                                {
                                    "0": "540",
                                    "1": "ARTS 151",
                                    "2": "9396",
                                    "3": "9180",
                                    "4": "102.35"
                                },
                                {
                                    "0": "32",
                                    "1": "ARTS 176",
                                    "2": "512",
                                    "3": "544",
                                    "4": "94.12"
                                },
                                {
                                    "0": "16",
                                    "1": "ARTS 225",
                                    "2": "192",
                                    "3": "224",
                                    "4": "85.71"
                                },
                                {
                                    "0": "240",
                                    "1": "ARTS 241",
                                    "2": "4152",
                                    "3": "4080",
                                    "4": "101.76"
                                },
                                {
                                    "0": "260",
                                    "1": "ARTS 256",
                                    "2": "520",
                                    "3": "260",
                                    "4": "200"
                                },
                                {
                                    "0": "9",
                                    "1": "ARTS 273",
                                    "2": "99",
                                    "3": "108",
                                    "4": "91.67"
                                },
                                {
                                    "0": "21",
                                    "1": "ARTS 359",
                                    "2": "147",
                                    "3": "126",
                                    "4": "116.67"
                                },
                                {
                                    "0": "20",
                                    "1": "ARTS 369",
                                    "2": "80",
                                    "3": "80",
                                    "4": "100"
                                },
                                {
                                    "0": "240",
                                    "1": "ARTS 370",
                                    "2": "3936",
                                    "3": "4080",
                                    "4": "96.47"
                                },
                                {
                                    "0": "44",
                                    "1": "ARTS 390",
                                    "2": "286",
                                    "3": "308",
                                    "4": "92.86"
                                },
                                {
                                    "0": "84",
                                    "1": "ARTS 395",
                                    "2": "1428",
                                    "3": "1428",
                                    "4": "100"
                                },
                                {
                                    "0": "630",
                                    "1": "ARTS 713",
                                    "2": "336",
                                    "3": "852",
                                    "4": "39.44"
                                },
                                {
                                    "0": "176",
                                    "1": "BALA 100",
                                    "2": "3620",
                                    "3": "3000",
                                    "4": "120.67"
                                },
                                {
                                    "0": "99",
                                    "1": "BALA 200",
                                    "2": "2259",
                                    "3": "2178",
                                    "4": "103.72"
                                },
                                {
                                    "0": "72",
                                    "1": "BIOL 010",
                                    "2": "72",
                                    "3": "144",
                                    "4": "50"
                                },
                                {
                                    "0": "42484",
                                    "1": "BIOL 011",
                                    "2": "920512",
                                    "3": "1031510",
                                    "4": "89.24"
                                },
                                {
                                    "0": "11",
                                    "1": "BIOL 022",
                                    "2": "319",
                                    "3": "385",
                                    "4": "82.86"
                                },
                                {
                                    "0": "280",
                                    "1": "BIOL 043",
                                    "2": "5316",
                                    "3": "7304",
                                    "4": "72.78"
                                },
                                {
                                    "0": "424",
                                    "1": "BIOL 044",
                                    "2": "8784",
                                    "3": "8784",
                                    "4": "100"
                                },
                                {
                                    "0": "17493",
                                    "1": "BIOL 106",
                                    "2": "387198",
                                    "3": "387198",
                                    "4": "100"
                                },
                                {
                                    "0": "8",
                                    "1": "BIOL 262",
                                    "2": "120",
                                    "3": "144",
                                    "4": "83.33"
                                },
                                {
                                    "0": "276",
                                    "1": "BIOL 326",
                                    "2": "5274",
                                    "3": "5472",
                                    "4": "96.38"
                                },
                                {
                                    "0": "16",
                                    "1": "BIOL 791",
                                    "2": "80",
                                    "3": "96",
                                    "4": "83.33"
                                },
                                {
                                    "0": "123",
                                    "1": "BUS 160W",
                                    "2": "3423",
                                    "3": "3300",
                                    "4": "103.73"
                                },
                                {
                                    "0": "2",
                                    "1": "CHEM 161",
                                    "2": "14",
                                    "3": "36",
                                    "4": "38.89"
                                },
                                {
                                    "0": "23",
                                    "1": "CHEM 212",
                                    "2": "276",
                                    "3": "805",
                                    "4": "34.29"
                                },
                                {
                                    "0": "8",
                                    "1": "CHEM 371",
                                    "2": "448",
                                    "3": "800",
                                    "4": "56"
                                },
                                {
                                    "0": "23",
                                    "1": "CHEM 372",
                                    "2": "230",
                                    "3": "690",
                                    "4": "33.33"
                                },
                                {
                                    "0": "8",
                                    "1": "CHEM 715",
                                    "2": "40",
                                    "3": "96",
                                    "4": "41.67"
                                },
                                {
                                    "0": "12",
                                    "1": "CHIN 251",
                                    "2": "84",
                                    "3": "360",
                                    "4": "23.33"
                                },
                                {
                                    "0": "8",
                                    "1": "CHIN 314",
                                    "2": "240",
                                    "3": "240",
                                    "4": "100"
                                },
                                {
                                    "0": "19",
                                    "1": "CSCI 100",
                                    "2": "380",
                                    "3": "380",
                                    "4": "100"
                                },
                                {
                                    "0": "854",
                                    "1": "CSCI 220",
                                    "2": "32060",
                                    "3": "32662",
                                    "4": "98.16"
                                },
                                {
                                    "0": "8",
                                    "1": "CSCI 711",
                                    "2": "64",
                                    "3": "64",
                                    "4": "100"
                                },
                                {
                                    "0": "490",
                                    "1": "DRAM 001",
                                    "2": "19586",
                                    "3": "19964",
                                    "4": "98.11"
                                },
                                {
                                    "0": "1728",
                                    "1": "DRAM 100",
                                    "2": "58464",
                                    "3": "58800",
                                    "4": "99.43"
                                },
                                {
                                    "0": "13",
                                    "1": "DRAM 101",
                                    "2": "325",
                                    "3": "312",
                                    "4": "104.17"
                                },
                                {
                                    "0": "108",
                                    "1": "DRAM 121",
                                    "2": "2592",
                                    "3": "2592",
                                    "4": "100"
                                },
                                {
                                    "0": "56",
                                    "1": "DRAM 222",
                                    "2": "952",
                                    "3": "1120",
                                    "4": "85"
                                },
                                {
                                    "0": "3",
                                    "1": "DRAM 230",
                                    "2": "45",
                                    "3": "75",
                                    "4": "60"
                                },
                                {
                                    "0": "14",
                                    "1": "DRAM 323",
                                    "2": "238",
                                    "3": "280",
                                    "4": "85"
                                },
                                {
                                    "0": "8",
                                    "1": "DRAM 343",
                                    "2": "64",
                                    "3": "160",
                                    "4": "40"
                                },
                                {
                                    "0": "10",
                                    "1": "DRAM 397",
                                    "2": "50",
                                    "3": "250",
                                    "4": "20"
                                },
                                {
                                    "0": "4",
                                    "1": "EAST 380",
                                    "2": "36",
                                    "3": "60",
                                    "4": "60"
                                },
                                {
                                    "0": "12",
                                    "1": "ECON 100",
                                    "2": "600",
                                    "3": "600",
                                    "4": "100"
                                },
                                {
                                    "0": "1944",
                                    "1": "ECON 102",
                                    "2": "100968",
                                    "3": "100728",
                                    "4": "100.24"
                                },
                                {
                                    "0": "244",
                                    "1": "ECON 201",
                                    "2": "19424",
                                    "3": "20272",
                                    "4": "95.82"
                                },
                                {
                                    "0": "18",
                                    "1": "ECON 326",
                                    "2": "756",
                                    "3": "810",
                                    "4": "93.33"
                                },
                                {
                                    "0": "9",
                                    "1": "EECE 333",
                                    "2": "99",
                                    "3": "315",
                                    "4": "31.43"
                                },
                                {
                                    "0": "486",
                                    "1": "EECE 340",
                                    "2": "11226",
                                    "3": "11898",
                                    "4": "94.35"
                                },
                                {
                                    "0": "132",
                                    "1": "EECE 341",
                                    "2": "2508",
                                    "3": "3300",
                                    "4": "76"
                                },
                                {
                                    "0": "13",
                                    "1": "EECE 545",
                                    "2": "351",
                                    "3": "325",
                                    "4": "108"
                                },
                                {
                                    "0": "60",
                                    "1": "EECE 555",
                                    "2": "1200",
                                    "3": "1500",
                                    "4": "80"
                                },
                                {
                                    "0": "19",
                                    "1": "EECE 711",
                                    "2": "380",
                                    "3": "380",
                                    "4": "100"
                                },
                                {
                                    "0": "58",
                                    "1": "EECE 724",
                                    "2": "1518",
                                    "3": "1450",
                                    "4": "104.69"
                                },
                                {
                                    "0": "15",
                                    "1": "EECE 799",
                                    "2": "255",
                                    "3": "225",
                                    "4": "113.33"
                                },
                                {
                                    "0": "7",
                                    "1": "ENGL 095",
                                    "2": "105",
                                    "3": "105",
                                    "4": "100"
                                },
                                {
                                    "0": "13",
                                    "1": "ENGL 304",
                                    "2": "208",
                                    "3": "234",
                                    "4": "88.89"
                                },
                                {
                                    "0": "17",
                                    "1": "ENGL 312",
                                    "2": "527",
                                    "3": "510",
                                    "4": "103.33"
                                },
                                {
                                    "0": "14",
                                    "1": "ENGL 328",
                                    "2": "210",
                                    "3": "420",
                                    "4": "50"
                                },
                                {
                                    "0": "14",
                                    "1": "ENGL 329",
                                    "2": "420",
                                    "3": "420",
                                    "4": "100"
                                },
                                {
                                    "0": "7",
                                    "1": "ENGL 377",
                                    "2": "217",
                                    "3": "210",
                                    "4": "103.33"
                                },
                                {
                                    "0": "13",
                                    "1": "ENGL 636",
                                    "2": "221",
                                    "3": "156",
                                    "4": "141.67"
                                },
                                {
                                    "0": "18",
                                    "1": "ENGL 729",
                                    "2": "270",
                                    "3": "270",
                                    "4": "100"
                                },
                                {
                                    "0": "18",
                                    "1": "ENGL 755",
                                    "2": "90",
                                    "3": "270",
                                    "4": "33.33"
                                },
                                {
                                    "0": "117",
                                    "1": "ENGL 781",
                                    "2": "1482",
                                    "3": "1755",
                                    "4": "84.44"
                                },
                                {
                                    "0": "20",
                                    "1": "FNES 015",
                                    "2": "410",
                                    "3": "400",
                                    "4": "102.5"
                                },
                                {
                                    "0": "336",
                                    "1": "FNES 101",
                                    "2": "7848",
                                    "3": "8064",
                                    "4": "97.32"
                                },
                                {
                                    "0": "21",
                                    "1": "FNES 121",
                                    "2": "357",
                                    "3": "525",
                                    "4": "68"
                                },
                                {
                                    "0": "21",
                                    "1": "FNES 158",
                                    "2": "483",
                                    "3": "525",
                                    "4": "92"
                                },
                                {
                                    "0": "192",
                                    "1": "FNES 163",
                                    "2": "11536",
                                    "3": "11520",
                                    "4": "100.14"
                                },
                                {
                                    "0": "160",
                                    "1": "FNES 203",
                                    "2": "3760",
                                    "3": "3840",
                                    "4": "97.92"
                                },
                                {
                                    "0": "21",
                                    "1": "FNES 225",
                                    "2": "420",
                                    "3": "420",
                                    "4": "100"
                                },
                                {
                                    "0": "3",
                                    "1": "FNES 226",
                                    "2": "30",
                                    "3": "54",
                                    "4": "55.56"
                                },
                                {
                                    "0": "11",
                                    "1": "FNES 256",
                                    "2": "242",
                                    "3": "275",
                                    "4": "88"
                                },
                                {
                                    "0": "48",
                                    "1": "FNES 263",
                                    "2": "1224",
                                    "3": "1512",
                                    "4": "80.95"
                                },
                                {
                                    "0": "66",
                                    "1": "FNES 264",
                                    "2": "2541",
                                    "3": "2145",
                                    "4": "118.46"
                                },
                                {
                                    "0": "2",
                                    "1": "FNES 339",
                                    "2": "10",
                                    "3": "20",
                                    "4": "50"
                                },
                                {
                                    "0": "84",
                                    "1": "FNES 340",
                                    "2": "2520",
                                    "3": "2520",
                                    "4": "100"
                                },
                                {
                                    "0": "12",
                                    "1": "FNES 362",
                                    "2": "384",
                                    "3": "348",
                                    "4": "110.34"
                                },
                                {
                                    "0": "21",
                                    "1": "FNES 365",
                                    "2": "504",
                                    "3": "609",
                                    "4": "82.76"
                                },
                                {
                                    "0": "144",
                                    "1": "FNES 377",
                                    "2": "5472",
                                    "3": "7200",
                                    "4": "76"
                                },
                                {
                                    "0": "11",
                                    "1": "FNES 378",
                                    "2": "352",
                                    "3": "385",
                                    "4": "91.43"
                                },
                                {
                                    "0": "9",
                                    "1": "FNES 561",
                                    "2": "63",
                                    "3": "135",
                                    "4": "46.67"
                                },
                                {
                                    "0": "12",
                                    "1": "FNES 562",
                                    "2": "108",
                                    "3": "180",
                                    "4": "60"
                                },
                                {
                                    "0": "9",
                                    "1": "FNES 715",
                                    "2": "126",
                                    "3": "225",
                                    "4": "56"
                                },
                                {
                                    "0": "12",
                                    "1": "FNES 716",
                                    "2": "96",
                                    "3": "180",
                                    "4": "53.33"
                                },
                                {
                                    "0": "18",
                                    "1": "FNES 722",
                                    "2": "306",
                                    "3": "450",
                                    "4": "68"
                                },
                                {
                                    "0": "18",
                                    "1": "FNES 730",
                                    "2": "522",
                                    "3": "450",
                                    "4": "116"
                                },
                                {
                                    "0": "12",
                                    "1": "FREN 112",
                                    "2": "204",
                                    "3": "300",
                                    "4": "68"
                                },
                                {
                                    "0": "44",
                                    "1": "FREN 203",
                                    "2": "620",
                                    "3": "1100",
                                    "4": "56.36"
                                },
                                {
                                    "0": "10",
                                    "1": "FREN 204",
                                    "2": "140",
                                    "3": "250",
                                    "4": "56"
                                },
                                {
                                    "0": "12",
                                    "1": "FREN 224",
                                    "2": "144",
                                    "3": "300",
                                    "4": "48"
                                },
                                {
                                    "0": "747",
                                    "1": "GEOL 101",
                                    "2": "28296",
                                    "3": "29808",
                                    "4": "94.93"
                                },
                                {
                                    "0": "288",
                                    "1": "GEOL 102",
                                    "2": "4608",
                                    "3": "5088",
                                    "4": "90.57"
                                },
                                {
                                    "0": "12",
                                    "1": "GEOL 214",
                                    "2": "204",
                                    "3": "216",
                                    "4": "94.44"
                                },
                                {
                                    "0": "48",
                                    "1": "GEOL 383",
                                    "2": "528",
                                    "3": "960",
                                    "4": "55"
                                },
                                {
                                    "0": "96",
                                    "1": "GEOL 502",
                                    "2": "96",
                                    "3": "288",
                                    "4": "33.33"
                                },
                                {
                                    "0": "16",
                                    "1": "GEOL 762",
                                    "2": "224",
                                    "3": "320",
                                    "4": "70"
                                },
                                {
                                    "0": "164",
                                    "1": "GERM 111",
                                    "2": "4464",
                                    "3": "4428",
                                    "4": "100.81"
                                },
                                {
                                    "0": "12",
                                    "1": "GERM 112",
                                    "2": "192",
                                    "3": "300",
                                    "4": "64"
                                },
                                {
                                    "0": "14",
                                    "1": "HIST 114",
                                    "2": "490",
                                    "3": "490",
                                    "4": "100"
                                },
                                {
                                    "0": "15",
                                    "1": "HIST 115",
                                    "2": "270",
                                    "3": "450",
                                    "4": "60"
                                },
                                {
                                    "0": "15",
                                    "1": "HIST 208",
                                    "2": "630",
                                    "3": "675",
                                    "4": "93.33"
                                },
                                {
                                    "0": "18",
                                    "1": "HIST 233",
                                    "2": "234",
                                    "3": "630",
                                    "4": "37.14"
                                },
                                {
                                    "0": "18",
                                    "1": "HIST 266",
                                    "2": "738",
                                    "3": "900",
                                    "4": "82"
                                },
                                {
                                    "0": "19",
                                    "1": "HIST 308",
                                    "2": "437",
                                    "3": "665",
                                    "4": "65.71"
                                },
                                {
                                    "0": "15",
                                    "1": "HIST 735",
                                    "2": "375",
                                    "3": "360",
                                    "4": "104.17"
                                },
                                {
                                    "0": "18",
                                    "1": "HIST 780",
                                    "2": "414",
                                    "3": "432",
                                    "4": "95.83"
                                },
                                {
                                    "0": "126",
                                    "1": "HIST 799",
                                    "2": "1350",
                                    "3": "2160",
                                    "4": "62.5"
                                },
                                {
                                    "0": "9",
                                    "1": "ITAL 204",
                                    "2": "54",
                                    "3": "225",
                                    "4": "24"
                                },
                                {
                                    "0": "8",
                                    "1": "JAZZ 702",
                                    "2": "152",
                                    "3": "160",
                                    "4": "95"
                                },
                                {
                                    "0": "9",
                                    "1": "JAZZ 717",
                                    "2": "243",
                                    "3": "270",
                                    "4": "90"
                                },
                                {
                                    "0": "553",
                                    "1": "MATH 119",
                                    "2": "16226",
                                    "3": "16240",
                                    "4": "99.91"
                                },
                                {
                                    "0": "5106",
                                    "1": "MATH 122",
                                    "2": "111987",
                                    "3": "114356",
                                    "4": "97.93"
                                },
                                {
                                    "0": "595",
                                    "1": "MATH 143",
                                    "2": "16401",
                                    "3": "13405",
                                    "4": "122.35"
                                },
                                {
                                    "0": "700",
                                    "1": "MATH 152",
                                    "2": "19880",
                                    "3": "15890",
                                    "4": "125.11"
                                },
                                {
                                    "0": "13",
                                    "1": "MATH 208",
                                    "2": "156",
                                    "3": "325",
                                    "4": "48"
                                },
                                {
                                    "0": "126",
                                    "1": "MATH 220",
                                    "2": "2769",
                                    "3": "2925",
                                    "4": "94.67"
                                },
                                {
                                    "0": "11",
                                    "1": "MATH 245",
                                    "2": "341",
                                    "3": "275",
                                    "4": "124"
                                },
                                {
                                    "0": "13",
                                    "1": "MATH 247",
                                    "2": "429",
                                    "3": "325",
                                    "4": "132"
                                },
                                {
                                    "0": "46",
                                    "1": "MATH 333",
                                    "2": "1234",
                                    "3": "1150",
                                    "4": "107.3"
                                },
                                {
                                    "0": "11",
                                    "1": "MATH 611",
                                    "2": "275",
                                    "3": "275",
                                    "4": "100"
                                },
                                {
                                    "0": "13",
                                    "1": "MATH 614",
                                    "2": "312",
                                    "3": "325",
                                    "4": "96"
                                },
                                {
                                    "0": "11",
                                    "1": "MATH 623",
                                    "2": "165",
                                    "3": "220",
                                    "4": "75"
                                },
                                {
                                    "0": "2200",
                                    "1": "PHIL 101",
                                    "2": "60665",
                                    "3": "65725",
                                    "4": "92.3"
                                },
                                {
                                    "0": "1251",
                                    "1": "PHIL 104",
                                    "2": "33714",
                                    "3": "38025",
                                    "4": "88.66"
                                },
                                {
                                    "0": "18",
                                    "1": "PHIL 264",
                                    "2": "468",
                                    "3": "450",
                                    "4": "104"
                                },
                                {
                                    "0": "21",
                                    "1": "PHIL 272",
                                    "2": "210",
                                    "3": "315",
                                    "4": "66.67"
                                },
                                {
                                    "0": "18",
                                    "1": "PHIL 651",
                                    "2": "0",
                                    "3": "90",
                                    "4": "0"
                                },
                                {
                                    "0": "3024",
                                    "1": "PHYS 204",
                                    "2": "78624",
                                    "3": "78624",
                                    "4": "100"
                                },
                                {
                                    "0": "2",
                                    "1": "PHYS 235",
                                    "2": "24",
                                    "3": "28",
                                    "4": "85.71"
                                },
                                {
                                    "0": "7",
                                    "1": "PHYS 237",
                                    "2": "133",
                                    "3": "140",
                                    "4": "95"
                                },
                                {
                                    "0": "7",
                                    "1": "PHYS 311",
                                    "2": "28",
                                    "3": "105",
                                    "4": "26.67"
                                },
                                {
                                    "0": "76",
                                    "1": "PSCI 102",
                                    "2": "2660",
                                    "3": "3040",
                                    "4": "87.5"
                                },
                                {
                                    "0": "147",
                                    "1": "PSCI 104",
                                    "2": "5829",
                                    "3": "6855",
                                    "4": "85.03"
                                },
                                {
                                    "0": "20",
                                    "1": "PSCI 105",
                                    "2": "1060",
                                    "3": "1100",
                                    "4": "96.36"
                                },
                                {
                                    "0": "11",
                                    "1": "PSCI 209",
                                    "2": "187",
                                    "3": "330",
                                    "4": "56.67"
                                },
                                {
                                    "0": "20",
                                    "1": "PSCI 226",
                                    "2": "700",
                                    "3": "1100",
                                    "4": "63.64"
                                },
                                {
                                    "0": "80",
                                    "1": "PSCI 228",
                                    "2": "3840",
                                    "3": "4400",
                                    "4": "87.27"
                                },
                                {
                                    "0": "15",
                                    "1": "PSCI 241",
                                    "2": "780",
                                    "3": "825",
                                    "4": "94.55"
                                },
                                {
                                    "0": "19",
                                    "1": "PSCI 284",
                                    "2": "741",
                                    "3": "950",
                                    "4": "78"
                                },
                                {
                                    "0": "15",
                                    "1": "PSCI 286",
                                    "2": "195",
                                    "3": "825",
                                    "4": "23.64"
                                },
                                {
                                    "0": "40",
                                    "1": "RUSS 111",
                                    "2": "1100",
                                    "3": "1080",
                                    "4": "101.85"
                                },
                                {
                                    "0": "10",
                                    "1": "RUSS 112",
                                    "2": "120",
                                    "3": "250",
                                    "4": "48"
                                },
                                {
                                    "0": "144",
                                    "1": "SEYS 221",
                                    "2": "3756",
                                    "3": "3612",
                                    "4": "103.99"
                                },
                                {
                                    "0": "72",
                                    "1": "SEYS 350",
                                    "2": "1329",
                                    "3": "1800",
                                    "4": "73.83"
                                },
                                {
                                    "0": "14",
                                    "1": "SEYS 360",
                                    "2": "238",
                                    "3": "350",
                                    "4": "68"
                                },
                                {
                                    "0": "252",
                                    "1": "SEYS 376",
                                    "2": "504",
                                    "3": "6300",
                                    "4": "8"
                                },
                                {
                                    "0": "54",
                                    "1": "SEYS 536",
                                    "2": "1536",
                                    "3": "1350",
                                    "4": "113.78"
                                },
                                {
                                    "0": "252",
                                    "1": "SEYS 576",
                                    "2": "1008",
                                    "3": "5040",
                                    "4": "20"
                                },
                                {
                                    "0": "14",
                                    "1": "SEYS 581",
                                    "2": "210",
                                    "3": "350",
                                    "4": "60"
                                },
                                {
                                    "0": "6",
                                    "1": "SEYS 751",
                                    "2": "138",
                                    "3": "150",
                                    "4": "92"
                                },
                                {
                                    "0": "9",
                                    "1": "SEYS 753",
                                    "2": "99",
                                    "3": "180",
                                    "4": "55"
                                },
                                {
                                    "0": "12",
                                    "1": "SEYS 774",
                                    "2": "120",
                                    "3": "300",
                                    "4": "40"
                                },
                                {
                                    "0": "6",
                                    "1": "SEYS 776",
                                    "2": "96",
                                    "3": "150",
                                    "4": "64"
                                },
                                {
                                    "0": "2740",
                                    "1": "SOC 212W",
                                    "2": "64180",
                                    "3": "63700",
                                    "4": "100.75"
                                },
                                {
                                    "0": "9",
                                    "1": "SPAN 045",
                                    "2": "108",
                                    "3": "225",
                                    "4": "48"
                                },
                                {
                                    "0": "196",
                                    "1": "SPAN 203",
                                    "2": "4136",
                                    "3": "4900",
                                    "4": "84.41"
                                },
                                {
                                    "0": "40",
                                    "1": "SPAN 204",
                                    "2": "880",
                                    "3": "1000",
                                    "4": "88"
                                },
                                {
                                    "0": "90",
                                    "1": "SPAN 224",
                                    "2": "2412",
                                    "3": "2520",
                                    "4": "95.71"
                                },
                                {
                                    "0": "9",
                                    "1": "SPAN 250",
                                    "2": "225",
                                    "3": "225",
                                    "4": "100"
                                },
                                {
                                    "0": "11",
                                    "1": "SPAN 312",
                                    "2": "352",
                                    "3": "308",
                                    "4": "114.29"
                                },
                                {
                                    "0": "7",
                                    "1": "SPAN 338",
                                    "2": "154",
                                    "3": "196",
                                    "4": "78.57"
                                },
                                {
                                    "0": "15",
                                    "1": "SPAN 372",
                                    "2": "60",
                                    "3": "120",
                                    "4": "50"
                                },
                                {
                                    "0": "30",
                                    "1": "SPAN 390",
                                    "2": "498",
                                    "3": "500",
                                    "4": "99.6"
                                },
                                {
                                    "0": "2",
                                    "1": "SPAN 720",
                                    "2": "12",
                                    "3": "14",
                                    "4": "85.71"
                                },
                                {
                                    "0": "15",
                                    "1": "SPAN 758",
                                    "2": "105",
                                    "3": "105",
                                    "4": "100"
                                },
                                {
                                    "0": "12",
                                    "1": "WGS 201W",
                                    "2": "300",
                                    "3": "300",
                                    "4": "100"
                                },
                                {
                                    "0": "120",
                                    "1": "ACCT 100",
                                    "2": "2520",
                                    "3": "2640",
                                    "4": "95.45"
                                },
                                {
                                    "0": "1269",
                                    "1": "ACCT 102",
                                    "2": "48168",
                                    "3": "65970",
                                    "4": "73.02"
                                },
                                {
                                    "0": "1000",
                                    "1": "ACCT 201",
                                    "2": "39416",
                                    "3": "41168",
                                    "4": "95.74"
                                },
                                {
                                    "0": "1161",
                                    "1": "ACCT 261",
                                    "2": "46233",
                                    "3": "51084",
                                    "4": "90.5"
                                },
                                {
                                    "0": "1032",
                                    "1": "ACCT 305",
                                    "2": "37768",
                                    "3": "48280",
                                    "4": "78.23"
                                },
                                {
                                    "0": "360",
                                    "1": "ACCT 362",
                                    "2": "21744",
                                    "3": "22680",
                                    "4": "95.87"
                                },
                                {
                                    "0": "46",
                                    "1": "ACCT 712",
                                    "2": "998",
                                    "3": "920",
                                    "4": "108.48"
                                },
                                {
                                    "0": "18",
                                    "1": "ACCT 747",
                                    "2": "918",
                                    "3": "1080",
                                    "4": "85"
                                },
                                {
                                    "0": "15",
                                    "1": "ACCT 758",
                                    "2": "270",
                                    "3": "300",
                                    "4": "90"
                                },
                                {
                                    "0": "20",
                                    "1": "ANTH 220",
                                    "2": "220",
                                    "3": "240",
                                    "4": "91.67"
                                },
                                {
                                    "0": "5",
                                    "1": "ANTH 260",
                                    "2": "70",
                                    "3": "70",
                                    "4": "100"
                                },
                                {
                                    "0": "5",
                                    "1": "ANTH 302",
                                    "2": "100",
                                    "3": "90",
                                    "4": "111.11"
                                },
                                {
                                    "0": "14",
                                    "1": "ANTH 354",
                                    "2": "210",
                                    "3": "210",
                                    "4": "100"
                                },
                                {
                                    "0": "8",
                                    "1": "ARTH 113",
                                    "2": "384",
                                    "3": "400",
                                    "4": "96"
                                },
                                {
                                    "0": "8",
                                    "1": "ARTH 215",
                                    "2": "320",
                                    "3": "400",
                                    "4": "80"
                                },
                                {
                                    "0": "44",
                                    "1": "ARTH 504",
                                    "2": "220",
                                    "3": "418",
                                    "4": "52.63"
                                },
                                {
                                    "0": "176",
                                    "1": "ARTS 161",
                                    "2": "3088",
                                    "3": "2992",
                                    "4": "103.21"
                                },
                                {
                                    "0": "36",
                                    "1": "ARTS 171",
                                    "2": "630",
                                    "3": "648",
                                    "4": "97.22"
                                },
                                {
                                    "0": "108",
                                    "1": "ARTS 188",
                                    "2": "1944",
                                    "3": "1836",
                                    "4": "105.88"
                                },
                                {
                                    "0": "159",
                                    "1": "ARTS 195",
                                    "2": "2694",
                                    "3": "2646",
                                    "4": "101.81"
                                },
                                {
                                    "0": "36",
                                    "1": "ARTS 211",
                                    "2": "648",
                                    "3": "648",
                                    "4": "100"
                                },
                                {
                                    "0": "16",
                                    "1": "ARTS 213",
                                    "2": "272",
                                    "3": "272",
                                    "4": "100"
                                },
                                {
                                    "0": "312",
                                    "1": "ARTS 242",
                                    "2": "5604",
                                    "3": "5304",
                                    "4": "105.66"
                                },
                                {
                                    "0": "102",
                                    "1": "ARTS 246",
                                    "2": "2040",
                                    "3": "1734",
                                    "4": "117.65"
                                },
                                {
                                    "0": "288",
                                    "1": "ARTS 254",
                                    "2": "792",
                                    "3": "288",
                                    "4": "275"
                                },
                                {
                                    "0": "21",
                                    "1": "ARTS 289",
                                    "2": "336",
                                    "3": "357",
                                    "4": "94.12"
                                },
                                {
                                    "0": "18",
                                    "1": "ARTS 314",
                                    "2": "252",
                                    "3": "306",
                                    "4": "82.35"
                                },
                                {
                                    "0": "84",
                                    "1": "ARTS 345",
                                    "2": "1638",
                                    "3": "1428",
                                    "4": "114.71"
                                },
                                {
                                    "0": "19",
                                    "1": "ARTS 347",
                                    "2": "57",
                                    "3": "76",
                                    "4": "75"
                                },
                                {
                                    "0": "1",
                                    "1": "ARTS 350",
                                    "2": "19",
                                    "3": "18",
                                    "4": "105.56"
                                },
                                {
                                    "0": "8",
                                    "1": "ARTS 355",
                                    "2": "48",
                                    "3": "32",
                                    "4": "150"
                                },
                                {
                                    "0": "11",
                                    "1": "ARTS 391",
                                    "2": "220",
                                    "3": "198",
                                    "4": "111.11"
                                },
                                {
                                    "0": "600",
                                    "1": "ARTS 728",
                                    "2": "240",
                                    "3": "600",
                                    "4": "40"
                                },
                                {
                                    "0": "280",
                                    "1": "ASTR 002",
                                    "2": "4060",
                                    "3": "6720",
                                    "4": "60.42"
                                },
                                {
                                    "0": "180",
                                    "1": "BALA 165",
                                    "2": "3340",
                                    "3": "3600",
                                    "4": "92.78"
                                },
                                {
                                    "0": "90",
                                    "1": "BALA 303",
                                    "2": "2160",
                                    "3": "1980",
                                    "4": "109.09"
                                },
                                {
                                    "0": "64",
                                    "1": "BIOL 013",
                                    "2": "1600",
                                    "3": "1856",
                                    "4": "86.21"
                                },
                                {
                                    "0": "416",
                                    "1": "BIOL 045",
                                    "2": "6264",
                                    "3": "7408",
                                    "4": "84.56"
                                },
                                {
                                    "0": "16",
                                    "1": "BIOL 366",
                                    "2": "400",
                                    "3": "608",
                                    "4": "65.79"
                                },
                                {
                                    "0": "128",
                                    "1": "BIOL 714",
                                    "2": "1408",
                                    "3": "4480",
                                    "4": "31.43"
                                },
                                {
                                    "0": "153",
                                    "1": "BIOL 723",
                                    "2": "459",
                                    "3": "765",
                                    "4": "60"
                                },
                                {
                                    "0": "10",
                                    "1": "BUS 3913",
                                    "2": "100",
                                    "3": "350",
                                    "4": "28.57"
                                },
                                {
                                    "0": "6",
                                    "1": "CESL 035",
                                    "2": "138",
                                    "3": "120",
                                    "4": "115"
                                },
                                {
                                    "0": "23",
                                    "1": "CHEM 352",
                                    "2": "46",
                                    "3": "460",
                                    "4": "10"
                                },
                                {
                                    "0": "72",
                                    "1": "CHEM 376",
                                    "2": "792",
                                    "3": "864",
                                    "4": "91.67"
                                },
                                {
                                    "0": "14",
                                    "1": "CLAS 140",
                                    "2": "420",
                                    "3": "420",
                                    "4": "100"
                                },
                                {
                                    "0": "7040",
                                    "1": "CSCI 012",
                                    "2": "244940",
                                    "3": "255860",
                                    "4": "95.73"
                                },
                                {
                                    "0": "648",
                                    "1": "CSCI 313",
                                    "2": "22824",
                                    "3": "23418",
                                    "4": "97.46"
                                },
                                {
                                    "0": "224",
                                    "1": "CSCI 320",
                                    "2": "12148",
                                    "3": "12528",
                                    "4": "96.97"
                                },
                                {
                                    "0": "138",
                                    "1": "CSCI 331",
                                    "2": "5556",
                                    "3": "5760",
                                    "4": "96.46"
                                },
                                {
                                    "0": "1232",
                                    "1": "CSCI 381",
                                    "2": "26320",
                                    "3": "31768",
                                    "4": "82.85"
                                },
                                {
                                    "0": "1248",
                                    "1": "CSCI 780",
                                    "2": "8768",
                                    "3": "9344",
                                    "4": "93.84"
                                },
                                {
                                    "0": "13",
                                    "1": "DRAM 130",
                                    "2": "195",
                                    "3": "195",
                                    "4": "100"
                                },
                                {
                                    "0": "5",
                                    "1": "DRAM 319",
                                    "2": "35",
                                    "3": "175",
                                    "4": "20"
                                },
                                {
                                    "0": "14",
                                    "1": "DRAM 332",
                                    "2": "84",
                                    "3": "210",
                                    "4": "40"
                                },
                                {
                                    "0": "15",
                                    "1": "EAST 251",
                                    "2": "195",
                                    "3": "450",
                                    "4": "43.33"
                                },
                                {
                                    "0": "12",
                                    "1": "EAST 253",
                                    "2": "408",
                                    "3": "360",
                                    "4": "113.33"
                                },
                                {
                                    "0": "981",
                                    "1": "ECON 101",
                                    "2": "57276",
                                    "3": "60426",
                                    "4": "94.79"
                                },
                                {
                                    "0": "1430",
                                    "1": "ECON 215",
                                    "2": "60720",
                                    "3": "63888",
                                    "4": "95.04"
                                },
                                {
                                    "0": "13",
                                    "1": "ECON 715",
                                    "2": "507",
                                    "3": "780",
                                    "4": "65"
                                },
                                {
                                    "0": "9",
                                    "1": "EECE 533",
                                    "2": "81",
                                    "3": "315",
                                    "4": "25.71"
                                },
                                {
                                    "0": "132",
                                    "1": "EECE 550",
                                    "2": "3525",
                                    "3": "3300",
                                    "4": "106.82"
                                },
                                {
                                    "0": "14",
                                    "1": "EECE 703",
                                    "2": "322",
                                    "3": "350",
                                    "4": "92"
                                },
                                {
                                    "0": "14",
                                    "1": "EECE 728",
                                    "2": "322",
                                    "3": "350",
                                    "4": "92"
                                },
                                {
                                    "0": "26",
                                    "1": "EECE 731",
                                    "2": "524",
                                    "3": "520",
                                    "4": "100.77"
                                },
                                {
                                    "0": "14",
                                    "1": "EECE 780",
                                    "2": "224",
                                    "3": "350",
                                    "4": "64"
                                },
                                {
                                    "0": "244",
                                    "1": "EECE 782",
                                    "2": "4540",
                                    "3": "4880",
                                    "4": "93.03"
                                },
                                {
                                    "0": "15",
                                    "1": "EECE 798",
                                    "2": "285",
                                    "3": "225",
                                    "4": "126.67"
                                },
                                {
                                    "0": "65",
                                    "1": "EECE 805",
                                    "2": "910",
                                    "3": "975",
                                    "4": "93.33"
                                },
                                {
                                    "0": "5967",
                                    "1": "ENGL 110",
                                    "2": "113832",
                                    "3": "118287",
                                    "4": "96.23"
                                },
                                {
                                    "0": "204",
                                    "1": "ENGL 242",
                                    "2": "5376",
                                    "3": "5508",
                                    "4": "97.6"
                                },
                                {
                                    "0": "16",
                                    "1": "ENGL 313",
                                    "2": "528",
                                    "3": "480",
                                    "4": "110"
                                },
                                {
                                    "0": "11",
                                    "1": "ENGL 332",
                                    "2": "330",
                                    "3": "330",
                                    "4": "100"
                                },
                                {
                                    "0": "14",
                                    "1": "ENGL 366",
                                    "2": "420",
                                    "3": "420",
                                    "4": "100"
                                },
                                {
                                    "0": "14",
                                    "1": "ENGL 379",
                                    "2": "434",
                                    "3": "420",
                                    "4": "103.33"
                                },
                                {
                                    "0": "14",
                                    "1": "ENGL 701",
                                    "2": "126",
                                    "3": "168",
                                    "4": "75"
                                },
                                {
                                    "0": "6",
                                    "1": "ENGL 702",
                                    "2": "72",
                                    "3": "72",
                                    "4": "100"
                                },
                                {
                                    "0": "13",
                                    "1": "ENGL 726",
                                    "2": "91",
                                    "3": "156",
                                    "4": "58.33"
                                },
                                {
                                    "0": "7",
                                    "1": "ENGL 751",
                                    "2": "49",
                                    "3": "105",
                                    "4": "46.67"
                                },
                                {
                                    "0": "168",
                                    "1": "EURO 120",
                                    "2": "3864",
                                    "3": "4200",
                                    "4": "92"
                                },
                                {
                                    "0": "203",
                                    "1": "FNES 014",
                                    "2": "4690",
                                    "3": "4690",
                                    "4": "100"
                                },
                                {
                                    "0": "18",
                                    "1": "FNES 020",
                                    "2": "810",
                                    "3": "810",
                                    "4": "100"
                                },
                                {
                                    "0": "48",
                                    "1": "FNES 104",
                                    "2": "1440",
                                    "3": "1440",
                                    "4": "100"
                                },
                                {
                                    "0": "64",
                                    "1": "FNES 146",
                                    "2": "832",
                                    "3": "2176",
                                    "4": "38.24"
                                },
                                {
                                    "0": "15",
                                    "1": "FNES 200",
                                    "2": "255",
                                    "3": "450",
                                    "4": "56.67"
                                },
                                {
                                    "0": "144",
                                    "1": "FNES 230",
                                    "2": "4356",
                                    "3": "4356",
                                    "4": "100"
                                },
                                {
                                    "0": "12",
                                    "1": "FNES 250",
                                    "2": "300",
                                    "3": "300",
                                    "4": "100"
                                },
                                {
                                    "0": "208",
                                    "1": "FNES 266",
                                    "2": "1872",
                                    "3": "1768",
                                    "4": "105.88"
                                },
                                {
                                    "0": "26",
                                    "1": "FNES 327",
                                    "2": "156",
                                    "3": "494",
                                    "4": "31.58"
                                },
                                {
                                    "0": "11",
                                    "1": "FNES 337",
                                    "2": "286",
                                    "3": "330",
                                    "4": "86.67"
                                },
                                {
                                    "0": "60",
                                    "1": "FNES 341",
                                    "2": "1200",
                                    "3": "1500",
                                    "4": "80"
                                },
                                {
                                    "0": "17",
                                    "1": "FNES 366",
                                    "2": "595",
                                    "3": "595",
                                    "4": "100"
                                },
                                {
                                    "0": "11",
                                    "1": "FNES 368",
                                    "2": "330",
                                    "3": "418",
                                    "4": "78.95"
                                },
                                {
                                    "0": "9",
                                    "1": "FNES 379",
                                    "2": "81",
                                    "3": "225",
                                    "4": "36"
                                },
                                {
                                    "0": "21",
                                    "1": "FNES 643",
                                    "2": "252",
                                    "3": "525",
                                    "4": "48"
                                },
                                {
                                    "0": "66",
                                    "1": "FNES 711",
                                    "2": "450",
                                    "3": "810",
                                    "4": "55.56"
                                },
                                {
                                    "0": "7",
                                    "1": "FNES 725",
                                    "2": "70",
                                    "3": "140",
                                    "4": "50"
                                },
                                {
                                    "0": "12",
                                    "1": "FNES 762",
                                    "2": "312",
                                    "3": "300",
                                    "4": "104"
                                },
                                {
                                    "0": "12",
                                    "1": "FNES 770",
                                    "2": "120",
                                    "3": "300",
                                    "4": "40"
                                },
                                {
                                    "0": "318",
                                    "1": "FREN 111",
                                    "2": "8202",
                                    "3": "7452",
                                    "4": "110.06"
                                },
                                {
                                    "0": "18",
                                    "1": "GEOL 077",
                                    "2": "630",
                                    "3": "630",
                                    "4": "100"
                                },
                                {
                                    "0": "18",
                                    "1": "GEOL 342",
                                    "2": "234",
                                    "3": "450",
                                    "4": "52"
                                },
                                {
                                    "0": "12",
                                    "1": "GERM 223",
                                    "2": "132",
                                    "3": "300",
                                    "4": "44"
                                },
                                {
                                    "0": "236",
                                    "1": "HIST 101",
                                    "2": "8864",
                                    "3": "8920",
                                    "4": "99.37"
                                },
                                {
                                    "0": "1859",
                                    "1": "HIST 103",
                                    "2": "83875",
                                    "3": "88979",
                                    "4": "94.26"
                                },
                                {
                                    "0": "44",
                                    "1": "HIST 126",
                                    "2": "836",
                                    "3": "0",
                                    "4": "NULL"
                                },
                                {
                                    "0": "15",
                                    "1": "HIST 149",
                                    "2": "360",
                                    "3": "450",
                                    "4": "80"
                                },
                                {
                                    "0": "19",
                                    "1": "HIST 204",
                                    "2": "361",
                                    "3": "665",
                                    "4": "54.29"
                                },
                                {
                                    "0": "10",
                                    "1": "HIST 289",
                                    "2": "170",
                                    "3": "300",
                                    "4": "56.67"
                                },
                                {
                                    "0": "10",
                                    "1": "HIST 370",
                                    "2": "190",
                                    "3": "250",
                                    "4": "76"
                                },
                                {
                                    "0": "14",
                                    "1": "HIST 716",
                                    "2": "322",
                                    "3": "336",
                                    "4": "95.83"
                                },
                                {
                                    "0": "15",
                                    "1": "HIST 756",
                                    "2": "315",
                                    "3": "360",
                                    "4": "87.5"
                                },
                                {
                                    "0": "9",
                                    "1": "HMNS 101",
                                    "2": "162",
                                    "3": "180",
                                    "4": "90"
                                },
                                {
                                    "0": "152",
                                    "1": "ITAL 111",
                                    "2": "4340",
                                    "3": "4104",
                                    "4": "105.75"
                                },
                                {
                                    "0": "9",
                                    "1": "ITAL 203",
                                    "2": "135",
                                    "3": "225",
                                    "4": "60"
                                },
                                {
                                    "0": "9",
                                    "1": "JAZZ 713",
                                    "2": "99",
                                    "3": "180",
                                    "4": "55"
                                },
                                {
                                    "0": "460",
                                    "1": "JPNS 102",
                                    "2": "10260",
                                    "3": "11000",
                                    "4": "93.27"
                                },
                                {
                                    "0": "8",
                                    "1": "JPNS 204",
                                    "2": "128",
                                    "3": "200",
                                    "4": "64"
                                },
                                {
                                    "0": "11",
                                    "1": "JPNS 306",
                                    "2": "66",
                                    "3": "275",
                                    "4": "24"
                                },
                                {
                                    "0": "10",
                                    "1": "LCD 206W",
                                    "2": "220",
                                    "3": "250",
                                    "4": "88"
                                },
                                {
                                    "0": "56",
                                    "1": "LCD 7414",
                                    "2": "364",
                                    "3": "224",
                                    "4": "162.5"
                                },
                                {
                                    "0": "75",
                                    "1": "LIBR 100",
                                    "2": "1090",
                                    "3": "1500",
                                    "4": "72.67"
                                },
                                {
                                    "0": "355",
                                    "1": "MATH 114",
                                    "2": "7820",
                                    "3": "7500",
                                    "4": "104.27"
                                },
                                {
                                    "0": "1100",
                                    "1": "MATH 120",
                                    "2": "33050",
                                    "3": "26860",
                                    "4": "123.05"
                                },
                                {
                                    "0": "5",
                                    "1": "MATH 132",
                                    "2": "60",
                                    "3": "125",
                                    "4": "48"
                                },
                                {
                                    "0": "3762",
                                    "1": "MATH 141",
                                    "2": "92592",
                                    "3": "84330",
                                    "4": "109.8"
                                },
                                {
                                    "0": "46",
                                    "1": "MATH 202",
                                    "2": "1194",
                                    "3": "1030",
                                    "4": "115.92"
                                },
                                {
                                    "0": "12",
                                    "1": "MATH 223",
                                    "2": "384",
                                    "3": "300",
                                    "4": "128"
                                },
                                {
                                    "0": "13",
                                    "1": "MATH 242",
                                    "2": "650",
                                    "3": "325",
                                    "4": "200"
                                },
                                {
                                    "0": "16",
                                    "1": "MATH 320",
                                    "2": "208",
                                    "3": "400",
                                    "4": "52"
                                },
                                {
                                    "0": "16",
                                    "1": "MATH 613",
                                    "2": "352",
                                    "3": "400",
                                    "4": "88"
                                },
                                {
                                    "0": "13",
                                    "1": "MATH 615",
                                    "2": "195",
                                    "3": "325",
                                    "4": "60"
                                },
                                {
                                    "0": "13",
                                    "1": "PHIL 146",
                                    "2": "117",
                                    "3": "156",
                                    "4": "75"
                                },
                                {
                                    "0": "14",
                                    "1": "PHIL 222",
                                    "2": "266",
                                    "3": "350",
                                    "4": "76"
                                },
                                {
                                    "0": "14",
                                    "1": "PHIL 267",
                                    "2": "140",
                                    "3": "210",
                                    "4": "66.67"
                                },
                                {
                                    "0": "13",
                                    "1": "PHIL 271",
                                    "2": "143",
                                    "3": "130",
                                    "4": "110"
                                },
                                {
                                    "0": "18",
                                    "1": "PHIL 710",
                                    "2": "36",
                                    "3": "90",
                                    "4": "40"
                                },
                                {
                                    "0": "14",
                                    "1": "PHIL 730",
                                    "2": "0",
                                    "3": "70",
                                    "4": "0"
                                },
                                {
                                    "0": "28",
                                    "1": "PHYS 003",
                                    "2": "1176",
                                    "3": "1400",
                                    "4": "84"
                                },
                                {
                                    "0": "78",
                                    "1": "PHYS 011",
                                    "2": "2028",
                                    "3": "2028",
                                    "4": "100"
                                },
                                {
                                    "0": "1305",
                                    "1": "PHYS 014",
                                    "2": "33930",
                                    "3": "33930",
                                    "4": "100"
                                },
                                {
                                    "0": "4543",
                                    "1": "PHYS 103",
                                    "2": "119493",
                                    "3": "118118",
                                    "4": "101.16"
                                },
                                {
                                    "0": "11",
                                    "1": "PHYS 227",
                                    "2": "264",
                                    "3": "264",
                                    "4": "100"
                                },
                                {
                                    "0": "1188",
                                    "1": "PSCI 101",
                                    "2": "37602",
                                    "3": "56106",
                                    "4": "67.02"
                                },
                                {
                                    "0": "192",
                                    "1": "PSCI 103",
                                    "2": "6660",
                                    "3": "7920",
                                    "4": "84.09"
                                },
                                {
                                    "0": "15",
                                    "1": "PSCI 211",
                                    "2": "825",
                                    "3": "825",
                                    "4": "100"
                                },
                                {
                                    "0": "15",
                                    "1": "PSCI 222",
                                    "2": "570",
                                    "3": "825",
                                    "4": "69.09"
                                },
                                {
                                    "0": "11",
                                    "1": "PSCI 230",
                                    "2": "220",
                                    "3": "385",
                                    "4": "57.14"
                                },
                                {
                                    "0": "20",
                                    "1": "PSCI 250",
                                    "2": "1160",
                                    "3": "1100",
                                    "4": "105.45"
                                },
                                {
                                    "0": "20",
                                    "1": "PSCI 255",
                                    "2": "760",
                                    "3": "1100",
                                    "4": "69.09"
                                },
                                {
                                    "0": "15",
                                    "1": "PSCI 280",
                                    "2": "315",
                                    "3": "450",
                                    "4": "70"
                                },
                                {
                                    "0": "20",
                                    "1": "PSCI 282",
                                    "2": "480",
                                    "3": "1100",
                                    "4": "43.64"
                                },
                                {
                                    "0": "19",
                                    "1": "PSCI 289",
                                    "2": "722",
                                    "3": "950",
                                    "4": "76"
                                },
                                {
                                    "0": "11",
                                    "1": "PSCI 297",
                                    "2": "253",
                                    "3": "264",
                                    "4": "95.83"
                                },
                                {
                                    "0": "12",
                                    "1": "RUSS 204",
                                    "2": "180",
                                    "3": "300",
                                    "4": "60"
                                },
                                {
                                    "0": "81",
                                    "1": "SEYS 552",
                                    "2": "1164",
                                    "3": "1620",
                                    "4": "71.85"
                                },
                                {
                                    "0": "11",
                                    "1": "SEYS 563",
                                    "2": "242",
                                    "3": "275",
                                    "4": "88"
                                },
                                {
                                    "0": "14",
                                    "1": "SEYS 707",
                                    "2": "280",
                                    "3": "280",
                                    "4": "100"
                                },
                                {
                                    "0": "13",
                                    "1": "SEYS 719",
                                    "2": "130",
                                    "3": "260",
                                    "4": "50"
                                },
                                {
                                    "0": "9",
                                    "1": "SEYS 724",
                                    "2": "90",
                                    "3": "180",
                                    "4": "50"
                                },
                                {
                                    "0": "11",
                                    "1": "SEYS 760",
                                    "2": "165",
                                    "3": "275",
                                    "4": "60"
                                },
                                {
                                    "0": "10",
                                    "1": "SPAN 060",
                                    "2": "240",
                                    "3": "250",
                                    "4": "96"
                                },
                                {
                                    "0": "10",
                                    "1": "SPAN 201",
                                    "2": "180",
                                    "3": "250",
                                    "4": "72"
                                },
                                {
                                    "0": "34",
                                    "1": "SPAN 225",
                                    "2": "740",
                                    "3": "850",
                                    "4": "87.06"
                                },
                                {
                                    "0": "48",
                                    "1": "WGS 101W",
                                    "2": "1176",
                                    "3": "1200",
                                    "4": "98"
                                },
                                {
                                    "0": "742",
                                    "1": "ACCT 202",
                                    "2": "31416",
                                    "3": "37233",
                                    "4": "84.38"
                                },
                                {
                                    "0": "546",
                                    "1": "ACCT 306",
                                    "2": "24648",
                                    "3": "28440",
                                    "4": "86.67"
                                },
                                {
                                    "0": "805",
                                    "1": "ACCT 311",
                                    "2": "30737",
                                    "3": "39445",
                                    "4": "77.92"
                                },
                                {
                                    "0": "400",
                                    "1": "ACCT 321",
                                    "2": "15410",
                                    "3": "18710",
                                    "4": "82.36"
                                },
                                {
                                    "0": "13",
                                    "1": "ACCT 341",
                                    "2": "871",
                                    "3": "871",
                                    "4": "100"
                                },
                                {
                                    "0": "12",
                                    "1": "ACCT 723",
                                    "2": "336",
                                    "3": "300",
                                    "4": "112"
                                },
                                {
                                    "0": "50",
                                    "1": "ACCT 757",
                                    "2": "1110",
                                    "3": "1250",
                                    "4": "88.8"
                                },
                                {
                                    "0": "21",
                                    "1": "ACCT 773",
                                    "2": "357",
                                    "3": "420",
                                    "4": "85"
                                },
                                {
                                    "0": "56",
                                    "1": "ANTH 200",
                                    "2": "896",
                                    "3": "840",
                                    "4": "106.67"
                                },
                                {
                                    "0": "6",
                                    "1": "ANTH 210",
                                    "2": "66",
                                    "3": "66",
                                    "4": "100"
                                },
                                {
                                    "0": "5",
                                    "1": "ANTH 361",
                                    "2": "90",
                                    "3": "85",
                                    "4": "105.88"
                                },
                                {
                                    "0": "14",
                                    "1": "ARAB 101",
                                    "2": "350",
                                    "3": "350",
                                    "4": "100"
                                },
                                {
                                    "0": "8",
                                    "1": "ARTH 258",
                                    "2": "408",
                                    "3": "400",
                                    "4": "102"
                                },
                                {
                                    "0": "36",
                                    "1": "ARTS 150",
                                    "2": "666",
                                    "3": "648",
                                    "4": "102.78"
                                },
                                {
                                    "0": "16",
                                    "1": "ARTS 172",
                                    "2": "272",
                                    "3": "272",
                                    "4": "100"
                                },
                                {
                                    "0": "160",
                                    "1": "ARTS 182",
                                    "2": "2720",
                                    "3": "2720",
                                    "4": "100"
                                },
                                {
                                    "0": "16",
                                    "1": "ARTS 192",
                                    "2": "256",
                                    "3": "272",
                                    "4": "94.12"
                                },
                                {
                                    "0": "280",
                                    "1": "ARTS 214",
                                    "2": "5192",
                                    "3": "4684",
                                    "4": "110.85"
                                },
                                {
                                    "0": "123",
                                    "1": "ARTS 240",
                                    "2": "1683",
                                    "3": "2214",
                                    "4": "76.02"
                                },
                                {
                                    "0": "156",
                                    "1": "ARTS 245",
                                    "2": "3120",
                                    "3": "2652",
                                    "4": "117.65"
                                },
                                {
                                    "0": "19",
                                    "1": "ARTS 247",
                                    "2": "152",
                                    "3": "152",
                                    "4": "100"
                                },
                                {
                                    "0": "18",
                                    "1": "ARTS 253",
                                    "2": "270",
                                    "3": "324",
                                    "4": "83.33"
                                },
                                {
                                    "0": "40",
                                    "1": "ARTS 264",
                                    "2": "368",
                                    "3": "720",
                                    "4": "51.11"
                                },
                                {
                                    "0": "9",
                                    "1": "ARTS 266",
                                    "2": "171",
                                    "3": "153",
                                    "4": "111.76"
                                },
                                {
                                    "0": "8",
                                    "1": "ARTS 276",
                                    "2": "104",
                                    "3": "112",
                                    "4": "92.86"
                                },
                                {
                                    "0": "75",
                                    "1": "ARTS 288",
                                    "2": "75",
                                    "3": "75",
                                    "4": "100"
                                },
                                {
                                    "0": "16",
                                    "1": "ARTS 290",
                                    "2": "288",
                                    "3": "272",
                                    "4": "105.88"
                                },
                                {
                                    "0": "32",
                                    "1": "ARTS 375",
                                    "2": "64",
                                    "3": "32",
                                    "4": "200"
                                },
                                {
                                    "0": "11",
                                    "1": "ARTS 392",
                                    "2": "154",
                                    "3": "77",
                                    "4": "200"
                                },
                                {
                                    "0": "248",
                                    "1": "ARTS 729",
                                    "2": "1000",
                                    "3": "1840",
                                    "4": "54.35"
                                },
                                {
                                    "0": "11",
                                    "1": "ARTS 731",
                                    "2": "88",
                                    "3": "88",
                                    "4": "100"
                                },
                                {
                                    "0": "112",
                                    "1": "ASTR 001",
                                    "2": "12320",
                                    "3": "12320",
                                    "4": "100"
                                },
                                {
                                    "0": "8959",
                                    "1": "BIOL 040",
                                    "2": "240397",
                                    "3": "257856",
                                    "4": "93.23"
                                },
                                {
                                    "0": "28925",
                                    "1": "BIOL 105",
                                    "2": "714575",
                                    "3": "726700",
                                    "4": "98.33"
                                },
                                {
                                    "0": "1014",
                                    "1": "BIOL 226",
                                    "2": "23616",
                                    "3": "23472",
                                    "4": "100.61"
                                },
                                {
                                    "0": "72",
                                    "1": "BIOL 367",
                                    "2": "1656",
                                    "3": "1800",
                                    "4": "92"
                                },
                                {
                                    "0": "16",
                                    "1": "BIOL 381",
                                    "2": "240",
                                    "3": "448",
                                    "4": "53.57"
                                },
                                {
                                    "0": "153",
                                    "1": "BIOL 610",
                                    "2": "765",
                                    "3": "765",
                                    "4": "100"
                                },
                                {
                                    "0": "16",
                                    "1": "BIOL 666",
                                    "2": "128",
                                    "3": "128",
                                    "4": "100"
                                },
                                {
                                    "0": "68",
                                    "1": "BUS 341W",
                                    "2": "1400",
                                    "3": "1880",
                                    "4": "74.47"
                                },
                                {
                                    "0": "6",
                                    "1": "CESL 700",
                                    "2": "78",
                                    "3": "120",
                                    "4": "65"
                                },
                                {
                                    "0": "15",
                                    "1": "CHEM 163",
                                    "2": "495",
                                    "3": "675",
                                    "4": "73.33"
                                },
                                {
                                    "0": "8",
                                    "1": "CHEM 385",
                                    "2": "8",
                                    "3": "96",
                                    "4": "8.33"
                                },
                                {
                                    "0": "8",
                                    "1": "CHEM 650",
                                    "2": "24",
                                    "3": "160",
                                    "4": "15"
                                },
                                {
                                    "0": "184",
                                    "1": "CHEM 781",
                                    "2": "368",
                                    "3": "4600",
                                    "4": "8"
                                },
                                {
                                    "0": "23",
                                    "1": "CHEM 786",
                                    "2": "23",
                                    "3": "460",
                                    "4": "5"
                                },
                                {
                                    "0": "88",
                                    "1": "CHIN 102",
                                    "2": "2376",
                                    "3": "2200",
                                    "4": "108"
                                },
                                {
                                    "0": "11",
                                    "1": "CHIN 204",
                                    "2": "253",
                                    "3": "275",
                                    "4": "92"
                                },
                                {
                                    "0": "11",
                                    "1": "CHIN 350",
                                    "2": "352",
                                    "3": "330",
                                    "4": "106.67"
                                },
                                {
                                    "0": "14",
                                    "1": "CHIN 360",
                                    "2": "406",
                                    "3": "420",
                                    "4": "96.67"
                                },
                                {
                                    "0": "1773",
                                    "1": "CSCI 048",
                                    "2": "73440",
                                    "3": "75510",
                                    "4": "97.26"
                                },
                                {
                                    "0": "284",
                                    "1": "CSCI 090",
                                    "2": "4256",
                                    "3": "6400",
                                    "4": "66.5"
                                },
                                {
                                    "0": "10",
                                    "1": "CSCI 344",
                                    "2": "210",
                                    "3": "320",
                                    "4": "65.63"
                                },
                                {
                                    "0": "177",
                                    "1": "CSCI 700",
                                    "2": "1005",
                                    "3": "1416",
                                    "4": "70.97"
                                },
                                {
                                    "0": "10",
                                    "1": "CSCI 715",
                                    "2": "90",
                                    "3": "120",
                                    "4": "75"
                                },
                                {
                                    "0": "165",
                                    "1": "CSCI 744",
                                    "2": "930",
                                    "3": "984",
                                    "4": "94.51"
                                },
                                {
                                    "0": "5",
                                    "1": "DRAM 115",
                                    "2": "110",
                                    "3": "150",
                                    "4": "73.33"
                                },
                                {
                                    "0": "13",
                                    "1": "DRAM 202",
                                    "2": "312",
                                    "3": "325",
                                    "4": "96"
                                },
                                {
                                    "0": "11",
                                    "1": "EAST 132",
                                    "2": "187",
                                    "3": "330",
                                    "4": "56.67"
                                },
                                {
                                    "0": "12",
                                    "1": "EAST 209",
                                    "2": "228",
                                    "3": "360",
                                    "4": "63.33"
                                },
                                {
                                    "0": "415",
                                    "1": "ECON 202",
                                    "2": "25170",
                                    "3": "26150",
                                    "4": "96.25"
                                },
                                {
                                    "0": "15",
                                    "1": "ECON 242",
                                    "2": "645",
                                    "3": "600",
                                    "4": "107.5"
                                },
                                {
                                    "0": "375",
                                    "1": "ECON 249",
                                    "2": "29700",
                                    "3": "29350",
                                    "4": "101.19"
                                },
                                {
                                    "0": "16",
                                    "1": "ECON 328",
                                    "2": "704",
                                    "3": "720",
                                    "4": "97.78"
                                },
                                {
                                    "0": "2977",
                                    "1": "ECON 721",
                                    "2": "7254",
                                    "3": "36972",
                                    "4": "19.62"
                                },
                                {
                                    "0": "45",
                                    "1": "EECE 220",
                                    "2": "885",
                                    "3": "900",
                                    "4": "98.33"
                                },
                                {
                                    "0": "108",
                                    "1": "EECE 311",
                                    "2": "2016",
                                    "3": "2700",
                                    "4": "74.67"
                                },
                                {
                                    "0": "208",
                                    "1": "EECE 525",
                                    "2": "5196",
                                    "3": "5200",
                                    "4": "99.92"
                                },
                                {
                                    "0": "15",
                                    "1": "EECE 806",
                                    "2": "195",
                                    "3": "225",
                                    "4": "86.67"
                                },
                                {
                                    "0": "185",
                                    "1": "ENGL 243",
                                    "2": "4860",
                                    "3": "4995",
                                    "4": "97.3"
                                },
                                {
                                    "0": "9",
                                    "1": "ENGL 302",
                                    "2": "144",
                                    "3": "162",
                                    "4": "88.89"
                                },
                                {
                                    "0": "11",
                                    "1": "ENGL 349",
                                    "2": "308",
                                    "3": "330",
                                    "4": "93.33"
                                },
                                {
                                    "0": "9",
                                    "1": "ENGL 369",
                                    "2": "279",
                                    "3": "270",
                                    "4": "103.33"
                                },
                                {
                                    "0": "7",
                                    "1": "ENGL 753",
                                    "2": "70",
                                    "3": "105",
                                    "4": "66.67"
                                },
                                {
                                    "0": "275",
                                    "1": "FNES 011",
                                    "2": "6930",
                                    "3": "6875",
                                    "4": "100.8"
                                },
                                {
                                    "0": "20",
                                    "1": "FNES 013",
                                    "2": "500",
                                    "3": "480",
                                    "4": "104.17"
                                },
                                {
                                    "0": "20",
                                    "1": "FNES 021",
                                    "2": "500",
                                    "3": "500",
                                    "4": "100"
                                },
                                {
                                    "0": "5",
                                    "1": "FNES 023",
                                    "2": "90",
                                    "3": "100",
                                    "4": "90"
                                },
                                {
                                    "0": "68",
                                    "1": "FNES 106",
                                    "2": "2754",
                                    "3": "2720",
                                    "4": "101.25"
                                },
                                {
                                    "0": "52",
                                    "1": "FNES 143",
                                    "2": "1144",
                                    "3": "1508",
                                    "4": "75.86"
                                },
                                {
                                    "0": "12",
                                    "1": "FNES 160",
                                    "2": "432",
                                    "3": "420",
                                    "4": "102.86"
                                },
                                {
                                    "0": "9",
                                    "1": "FNES 166",
                                    "2": "216",
                                    "3": "216",
                                    "4": "100"
                                },
                                {
                                    "0": "464",
                                    "1": "FNES 211",
                                    "2": "12064",
                                    "3": "12064",
                                    "4": "100"
                                },
                                {
                                    "0": "72",
                                    "1": "FNES 311",
                                    "2": "936",
                                    "3": "1800",
                                    "4": "52"
                                },
                                {
                                    "0": "60",
                                    "1": "FNES 342",
                                    "2": "1476",
                                    "3": "1956",
                                    "4": "75.46"
                                },
                                {
                                    "0": "9",
                                    "1": "FNES 343",
                                    "2": "306",
                                    "3": "306",
                                    "4": "100"
                                },
                                {
                                    "0": "12",
                                    "1": "FNES 349",
                                    "2": "180",
                                    "3": "288",
                                    "4": "62.5"
                                },
                                {
                                    "0": "116",
                                    "1": "FNES 353",
                                    "2": "3364",
                                    "3": "2784",
                                    "4": "120.83"
                                },
                                {
                                    "0": "12",
                                    "1": "FNES 369",
                                    "2": "120",
                                    "3": "300",
                                    "4": "40"
                                },
                                {
                                    "0": "18",
                                    "1": "FNES 381",
                                    "2": "378",
                                    "3": "450",
                                    "4": "84"
                                },
                                {
                                    "0": "18",
                                    "1": "FNES 702",
                                    "2": "414",
                                    "3": "540",
                                    "4": "76.67"
                                },
                                {
                                    "0": "7",
                                    "1": "FNES 719",
                                    "2": "70",
                                    "3": "140",
                                    "4": "50"
                                },
                                {
                                    "0": "144",
                                    "1": "FNES 726",
                                    "2": "720",
                                    "3": "2160",
                                    "4": "33.33"
                                },
                                {
                                    "0": "21",
                                    "1": "FNES 763",
                                    "2": "357",
                                    "3": "630",
                                    "4": "56.67"
                                },
                                {
                                    "0": "24",
                                    "1": "FREN 041",
                                    "2": "600",
                                    "3": "600",
                                    "4": "100"
                                },
                                {
                                    "0": "12",
                                    "1": "FREN 350",
                                    "2": "36",
                                    "3": "180",
                                    "4": "20"
                                },
                                {
                                    "0": "12",
                                    "1": "FREN 720",
                                    "2": "72",
                                    "3": "120",
                                    "4": "60"
                                },
                                {
                                    "0": "17",
                                    "1": "GEOL 008",
                                    "2": "1020",
                                    "3": "1037",
                                    "4": "98.36"
                                },
                                {
                                    "0": "413",
                                    "1": "GEOL 099",
                                    "2": "15092",
                                    "3": "15400",
                                    "4": "98"
                                },
                                {
                                    "0": "96",
                                    "1": "GEOL 702",
                                    "2": "0",
                                    "3": "192",
                                    "4": "0"
                                },
                                {
                                    "0": "400",
                                    "1": "HIST 102",
                                    "2": "16940",
                                    "3": "19370",
                                    "4": "87.45"
                                },
                                {
                                    "0": "3105",
                                    "1": "HIST 104",
                                    "2": "117345",
                                    "3": "120735",
                                    "4": "97.19"
                                },
                                {
                                    "0": "14",
                                    "1": "HIST 140",
                                    "2": "490",
                                    "3": "490",
                                    "4": "100"
                                },
                                {
                                    "0": "15",
                                    "1": "HIST 148",
                                    "2": "675",
                                    "3": "750",
                                    "4": "90"
                                },
                                {
                                    "0": "846",
                                    "1": "HIST 190",
                                    "2": "13149",
                                    "3": "16920",
                                    "4": "77.71"
                                },
                                {
                                    "0": "19",
                                    "1": "HIST 288",
                                    "2": "1007",
                                    "3": "950",
                                    "4": "106"
                                },
                                {
                                    "0": "21",
                                    "1": "HIST 302",
                                    "2": "105",
                                    "3": "105",
                                    "4": "100"
                                },
                                {
                                    "0": "19",
                                    "1": "HIST 347",
                                    "2": "551",
                                    "3": "760",
                                    "4": "72.5"
                                },
                                {
                                    "0": "15",
                                    "1": "HIST 710",
                                    "2": "315",
                                    "3": "360",
                                    "4": "87.5"
                                },
                                {
                                    "0": "18",
                                    "1": "HIST 719",
                                    "2": "450",
                                    "3": "432",
                                    "4": "104.17"
                                },
                                {
                                    "0": "10",
                                    "1": "HIST 796",
                                    "2": "50",
                                    "3": "100",
                                    "4": "50"
                                },
                                {
                                    "0": "54",
                                    "1": "HNRS 226",
                                    "2": "1122",
                                    "3": "1176",
                                    "4": "95.41"
                                },
                                {
                                    "0": "8",
                                    "1": "ITAL 112",
                                    "2": "144",
                                    "3": "200",
                                    "4": "72"
                                },
                                {
                                    "0": "10",
                                    "1": "ITAL 223",
                                    "2": "70",
                                    "3": "250",
                                    "4": "28"
                                },
                                {
                                    "0": "2",
                                    "1": "ITAL 780",
                                    "2": "18",
                                    "3": "20",
                                    "4": "90"
                                },
                                {
                                    "0": "9",
                                    "1": "JAZZ 710",
                                    "2": "108",
                                    "3": "180",
                                    "4": "60"
                                },
                                {
                                    "0": "360",
                                    "1": "JAZZ 794",
                                    "2": "16920",
                                    "3": "36000",
                                    "4": "47"
                                },
                                {
                                    "0": "11",
                                    "1": "JPNS 230",
                                    "2": "330",
                                    "3": "330",
                                    "4": "100"
                                },
                                {
                                    "0": "32",
                                    "1": "LCD 7293",
                                    "2": "512",
                                    "3": "512",
                                    "4": "100"
                                },
                                {
                                    "0": "15",
                                    "1": "MATH 113",
                                    "2": "255",
                                    "3": "375",
                                    "4": "68"
                                },
                                {
                                    "0": "2445",
                                    "1": "MATH 131",
                                    "2": "57420",
                                    "3": "55500",
                                    "4": "103.46"
                                },
                                {
                                    "0": "1026",
                                    "1": "MATH 142",
                                    "2": "26604",
                                    "3": "24615",
                                    "4": "108.08"
                                },
                                {
                                    "0": "402",
                                    "1": "MATH 151",
                                    "2": "9648",
                                    "3": "9150",
                                    "4": "105.44"
                                },
                                {
                                    "0": "12",
                                    "1": "MATH 158",
                                    "2": "108",
                                    "3": "300",
                                    "4": "36"
                                },
                                {
                                    "0": "581",
                                    "1": "MATH 231",
                                    "2": "17017",
                                    "3": "13300",
                                    "4": "127.95"
                                },
                                {
                                    "0": "776",
                                    "1": "MATH 241",
                                    "2": "25032",
                                    "3": "18600",
                                    "4": "134.58"
                                },
                                {
                                    "0": "15",
                                    "1": "MATH 341",
                                    "2": "225",
                                    "3": "270",
                                    "4": "83.33"
                                },
                                {
                                    "0": "16",
                                    "1": "MATH 505",
                                    "2": "352",
                                    "3": "400",
                                    "4": "88"
                                },
                                {
                                    "0": "16",
                                    "1": "MATH 524",
                                    "2": "400",
                                    "3": "400",
                                    "4": "100"
                                },
                                {
                                    "0": "13",
                                    "1": "MATH 618",
                                    "2": "728",
                                    "3": "650",
                                    "4": "112"
                                },
                                {
                                    "0": "11",
                                    "1": "MATH 633",
                                    "2": "176",
                                    "3": "220",
                                    "4": "80"
                                },
                                {
                                    "0": "14",
                                    "1": "PHIL 121",
                                    "2": "238",
                                    "3": "350",
                                    "4": "68"
                                },
                                {
                                    "0": "224",
                                    "1": "PHIL 160",
                                    "2": "7224",
                                    "3": "7280",
                                    "4": "99.23"
                                },
                                {
                                    "0": "13",
                                    "1": "PHIL 223",
                                    "2": "169",
                                    "3": "195",
                                    "4": "86.67"
                                },
                                {
                                    "0": "14",
                                    "1": "PHIL 653",
                                    "2": "0",
                                    "3": "70",
                                    "4": "0"
                                },
                                {
                                    "0": "13",
                                    "1": "PHIL 717",
                                    "2": "13",
                                    "3": "65",
                                    "4": "20"
                                },
                                {
                                    "0": "34",
                                    "1": "PHYS 234",
                                    "2": "306",
                                    "3": "340",
                                    "4": "90"
                                },
                                {
                                    "0": "11",
                                    "1": "PHYS 623",
                                    "2": "55",
                                    "3": "44",
                                    "4": "125"
                                },
                                {
                                    "0": "2",
                                    "1": "PHYS 661",
                                    "2": "14",
                                    "3": "30",
                                    "4": "46.67"
                                },
                                {
                                    "0": "9",
                                    "1": "PORT 204",
                                    "2": "126",
                                    "3": "225",
                                    "4": "56"
                                },
                                {
                                    "0": "1032",
                                    "1": "PSCI 100",
                                    "2": "36544",
                                    "3": "45504",
                                    "4": "80.31"
                                },
                                {
                                    "0": "15",
                                    "1": "PSCI 217",
                                    "2": "675",
                                    "3": "825",
                                    "4": "81.82"
                                },
                                {
                                    "0": "20",
                                    "1": "PSCI 231",
                                    "2": "600",
                                    "3": "600",
                                    "4": "100"
                                },
                                {
                                    "0": "11",
                                    "1": "PSCI 239",
                                    "2": "242",
                                    "3": "385",
                                    "4": "62.86"
                                },
                                {
                                    "0": "20",
                                    "1": "PSCI 258",
                                    "2": "300",
                                    "3": "1100",
                                    "4": "27.27"
                                },
                                {
                                    "0": "19",
                                    "1": "PSCI 260",
                                    "2": "684",
                                    "3": "950",
                                    "4": "72"
                                },
                                {
                                    "0": "11",
                                    "1": "PSCI 269",
                                    "2": "88",
                                    "3": "385",
                                    "4": "22.86"
                                },
                                {
                                    "0": "20",
                                    "1": "PSCI 276",
                                    "2": "600",
                                    "3": "700",
                                    "4": "85.71"
                                },
                                {
                                    "0": "15",
                                    "1": "PSCI 279",
                                    "2": "255",
                                    "3": "825",
                                    "4": "30.91"
                                },
                                {
                                    "0": "13",
                                    "1": "SEYS 362",
                                    "2": "78",
                                    "3": "325",
                                    "4": "24"
                                },
                                {
                                    "0": "12",
                                    "1": "SEYS 364",
                                    "2": "156",
                                    "3": "300",
                                    "4": "52"
                                },
                                {
                                    "0": "3",
                                    "1": "SEYS 560",
                                    "2": "42",
                                    "3": "75",
                                    "4": "56"
                                },
                                {
                                    "0": "12",
                                    "1": "SEYS 706",
                                    "2": "108",
                                    "3": "240",
                                    "4": "45"
                                },
                                {
                                    "0": "13",
                                    "1": "SEYS 718",
                                    "2": "286",
                                    "3": "260",
                                    "4": "110"
                                },
                                {
                                    "0": "14",
                                    "1": "SEYS 778",
                                    "2": "56",
                                    "3": "350",
                                    "4": "16"
                                },
                                {
                                    "0": "17",
                                    "1": "SEYS 786",
                                    "2": "136",
                                    "3": "425",
                                    "4": "32"
                                },
                                {
                                    "0": "434",
                                    "1": "SOC 381W",
                                    "2": "8057",
                                    "3": "8015",
                                    "4": "100.52"
                                },
                                {
                                    "0": "156",
                                    "1": "SPAN 041",
                                    "2": "3876",
                                    "3": "3900",
                                    "4": "99.38"
                                },
                                {
                                    "0": "360",
                                    "1": "SPAN 112",
                                    "2": "9888",
                                    "3": "7200",
                                    "4": "137.33"
                                },
                                {
                                    "0": "8",
                                    "1": "SPAN 240",
                                    "2": "192",
                                    "3": "200",
                                    "4": "96"
                                },
                                {
                                    "0": "10",
                                    "1": "SPAN 260",
                                    "2": "170",
                                    "3": "250",
                                    "4": "68"
                                },
                                {
                                    "0": "8",
                                    "1": "SPAN 280",
                                    "2": "152",
                                    "3": "200",
                                    "4": "76"
                                },
                                {
                                    "0": "9",
                                    "1": "SPAN 290",
                                    "2": "189",
                                    "3": "225",
                                    "4": "84"
                                },
                                {
                                    "0": "8",
                                    "1": "SPAN 357",
                                    "2": "200",
                                    "3": "224",
                                    "4": "89.29"
                                },
                                {
                                    "0": "12",
                                    "1": "SPAN 760",
                                    "2": "96",
                                    "3": "60",
                                    "4": "160"
                                }
                            ]
                        },
                        "text/html": [
                            "<table>",
                            "<tr><th>Classes</th><th>CourseName</th><th>Enrolled</th><th>TotalEnrollment</th><th>Percentage</th></tr>",
                            "<tr><td>498</td><td>ACCT 322</td><td>19692</td><td>22740</td><td>86.6</td></tr>",
                            "<tr><td>13</td><td>ACCT 343</td><td>390</td><td>390</td><td>100</td></tr>",
                            "<tr><td>68</td><td>ACCT 350</td><td>2040</td><td>3128</td><td>65.22</td></tr>",
                            "<tr><td>798</td><td>ACCT 367</td><td>35686</td><td>42399</td><td>84.17</td></tr>",
                            "<tr><td>174</td><td>ACCT 752</td><td>1959</td><td>3480</td><td>56.29</td></tr>",
                            "<tr><td>891</td><td>ANTH 103</td><td>49374</td><td>52326</td><td>94.36</td></tr>",
                            "<tr><td>148</td><td>ANTH 104</td><td>8932</td><td>8560</td><td>104.35</td></tr>",
                            "<tr><td>20</td><td>ANTH 201</td><td>200</td><td>240</td><td>83.33</td></tr>",
                            "<tr><td>13</td><td>ANTH 225</td><td>260</td><td>260</td><td>100</td></tr>",
                            "<tr><td>5</td><td>ANTH 279</td><td>85</td><td>85</td><td>100</td></tr>",
                            "<tr><td>12</td><td>ARAB 102</td><td>336</td><td>300</td><td>112</td></tr>",
                            "<tr><td>11</td><td>ARTH 256</td><td>418</td><td>440</td><td>95</td></tr>",
                            "<tr><td>11</td><td>ARTH 300</td><td>44</td><td>110</td><td>40</td></tr>",
                            "<tr><td>168</td><td>ARTS 165</td><td>3018</td><td>2856</td><td>105.67</td></tr>",
                            "<tr><td>320</td><td>ARTS 186</td><td>5760</td><td>5440</td><td>105.88</td></tr>",
                            "<tr><td>56</td><td>ARTS 187</td><td>514</td><td>552</td><td>93.12</td></tr>",
                            "<tr><td>232</td><td>ARTS 190</td><td>4028</td><td>3944</td><td>102.13</td></tr>",
                            "<tr><td>280</td><td>ARTS 191</td><td>4760</td><td>4665</td><td>102.04</td></tr>",
                            "<tr><td>272</td><td>ARTS 193</td><td>4824</td><td>4624</td><td>104.33</td></tr>",
                            "<tr><td>21</td><td>ARTS 215</td><td>336</td><td>336</td><td>100</td></tr>",
                            "<tr><td>16</td><td>ARTS 235</td><td>64</td><td>64</td><td>100</td></tr>",
                            "<tr><td>18</td><td>ARTS 249</td><td>306</td><td>306</td><td>100</td></tr>",
                            "<tr><td>21</td><td>ARTS 250</td><td>252</td><td>357</td><td>70.59</td></tr>",
                            "<tr><td>21</td><td>ARTS 259</td><td>252</td><td>210</td><td>120</td></tr>",
                            "<tr><td>40</td><td>ARTS 260</td><td>544</td><td>600</td><td>90.67</td></tr>",
                            "<tr><td>16</td><td>ARTS 279</td><td>288</td><td>288</td><td>100</td></tr>",
                            "<tr><td>20</td><td>ARTS 282</td><td>320</td><td>280</td><td>114.29</td></tr>",
                            "<tr><td>10</td><td>ARTS 283</td><td>80</td><td>140</td><td>57.14</td></tr>",
                            "<tr><td>10</td><td>ARTS 284</td><td>20</td><td>40</td><td>50</td></tr>",
                            "<tr><td>5</td><td>ARTS 333</td><td>75</td><td>90</td><td>83.33</td></tr>",
                            "<tr><td>320</td><td>ARTS 379</td><td>480</td><td>320</td><td>150</td></tr>",
                            "<tr><td>11</td><td>ARTS 724</td><td>121</td><td>154</td><td>78.57</td></tr>",
                            "<tr><td>1870</td><td>BIOL 041</td><td>37500</td><td>36740</td><td>102.07</td></tr>",
                            "<tr><td>5837</td><td>BIOL 201</td><td>122642</td><td>124956</td><td>98.15</td></tr>",
                            "<tr><td>22528</td><td>BIOL 285</td><td>584936</td><td>608784</td><td>96.08</td></tr>",
                            "<tr><td>15</td><td>BIOL 286</td><td>1935</td><td>1800</td><td>107.5</td></tr>",
                            "<tr><td>153</td><td>BIOL 310</td><td>1377</td><td>1377</td><td>100</td></tr>",
                            "<tr><td>54</td><td>CESL 031</td><td>828</td><td>972</td><td>85.19</td></tr>",
                            "<tr><td>6</td><td>CESL 284</td><td>138</td><td>120</td><td>115</td></tr>",
                            "<tr><td>23</td><td>CHEM 378</td><td>69</td><td>460</td><td>15</td></tr>",
                            "<tr><td>184</td><td>CHEM 381</td><td>184</td><td>4600</td><td>4</td></tr>",
                            "<tr><td>23</td><td>CHEM 760</td><td>69</td><td>805</td><td>8.57</td></tr>",
                            "<tr><td>12</td><td>CHIN 317</td><td>360</td><td>360</td><td>100</td></tr>",
                            "<tr><td>7</td><td>CHIN 320</td><td>252</td><td>210</td><td>120</td></tr>",
                            "<tr><td>8</td><td>CHIN 340</td><td>240</td><td>240</td><td>100</td></tr>",
                            "<tr><td>15</td><td>CHIN 370</td><td>525</td><td>450</td><td>116.67</td></tr>",
                            "<tr><td>497</td><td>CLAS 150</td><td>13251</td><td>14910</td><td>88.87</td></tr>",
                            "<tr><td>52</td><td>CSCI 087</td><td>520</td><td>1040</td><td>50</td></tr>",
                            "<tr><td>5984</td><td>CSCI 111</td><td>275281</td><td>276012</td><td>99.74</td></tr>",
                            "<tr><td>4425</td><td>CSCI 211</td><td>187425</td><td>191685</td><td>97.78</td></tr>",
                            "<tr><td>4440</td><td>CSCI 212</td><td>173115</td><td>180975</td><td>95.66</td></tr>",
                            "<tr><td>702</td><td>CSCI 240</td><td>28764</td><td>29238</td><td>98.38</td></tr>",
                            "<tr><td>168</td><td>CSCI 316</td><td>7170</td><td>7560</td><td>94.84</td></tr>",
                            "<tr><td>177</td><td>CSCI 323</td><td>5706</td><td>5886</td><td>96.94</td></tr>",
                            "<tr><td>20</td><td>CSCI 332</td><td>340</td><td>340</td><td>100</td></tr>",
                            "<tr><td>308</td><td>CSCI 340</td><td>12080</td><td>12320</td><td>98.05</td></tr>",
                            "<tr><td>320</td><td>CSCI 343</td><td>12172</td><td>12240</td><td>99.44</td></tr>",
                            "<tr><td>177</td><td>CSCI 370</td><td>4563</td><td>5310</td><td>85.93</td></tr>",
                            "<tr><td>13</td><td>DRAM 204</td><td>286</td><td>312</td><td>91.67</td></tr>",
                            "<tr><td>13</td><td>DRAM 308</td><td>195</td><td>325</td><td>60</td></tr>",
                            "<tr><td>60</td><td>DRAM 329</td><td>624</td><td>1800</td><td>34.67</td></tr>",
                            "<tr><td>36</td><td>EAST 290</td><td>100</td><td>516</td><td>19.38</td></tr>",
                            "<tr><td>64</td><td>ECON 207</td><td>2050</td><td>1900</td><td>107.89</td></tr>",
                            "<tr><td>15</td><td>ECON 208</td><td>450</td><td>450</td><td>100</td></tr>",
                            "<tr><td>16</td><td>ECON 212</td><td>800</td><td>720</td><td>111.11</td></tr>",
                            "<tr><td>14</td><td>ECON 213</td><td>294</td><td>350</td><td>84</td></tr>",
                            "<tr><td>3930</td><td>ECON 382</td><td>81240</td><td>73080</td><td>111.17</td></tr>",
                            "<tr><td>117</td><td>EECE 350</td><td>2028</td><td>2340</td><td>86.67</td></tr>",
                            "<tr><td>135</td><td>EECE 351</td><td>2205</td><td>2700</td><td>81.67</td></tr>",
                            "<tr><td>120</td><td>EECE 352</td><td>1944</td><td>2400</td><td>81</td></tr>",
                            "<tr><td>144</td><td>EECE 750</td><td>2584</td><td>3240</td><td>79.75</td></tr>",
                            "<tr><td>24</td><td>EECE 803</td><td>432</td><td>480</td><td>90</td></tr>",
                            "<tr><td>17612</td><td>ENGL 130</td><td>394716</td><td>405853</td><td>97.26</td></tr>",
                            "<tr><td>180</td><td>ENGL 241</td><td>4724</td><td>4860</td><td>97.2</td></tr>",
                            "<tr><td>180</td><td>ENGL 244</td><td>4184</td><td>4860</td><td>86.09</td></tr>",
                            "<tr><td>14</td><td>ENGL 320</td><td>420</td><td>420</td><td>100</td></tr>",
                            "<tr><td>16</td><td>ENGL 352</td><td>480</td><td>464</td><td>103.45</td></tr>",
                            "<tr><td>14</td><td>ENGL 354</td><td>434</td><td>420</td><td>103.33</td></tr>",
                            "<tr><td>14</td><td>ENGL 387</td><td>420</td><td>420</td><td>100</td></tr>",
                            "<tr><td>13</td><td>ENGL 719</td><td>104</td><td>156</td><td>66.67</td></tr>",
                            "<tr><td>18</td><td>ENGL 723</td><td>180</td><td>216</td><td>83.33</td></tr>",
                            "<tr><td>2</td><td>ENGL 760</td><td>18</td><td>30</td><td>60</td></tr>",
                            "<tr><td>13</td><td>ENGL 761</td><td>143</td><td>195</td><td>73.33</td></tr>",
                            "<tr><td>6080</td><td>FNES 012</td><td>24860</td><td>41800</td><td>59.47</td></tr>",
                            "<tr><td>144</td><td>FNES 030</td><td>4032</td><td>3996</td><td>100.9</td></tr>",
                            "<tr><td>3</td><td>FNES 126</td><td>57</td><td>54</td><td>105.56</td></tr>",
                            "<tr><td>44</td><td>FNES 147</td><td>2420</td><td>2420</td><td>100</td></tr>",
                            "<tr><td>26</td><td>FNES 151</td><td>1098</td><td>1240</td><td>88.55</td></tr>",
                            "<tr><td>18</td><td>FNES 235</td><td>630</td><td>612</td><td>102.94</td></tr>",
                            "<tr><td>12</td><td>FNES 249</td><td>216</td><td>300</td><td>72</td></tr>",
                            "<tr><td>11</td><td>FNES 275</td><td>440</td><td>440</td><td>100</td></tr>",
                            "<tr><td>12</td><td>FNES 347</td><td>156</td><td>300</td><td>52</td></tr>",
                            "<tr><td>153</td><td>FNES 380</td><td>2448</td><td>2754</td><td>88.89</td></tr>",
                            "<tr><td>3</td><td>FNES 538</td><td>24</td><td>45</td><td>53.33</td></tr>",
                            "<tr><td>1</td><td>FNES 573</td><td>7</td><td>15</td><td>46.67</td></tr>",
                            "<tr><td>10</td><td>FNES 574</td><td>30</td><td>100</td><td>30</td></tr>",
                            "<tr><td>18</td><td>FNES 714</td><td>270</td><td>270</td><td>100</td></tr>",
                            "<tr><td>2</td><td>FNES 774</td><td>24</td><td>24</td><td>100</td></tr>",
                            "<tr><td>21</td><td>FNES 781</td><td>147</td><td>420</td><td>35</td></tr>",
                            "<tr><td>12</td><td>FNES 796</td><td>168</td><td>60</td><td>280</td></tr>",
                            "<tr><td>8</td><td>FREN 235</td><td>112</td><td>200</td><td>56</td></tr>",
                            "<tr><td>12</td><td>FREN 780</td><td>84</td><td>300</td><td>28</td></tr>",
                            "<tr><td>19</td><td>HIST 111</td><td>893</td><td>950</td><td>94</td></tr>",
                            "<tr><td>64</td><td>HIST 145</td><td>1328</td><td>1920</td><td>69.17</td></tr>",
                            "<tr><td>66</td><td>HIST 160</td><td>2226</td><td>2310</td><td>96.36</td></tr>",
                            "<tr><td>19</td><td>HIST 164</td><td>969</td><td>950</td><td>102</td></tr>",
                            "<tr><td>18</td><td>HIST 209</td><td>594</td><td>810</td><td>73.33</td></tr>",
                            "<tr><td>12</td><td>HIST 231</td><td>264</td><td>420</td><td>62.86</td></tr>",
                            "<tr><td>18</td><td>HIST 255</td><td>630</td><td>630</td><td>100</td></tr>",
                            "<tr><td>18</td><td>HIST 299</td><td>900</td><td>900</td><td>100</td></tr>",
                            "<tr><td>14</td><td>HIST 311</td><td>476</td><td>490</td><td>97.14</td></tr>",
                            "<tr><td>15</td><td>HIST 791</td><td>225</td><td>225</td><td>100</td></tr>",
                            "<tr><td>10</td><td>HIST 792</td><td>30</td><td>150</td><td>20</td></tr>",
                            "<tr><td>8</td><td>JAZZ 704</td><td>88</td><td>160</td><td>55</td></tr>",
                            "<tr><td>8</td><td>JAZZ 705</td><td>184</td><td>160</td><td>115</td></tr>",
                            "<tr><td>696</td><td>MATH 110</td><td>12816</td><td>16440</td><td>77.96</td></tr>",
                            "<tr><td>5502</td><td>MATH 115</td><td>111258</td><td>120855</td><td>92.06</td></tr>",
                            "<tr><td>13</td><td>MATH 116</td><td>247</td><td>325</td><td>76</td></tr>",
                            "<tr><td>310</td><td>MATH 201</td><td>6440</td><td>7500</td><td>85.87</td></tr>",
                            "<tr><td>12</td><td>MATH 272</td><td>48</td><td>300</td><td>16</td></tr>",
                            "<tr><td>11</td><td>MATH 555</td><td>231</td><td>275</td><td>84</td></tr>",
                            "<tr><td>6</td><td>MATH 628</td><td>138</td><td>138</td><td>100</td></tr>",
                            "<tr><td>15</td><td>MES 255W</td><td>255</td><td>375</td><td>68</td></tr>",
                            "<tr><td>129</td><td>PHIL 109</td><td>2175</td><td>2805</td><td>77.54</td></tr>",
                            "<tr><td>42</td><td>PHIL 116</td><td>1344</td><td>1470</td><td>91.43</td></tr>",
                            "<tr><td>18</td><td>PHIL 140</td><td>576</td><td>630</td><td>91.43</td></tr>",
                            "<tr><td>7</td><td>PHIL 143</td><td>210</td><td>210</td><td>100</td></tr>",
                            "<tr><td>13</td><td>PHIL 743</td><td>13</td><td>65</td><td>20</td></tr>",
                            "<tr><td>21</td><td>PHIL 778</td><td>21</td><td>105</td><td>20</td></tr>",
                            "<tr><td>28</td><td>PHYS 007</td><td>252</td><td>1400</td><td>18</td></tr>",
                            "<tr><td>2</td><td>PHYS 225</td><td>36</td><td>32</td><td>112.5</td></tr>",
                            "<tr><td>28</td><td>PHYS 507</td><td>56</td><td>700</td><td>8</td></tr>",
                            "<tr><td>7</td><td>PHYS 611</td><td>21</td><td>70</td><td>30</td></tr>",
                            "<tr><td>2</td><td>PHYS 672</td><td>14</td><td>30</td><td>46.67</td></tr>",
                            "<tr><td>30</td><td>PORT 111</td><td>750</td><td>750</td><td>100</td></tr>",
                            "<tr><td>70</td><td>PSCI 200</td><td>2400</td><td>2400</td><td>100</td></tr>",
                            "<tr><td>15</td><td>PSCI 232</td><td>375</td><td>825</td><td>45.45</td></tr>",
                            "<tr><td>19</td><td>PSCI 234</td><td>950</td><td>950</td><td>100</td></tr>",
                            "<tr><td>15</td><td>PSCI 235</td><td>330</td><td>825</td><td>40</td></tr>",
                            "<tr><td>7</td><td>SEEK 195</td><td>105</td><td>140</td><td>75</td></tr>",
                            "<tr><td>290</td><td>SEYS 340</td><td>6160</td><td>6050</td><td>101.82</td></tr>",
                            "<tr><td>12</td><td>SEYS 564</td><td>216</td><td>300</td><td>72</td></tr>",
                            "<tr><td>117</td><td>SEYS 700</td><td>1956</td><td>2340</td><td>83.59</td></tr>",
                            "<tr><td>13</td><td>SEYS 782</td><td>104</td><td>325</td><td>32</td></tr>",
                            "<tr><td>14</td><td>SEYS 784</td><td>196</td><td>350</td><td>56</td></tr>",
                            "<tr><td>8</td><td>SPAN 047</td><td>200</td><td>200</td><td>100</td></tr>",
                            "<tr><td>2085</td><td>SPAN 111</td><td>52725</td><td>52125</td><td>101.15</td></tr>",
                            "<tr><td>10</td><td>SPAN 215</td><td>190</td><td>250</td><td>76</td></tr>",
                            "<tr><td>102</td><td>SPAN 221</td><td>1773</td><td>2550</td><td>69.53</td></tr>",
                            "<tr><td>12</td><td>SPAN 377</td><td>72</td><td>96</td><td>75</td></tr>",
                            "<tr><td>9</td><td>SPAN 378</td><td>81</td><td>252</td><td>32.14</td></tr>",
                            "<tr><td>2052</td><td>ACCT 101</td><td>87456</td><td>101760</td><td>85.94</td></tr>",
                            "<tr><td>174</td><td>ACCT 363</td><td>3108</td><td>5220</td><td>59.54</td></tr>",
                            "<tr><td>728</td><td>ACCT 372</td><td>28105</td><td>35294</td><td>79.63</td></tr>",
                            "<tr><td>18</td><td>ACCT 707</td><td>504</td><td>450</td><td>112</td></tr>",
                            "<tr><td>3</td><td>ACCT 748</td><td>84</td><td>75</td><td>112</td></tr>",
                            "<tr><td>13</td><td>AFST 102</td><td>455</td><td>455</td><td>100</td></tr>",
                            "<tr><td>1170</td><td>ANTH 101</td><td>70407</td><td>70236</td><td>100.24</td></tr>",
                            "<tr><td>1441</td><td>ANTH 102</td><td>84304</td><td>84766</td><td>99.45</td></tr>",
                            "<tr><td>12</td><td>ANTH 239</td><td>228</td><td>240</td><td>95</td></tr>",
                            "<tr><td>5</td><td>ANTH 240</td><td>100</td><td>100</td><td>100</td></tr>",
                            "<tr><td>11</td><td>ANTH 241</td><td>396</td><td>407</td><td>97.3</td></tr>",
                            "<tr><td>12</td><td>ANTH 243</td><td>144</td><td>240</td><td>60</td></tr>",
                            "<tr><td>8</td><td>ARAB 306</td><td>56</td><td>200</td><td>28</td></tr>",
                            "<tr><td>81</td><td>ARTH 001</td><td>3768</td><td>3720</td><td>101.29</td></tr>",
                            "<tr><td>8</td><td>ARTH 101</td><td>400</td><td>400</td><td>100</td></tr>",
                            "<tr><td>81</td><td>ARTH 102</td><td>3633</td><td>3720</td><td>97.66</td></tr>",
                            "<tr><td>2</td><td>ARTH 234</td><td>72</td><td>100</td><td>72</td></tr>",
                            "<tr><td>2</td><td>ARTH 286</td><td>46</td><td>70</td><td>65.71</td></tr>",
                            "<tr><td>11</td><td>ARTH 503</td><td>33</td><td>110</td><td>30</td></tr>",
                            "<tr><td>11</td><td>ARTH 740</td><td>110</td><td>110</td><td>100</td></tr>",
                            "<tr><td>540</td><td>ARTS 151</td><td>9396</td><td>9180</td><td>102.35</td></tr>",
                            "<tr><td>32</td><td>ARTS 176</td><td>512</td><td>544</td><td>94.12</td></tr>",
                            "<tr><td>16</td><td>ARTS 225</td><td>192</td><td>224</td><td>85.71</td></tr>",
                            "<tr><td>240</td><td>ARTS 241</td><td>4152</td><td>4080</td><td>101.76</td></tr>",
                            "<tr><td>260</td><td>ARTS 256</td><td>520</td><td>260</td><td>200</td></tr>",
                            "<tr><td>9</td><td>ARTS 273</td><td>99</td><td>108</td><td>91.67</td></tr>",
                            "<tr><td>21</td><td>ARTS 359</td><td>147</td><td>126</td><td>116.67</td></tr>",
                            "<tr><td>20</td><td>ARTS 369</td><td>80</td><td>80</td><td>100</td></tr>",
                            "<tr><td>240</td><td>ARTS 370</td><td>3936</td><td>4080</td><td>96.47</td></tr>",
                            "<tr><td>44</td><td>ARTS 390</td><td>286</td><td>308</td><td>92.86</td></tr>",
                            "<tr><td>84</td><td>ARTS 395</td><td>1428</td><td>1428</td><td>100</td></tr>",
                            "<tr><td>630</td><td>ARTS 713</td><td>336</td><td>852</td><td>39.44</td></tr>",
                            "<tr><td>176</td><td>BALA 100</td><td>3620</td><td>3000</td><td>120.67</td></tr>",
                            "<tr><td>99</td><td>BALA 200</td><td>2259</td><td>2178</td><td>103.72</td></tr>",
                            "<tr><td>72</td><td>BIOL 010</td><td>72</td><td>144</td><td>50</td></tr>",
                            "<tr><td>42484</td><td>BIOL 011</td><td>920512</td><td>1031510</td><td>89.24</td></tr>",
                            "<tr><td>11</td><td>BIOL 022</td><td>319</td><td>385</td><td>82.86</td></tr>",
                            "<tr><td>280</td><td>BIOL 043</td><td>5316</td><td>7304</td><td>72.78</td></tr>",
                            "<tr><td>424</td><td>BIOL 044</td><td>8784</td><td>8784</td><td>100</td></tr>",
                            "<tr><td>17493</td><td>BIOL 106</td><td>387198</td><td>387198</td><td>100</td></tr>",
                            "<tr><td>8</td><td>BIOL 262</td><td>120</td><td>144</td><td>83.33</td></tr>",
                            "<tr><td>276</td><td>BIOL 326</td><td>5274</td><td>5472</td><td>96.38</td></tr>",
                            "<tr><td>16</td><td>BIOL 791</td><td>80</td><td>96</td><td>83.33</td></tr>",
                            "<tr><td>123</td><td>BUS 160W</td><td>3423</td><td>3300</td><td>103.73</td></tr>",
                            "<tr><td>2</td><td>CHEM 161</td><td>14</td><td>36</td><td>38.89</td></tr>",
                            "<tr><td>23</td><td>CHEM 212</td><td>276</td><td>805</td><td>34.29</td></tr>",
                            "<tr><td>8</td><td>CHEM 371</td><td>448</td><td>800</td><td>56</td></tr>",
                            "<tr><td>23</td><td>CHEM 372</td><td>230</td><td>690</td><td>33.33</td></tr>",
                            "<tr><td>8</td><td>CHEM 715</td><td>40</td><td>96</td><td>41.67</td></tr>",
                            "<tr><td>12</td><td>CHIN 251</td><td>84</td><td>360</td><td>23.33</td></tr>",
                            "<tr><td>8</td><td>CHIN 314</td><td>240</td><td>240</td><td>100</td></tr>",
                            "<tr><td>19</td><td>CSCI 100</td><td>380</td><td>380</td><td>100</td></tr>",
                            "<tr><td>854</td><td>CSCI 220</td><td>32060</td><td>32662</td><td>98.16</td></tr>",
                            "<tr><td>8</td><td>CSCI 711</td><td>64</td><td>64</td><td>100</td></tr>",
                            "<tr><td>490</td><td>DRAM 001</td><td>19586</td><td>19964</td><td>98.11</td></tr>",
                            "<tr><td>1728</td><td>DRAM 100</td><td>58464</td><td>58800</td><td>99.43</td></tr>",
                            "<tr><td>13</td><td>DRAM 101</td><td>325</td><td>312</td><td>104.17</td></tr>",
                            "<tr><td>108</td><td>DRAM 121</td><td>2592</td><td>2592</td><td>100</td></tr>",
                            "<tr><td>56</td><td>DRAM 222</td><td>952</td><td>1120</td><td>85</td></tr>",
                            "<tr><td>3</td><td>DRAM 230</td><td>45</td><td>75</td><td>60</td></tr>",
                            "<tr><td>14</td><td>DRAM 323</td><td>238</td><td>280</td><td>85</td></tr>",
                            "<tr><td>8</td><td>DRAM 343</td><td>64</td><td>160</td><td>40</td></tr>",
                            "<tr><td>10</td><td>DRAM 397</td><td>50</td><td>250</td><td>20</td></tr>",
                            "<tr><td>4</td><td>EAST 380</td><td>36</td><td>60</td><td>60</td></tr>",
                            "<tr><td>12</td><td>ECON 100</td><td>600</td><td>600</td><td>100</td></tr>",
                            "<tr><td>1944</td><td>ECON 102</td><td>100968</td><td>100728</td><td>100.24</td></tr>",
                            "<tr><td>244</td><td>ECON 201</td><td>19424</td><td>20272</td><td>95.82</td></tr>",
                            "<tr><td>18</td><td>ECON 326</td><td>756</td><td>810</td><td>93.33</td></tr>",
                            "<tr><td>9</td><td>EECE 333</td><td>99</td><td>315</td><td>31.43</td></tr>",
                            "<tr><td>486</td><td>EECE 340</td><td>11226</td><td>11898</td><td>94.35</td></tr>",
                            "<tr><td>132</td><td>EECE 341</td><td>2508</td><td>3300</td><td>76</td></tr>",
                            "<tr><td>13</td><td>EECE 545</td><td>351</td><td>325</td><td>108</td></tr>",
                            "<tr><td>60</td><td>EECE 555</td><td>1200</td><td>1500</td><td>80</td></tr>",
                            "<tr><td>19</td><td>EECE 711</td><td>380</td><td>380</td><td>100</td></tr>",
                            "<tr><td>58</td><td>EECE 724</td><td>1518</td><td>1450</td><td>104.69</td></tr>",
                            "<tr><td>15</td><td>EECE 799</td><td>255</td><td>225</td><td>113.33</td></tr>",
                            "<tr><td>7</td><td>ENGL 095</td><td>105</td><td>105</td><td>100</td></tr>",
                            "<tr><td>13</td><td>ENGL 304</td><td>208</td><td>234</td><td>88.89</td></tr>",
                            "<tr><td>17</td><td>ENGL 312</td><td>527</td><td>510</td><td>103.33</td></tr>",
                            "<tr><td>14</td><td>ENGL 328</td><td>210</td><td>420</td><td>50</td></tr>",
                            "<tr><td>14</td><td>ENGL 329</td><td>420</td><td>420</td><td>100</td></tr>",
                            "<tr><td>7</td><td>ENGL 377</td><td>217</td><td>210</td><td>103.33</td></tr>",
                            "<tr><td>13</td><td>ENGL 636</td><td>221</td><td>156</td><td>141.67</td></tr>",
                            "<tr><td>18</td><td>ENGL 729</td><td>270</td><td>270</td><td>100</td></tr>",
                            "<tr><td>18</td><td>ENGL 755</td><td>90</td><td>270</td><td>33.33</td></tr>",
                            "<tr><td>117</td><td>ENGL 781</td><td>1482</td><td>1755</td><td>84.44</td></tr>",
                            "<tr><td>20</td><td>FNES 015</td><td>410</td><td>400</td><td>102.5</td></tr>",
                            "<tr><td>336</td><td>FNES 101</td><td>7848</td><td>8064</td><td>97.32</td></tr>",
                            "<tr><td>21</td><td>FNES 121</td><td>357</td><td>525</td><td>68</td></tr>",
                            "<tr><td>21</td><td>FNES 158</td><td>483</td><td>525</td><td>92</td></tr>",
                            "<tr><td>192</td><td>FNES 163</td><td>11536</td><td>11520</td><td>100.14</td></tr>",
                            "<tr><td>160</td><td>FNES 203</td><td>3760</td><td>3840</td><td>97.92</td></tr>",
                            "<tr><td>21</td><td>FNES 225</td><td>420</td><td>420</td><td>100</td></tr>",
                            "<tr><td>3</td><td>FNES 226</td><td>30</td><td>54</td><td>55.56</td></tr>",
                            "<tr><td>11</td><td>FNES 256</td><td>242</td><td>275</td><td>88</td></tr>",
                            "<tr><td>48</td><td>FNES 263</td><td>1224</td><td>1512</td><td>80.95</td></tr>",
                            "<tr><td>66</td><td>FNES 264</td><td>2541</td><td>2145</td><td>118.46</td></tr>",
                            "<tr><td>2</td><td>FNES 339</td><td>10</td><td>20</td><td>50</td></tr>",
                            "<tr><td>84</td><td>FNES 340</td><td>2520</td><td>2520</td><td>100</td></tr>",
                            "<tr><td>12</td><td>FNES 362</td><td>384</td><td>348</td><td>110.34</td></tr>",
                            "<tr><td>21</td><td>FNES 365</td><td>504</td><td>609</td><td>82.76</td></tr>",
                            "<tr><td>144</td><td>FNES 377</td><td>5472</td><td>7200</td><td>76</td></tr>",
                            "<tr><td>11</td><td>FNES 378</td><td>352</td><td>385</td><td>91.43</td></tr>",
                            "<tr><td>9</td><td>FNES 561</td><td>63</td><td>135</td><td>46.67</td></tr>",
                            "<tr><td>12</td><td>FNES 562</td><td>108</td><td>180</td><td>60</td></tr>",
                            "<tr><td>9</td><td>FNES 715</td><td>126</td><td>225</td><td>56</td></tr>",
                            "<tr><td>12</td><td>FNES 716</td><td>96</td><td>180</td><td>53.33</td></tr>",
                            "<tr><td>18</td><td>FNES 722</td><td>306</td><td>450</td><td>68</td></tr>",
                            "<tr><td>18</td><td>FNES 730</td><td>522</td><td>450</td><td>116</td></tr>",
                            "<tr><td>12</td><td>FREN 112</td><td>204</td><td>300</td><td>68</td></tr>",
                            "<tr><td>44</td><td>FREN 203</td><td>620</td><td>1100</td><td>56.36</td></tr>",
                            "<tr><td>10</td><td>FREN 204</td><td>140</td><td>250</td><td>56</td></tr>",
                            "<tr><td>12</td><td>FREN 224</td><td>144</td><td>300</td><td>48</td></tr>",
                            "<tr><td>747</td><td>GEOL 101</td><td>28296</td><td>29808</td><td>94.93</td></tr>",
                            "<tr><td>288</td><td>GEOL 102</td><td>4608</td><td>5088</td><td>90.57</td></tr>",
                            "<tr><td>12</td><td>GEOL 214</td><td>204</td><td>216</td><td>94.44</td></tr>",
                            "<tr><td>48</td><td>GEOL 383</td><td>528</td><td>960</td><td>55</td></tr>",
                            "<tr><td>96</td><td>GEOL 502</td><td>96</td><td>288</td><td>33.33</td></tr>",
                            "<tr><td>16</td><td>GEOL 762</td><td>224</td><td>320</td><td>70</td></tr>",
                            "<tr><td>164</td><td>GERM 111</td><td>4464</td><td>4428</td><td>100.81</td></tr>",
                            "<tr><td>12</td><td>GERM 112</td><td>192</td><td>300</td><td>64</td></tr>",
                            "<tr><td>14</td><td>HIST 114</td><td>490</td><td>490</td><td>100</td></tr>",
                            "<tr><td>15</td><td>HIST 115</td><td>270</td><td>450</td><td>60</td></tr>",
                            "<tr><td>15</td><td>HIST 208</td><td>630</td><td>675</td><td>93.33</td></tr>",
                            "<tr><td>18</td><td>HIST 233</td><td>234</td><td>630</td><td>37.14</td></tr>",
                            "<tr><td>18</td><td>HIST 266</td><td>738</td><td>900</td><td>82</td></tr>",
                            "<tr><td>19</td><td>HIST 308</td><td>437</td><td>665</td><td>65.71</td></tr>",
                            "<tr><td>15</td><td>HIST 735</td><td>375</td><td>360</td><td>104.17</td></tr>",
                            "<tr><td>18</td><td>HIST 780</td><td>414</td><td>432</td><td>95.83</td></tr>",
                            "<tr><td>126</td><td>HIST 799</td><td>1350</td><td>2160</td><td>62.5</td></tr>",
                            "<tr><td>9</td><td>ITAL 204</td><td>54</td><td>225</td><td>24</td></tr>",
                            "<tr><td>8</td><td>JAZZ 702</td><td>152</td><td>160</td><td>95</td></tr>",
                            "<tr><td>9</td><td>JAZZ 717</td><td>243</td><td>270</td><td>90</td></tr>",
                            "<tr><td>553</td><td>MATH 119</td><td>16226</td><td>16240</td><td>99.91</td></tr>",
                            "<tr><td>5106</td><td>MATH 122</td><td>111987</td><td>114356</td><td>97.93</td></tr>",
                            "<tr><td>595</td><td>MATH 143</td><td>16401</td><td>13405</td><td>122.35</td></tr>",
                            "<tr><td>700</td><td>MATH 152</td><td>19880</td><td>15890</td><td>125.11</td></tr>",
                            "<tr><td>13</td><td>MATH 208</td><td>156</td><td>325</td><td>48</td></tr>",
                            "<tr><td>126</td><td>MATH 220</td><td>2769</td><td>2925</td><td>94.67</td></tr>",
                            "<tr><td>11</td><td>MATH 245</td><td>341</td><td>275</td><td>124</td></tr>",
                            "<tr><td>13</td><td>MATH 247</td><td>429</td><td>325</td><td>132</td></tr>",
                            "<tr><td>46</td><td>MATH 333</td><td>1234</td><td>1150</td><td>107.3</td></tr>",
                            "<tr><td>11</td><td>MATH 611</td><td>275</td><td>275</td><td>100</td></tr>",
                            "<tr><td>13</td><td>MATH 614</td><td>312</td><td>325</td><td>96</td></tr>",
                            "<tr><td>11</td><td>MATH 623</td><td>165</td><td>220</td><td>75</td></tr>",
                            "<tr><td>2200</td><td>PHIL 101</td><td>60665</td><td>65725</td><td>92.3</td></tr>",
                            "<tr><td>1251</td><td>PHIL 104</td><td>33714</td><td>38025</td><td>88.66</td></tr>",
                            "<tr><td>18</td><td>PHIL 264</td><td>468</td><td>450</td><td>104</td></tr>",
                            "<tr><td>21</td><td>PHIL 272</td><td>210</td><td>315</td><td>66.67</td></tr>",
                            "<tr><td>18</td><td>PHIL 651</td><td>0</td><td>90</td><td>0</td></tr>",
                            "<tr><td>3024</td><td>PHYS 204</td><td>78624</td><td>78624</td><td>100</td></tr>",
                            "<tr><td>2</td><td>PHYS 235</td><td>24</td><td>28</td><td>85.71</td></tr>",
                            "<tr><td>7</td><td>PHYS 237</td><td>133</td><td>140</td><td>95</td></tr>",
                            "<tr><td>7</td><td>PHYS 311</td><td>28</td><td>105</td><td>26.67</td></tr>",
                            "<tr><td>76</td><td>PSCI 102</td><td>2660</td><td>3040</td><td>87.5</td></tr>",
                            "<tr><td>147</td><td>PSCI 104</td><td>5829</td><td>6855</td><td>85.03</td></tr>",
                            "<tr><td>20</td><td>PSCI 105</td><td>1060</td><td>1100</td><td>96.36</td></tr>",
                            "<tr><td>11</td><td>PSCI 209</td><td>187</td><td>330</td><td>56.67</td></tr>",
                            "<tr><td>20</td><td>PSCI 226</td><td>700</td><td>1100</td><td>63.64</td></tr>",
                            "<tr><td>80</td><td>PSCI 228</td><td>3840</td><td>4400</td><td>87.27</td></tr>",
                            "<tr><td>15</td><td>PSCI 241</td><td>780</td><td>825</td><td>94.55</td></tr>",
                            "<tr><td>19</td><td>PSCI 284</td><td>741</td><td>950</td><td>78</td></tr>",
                            "<tr><td>15</td><td>PSCI 286</td><td>195</td><td>825</td><td>23.64</td></tr>",
                            "<tr><td>40</td><td>RUSS 111</td><td>1100</td><td>1080</td><td>101.85</td></tr>",
                            "<tr><td>10</td><td>RUSS 112</td><td>120</td><td>250</td><td>48</td></tr>",
                            "<tr><td>144</td><td>SEYS 221</td><td>3756</td><td>3612</td><td>103.99</td></tr>",
                            "<tr><td>72</td><td>SEYS 350</td><td>1329</td><td>1800</td><td>73.83</td></tr>",
                            "<tr><td>14</td><td>SEYS 360</td><td>238</td><td>350</td><td>68</td></tr>",
                            "<tr><td>252</td><td>SEYS 376</td><td>504</td><td>6300</td><td>8</td></tr>",
                            "<tr><td>54</td><td>SEYS 536</td><td>1536</td><td>1350</td><td>113.78</td></tr>",
                            "<tr><td>252</td><td>SEYS 576</td><td>1008</td><td>5040</td><td>20</td></tr>",
                            "<tr><td>14</td><td>SEYS 581</td><td>210</td><td>350</td><td>60</td></tr>",
                            "<tr><td>6</td><td>SEYS 751</td><td>138</td><td>150</td><td>92</td></tr>",
                            "<tr><td>9</td><td>SEYS 753</td><td>99</td><td>180</td><td>55</td></tr>",
                            "<tr><td>12</td><td>SEYS 774</td><td>120</td><td>300</td><td>40</td></tr>",
                            "<tr><td>6</td><td>SEYS 776</td><td>96</td><td>150</td><td>64</td></tr>",
                            "<tr><td>2740</td><td>SOC 212W</td><td>64180</td><td>63700</td><td>100.75</td></tr>",
                            "<tr><td>9</td><td>SPAN 045</td><td>108</td><td>225</td><td>48</td></tr>",
                            "<tr><td>196</td><td>SPAN 203</td><td>4136</td><td>4900</td><td>84.41</td></tr>",
                            "<tr><td>40</td><td>SPAN 204</td><td>880</td><td>1000</td><td>88</td></tr>",
                            "<tr><td>90</td><td>SPAN 224</td><td>2412</td><td>2520</td><td>95.71</td></tr>",
                            "<tr><td>9</td><td>SPAN 250</td><td>225</td><td>225</td><td>100</td></tr>",
                            "<tr><td>11</td><td>SPAN 312</td><td>352</td><td>308</td><td>114.29</td></tr>",
                            "<tr><td>7</td><td>SPAN 338</td><td>154</td><td>196</td><td>78.57</td></tr>",
                            "<tr><td>15</td><td>SPAN 372</td><td>60</td><td>120</td><td>50</td></tr>",
                            "<tr><td>30</td><td>SPAN 390</td><td>498</td><td>500</td><td>99.6</td></tr>",
                            "<tr><td>2</td><td>SPAN 720</td><td>12</td><td>14</td><td>85.71</td></tr>",
                            "<tr><td>15</td><td>SPAN 758</td><td>105</td><td>105</td><td>100</td></tr>",
                            "<tr><td>12</td><td>WGS 201W</td><td>300</td><td>300</td><td>100</td></tr>",
                            "<tr><td>120</td><td>ACCT 100</td><td>2520</td><td>2640</td><td>95.45</td></tr>",
                            "<tr><td>1269</td><td>ACCT 102</td><td>48168</td><td>65970</td><td>73.02</td></tr>",
                            "<tr><td>1000</td><td>ACCT 201</td><td>39416</td><td>41168</td><td>95.74</td></tr>",
                            "<tr><td>1161</td><td>ACCT 261</td><td>46233</td><td>51084</td><td>90.5</td></tr>",
                            "<tr><td>1032</td><td>ACCT 305</td><td>37768</td><td>48280</td><td>78.23</td></tr>",
                            "<tr><td>360</td><td>ACCT 362</td><td>21744</td><td>22680</td><td>95.87</td></tr>",
                            "<tr><td>46</td><td>ACCT 712</td><td>998</td><td>920</td><td>108.48</td></tr>",
                            "<tr><td>18</td><td>ACCT 747</td><td>918</td><td>1080</td><td>85</td></tr>",
                            "<tr><td>15</td><td>ACCT 758</td><td>270</td><td>300</td><td>90</td></tr>",
                            "<tr><td>20</td><td>ANTH 220</td><td>220</td><td>240</td><td>91.67</td></tr>",
                            "<tr><td>5</td><td>ANTH 260</td><td>70</td><td>70</td><td>100</td></tr>",
                            "<tr><td>5</td><td>ANTH 302</td><td>100</td><td>90</td><td>111.11</td></tr>",
                            "<tr><td>14</td><td>ANTH 354</td><td>210</td><td>210</td><td>100</td></tr>",
                            "<tr><td>8</td><td>ARTH 113</td><td>384</td><td>400</td><td>96</td></tr>",
                            "<tr><td>8</td><td>ARTH 215</td><td>320</td><td>400</td><td>80</td></tr>",
                            "<tr><td>44</td><td>ARTH 504</td><td>220</td><td>418</td><td>52.63</td></tr>",
                            "<tr><td>176</td><td>ARTS 161</td><td>3088</td><td>2992</td><td>103.21</td></tr>",
                            "<tr><td>36</td><td>ARTS 171</td><td>630</td><td>648</td><td>97.22</td></tr>",
                            "<tr><td>108</td><td>ARTS 188</td><td>1944</td><td>1836</td><td>105.88</td></tr>",
                            "<tr><td>159</td><td>ARTS 195</td><td>2694</td><td>2646</td><td>101.81</td></tr>",
                            "<tr><td>36</td><td>ARTS 211</td><td>648</td><td>648</td><td>100</td></tr>",
                            "<tr><td>16</td><td>ARTS 213</td><td>272</td><td>272</td><td>100</td></tr>",
                            "<tr><td>312</td><td>ARTS 242</td><td>5604</td><td>5304</td><td>105.66</td></tr>",
                            "<tr><td>102</td><td>ARTS 246</td><td>2040</td><td>1734</td><td>117.65</td></tr>",
                            "<tr><td>288</td><td>ARTS 254</td><td>792</td><td>288</td><td>275</td></tr>",
                            "<tr><td>21</td><td>ARTS 289</td><td>336</td><td>357</td><td>94.12</td></tr>",
                            "<tr><td>18</td><td>ARTS 314</td><td>252</td><td>306</td><td>82.35</td></tr>",
                            "<tr><td>84</td><td>ARTS 345</td><td>1638</td><td>1428</td><td>114.71</td></tr>",
                            "<tr><td>19</td><td>ARTS 347</td><td>57</td><td>76</td><td>75</td></tr>",
                            "<tr><td>1</td><td>ARTS 350</td><td>19</td><td>18</td><td>105.56</td></tr>",
                            "<tr><td>8</td><td>ARTS 355</td><td>48</td><td>32</td><td>150</td></tr>",
                            "<tr><td>11</td><td>ARTS 391</td><td>220</td><td>198</td><td>111.11</td></tr>",
                            "<tr><td>600</td><td>ARTS 728</td><td>240</td><td>600</td><td>40</td></tr>",
                            "<tr><td>280</td><td>ASTR 002</td><td>4060</td><td>6720</td><td>60.42</td></tr>",
                            "<tr><td>180</td><td>BALA 165</td><td>3340</td><td>3600</td><td>92.78</td></tr>",
                            "<tr><td>90</td><td>BALA 303</td><td>2160</td><td>1980</td><td>109.09</td></tr>",
                            "<tr><td>64</td><td>BIOL 013</td><td>1600</td><td>1856</td><td>86.21</td></tr>",
                            "<tr><td>416</td><td>BIOL 045</td><td>6264</td><td>7408</td><td>84.56</td></tr>",
                            "<tr><td>16</td><td>BIOL 366</td><td>400</td><td>608</td><td>65.79</td></tr>",
                            "<tr><td>128</td><td>BIOL 714</td><td>1408</td><td>4480</td><td>31.43</td></tr>",
                            "<tr><td>153</td><td>BIOL 723</td><td>459</td><td>765</td><td>60</td></tr>",
                            "<tr><td>10</td><td>BUS 3913</td><td>100</td><td>350</td><td>28.57</td></tr>",
                            "<tr><td>6</td><td>CESL 035</td><td>138</td><td>120</td><td>115</td></tr>",
                            "<tr><td>23</td><td>CHEM 352</td><td>46</td><td>460</td><td>10</td></tr>",
                            "<tr><td>72</td><td>CHEM 376</td><td>792</td><td>864</td><td>91.67</td></tr>",
                            "<tr><td>14</td><td>CLAS 140</td><td>420</td><td>420</td><td>100</td></tr>",
                            "<tr><td>7040</td><td>CSCI 012</td><td>244940</td><td>255860</td><td>95.73</td></tr>",
                            "<tr><td>648</td><td>CSCI 313</td><td>22824</td><td>23418</td><td>97.46</td></tr>",
                            "<tr><td>224</td><td>CSCI 320</td><td>12148</td><td>12528</td><td>96.97</td></tr>",
                            "<tr><td>138</td><td>CSCI 331</td><td>5556</td><td>5760</td><td>96.46</td></tr>",
                            "<tr><td>1232</td><td>CSCI 381</td><td>26320</td><td>31768</td><td>82.85</td></tr>",
                            "<tr><td>1248</td><td>CSCI 780</td><td>8768</td><td>9344</td><td>93.84</td></tr>",
                            "<tr><td>13</td><td>DRAM 130</td><td>195</td><td>195</td><td>100</td></tr>",
                            "<tr><td>5</td><td>DRAM 319</td><td>35</td><td>175</td><td>20</td></tr>",
                            "<tr><td>14</td><td>DRAM 332</td><td>84</td><td>210</td><td>40</td></tr>",
                            "<tr><td>15</td><td>EAST 251</td><td>195</td><td>450</td><td>43.33</td></tr>",
                            "<tr><td>12</td><td>EAST 253</td><td>408</td><td>360</td><td>113.33</td></tr>",
                            "<tr><td>981</td><td>ECON 101</td><td>57276</td><td>60426</td><td>94.79</td></tr>",
                            "<tr><td>1430</td><td>ECON 215</td><td>60720</td><td>63888</td><td>95.04</td></tr>",
                            "<tr><td>13</td><td>ECON 715</td><td>507</td><td>780</td><td>65</td></tr>",
                            "<tr><td>9</td><td>EECE 533</td><td>81</td><td>315</td><td>25.71</td></tr>",
                            "<tr><td>132</td><td>EECE 550</td><td>3525</td><td>3300</td><td>106.82</td></tr>",
                            "<tr><td>14</td><td>EECE 703</td><td>322</td><td>350</td><td>92</td></tr>",
                            "<tr><td>14</td><td>EECE 728</td><td>322</td><td>350</td><td>92</td></tr>",
                            "<tr><td>26</td><td>EECE 731</td><td>524</td><td>520</td><td>100.77</td></tr>",
                            "<tr><td>14</td><td>EECE 780</td><td>224</td><td>350</td><td>64</td></tr>",
                            "<tr><td>244</td><td>EECE 782</td><td>4540</td><td>4880</td><td>93.03</td></tr>",
                            "<tr><td>15</td><td>EECE 798</td><td>285</td><td>225</td><td>126.67</td></tr>",
                            "<tr><td>65</td><td>EECE 805</td><td>910</td><td>975</td><td>93.33</td></tr>",
                            "<tr><td>5967</td><td>ENGL 110</td><td>113832</td><td>118287</td><td>96.23</td></tr>",
                            "<tr><td>204</td><td>ENGL 242</td><td>5376</td><td>5508</td><td>97.6</td></tr>",
                            "<tr><td>16</td><td>ENGL 313</td><td>528</td><td>480</td><td>110</td></tr>",
                            "<tr><td>11</td><td>ENGL 332</td><td>330</td><td>330</td><td>100</td></tr>",
                            "<tr><td>14</td><td>ENGL 366</td><td>420</td><td>420</td><td>100</td></tr>",
                            "<tr><td>14</td><td>ENGL 379</td><td>434</td><td>420</td><td>103.33</td></tr>",
                            "<tr><td>14</td><td>ENGL 701</td><td>126</td><td>168</td><td>75</td></tr>",
                            "<tr><td>6</td><td>ENGL 702</td><td>72</td><td>72</td><td>100</td></tr>",
                            "<tr><td>13</td><td>ENGL 726</td><td>91</td><td>156</td><td>58.33</td></tr>",
                            "<tr><td>7</td><td>ENGL 751</td><td>49</td><td>105</td><td>46.67</td></tr>",
                            "<tr><td>168</td><td>EURO 120</td><td>3864</td><td>4200</td><td>92</td></tr>",
                            "<tr><td>203</td><td>FNES 014</td><td>4690</td><td>4690</td><td>100</td></tr>",
                            "<tr><td>18</td><td>FNES 020</td><td>810</td><td>810</td><td>100</td></tr>",
                            "<tr><td>48</td><td>FNES 104</td><td>1440</td><td>1440</td><td>100</td></tr>",
                            "<tr><td>64</td><td>FNES 146</td><td>832</td><td>2176</td><td>38.24</td></tr>",
                            "<tr><td>15</td><td>FNES 200</td><td>255</td><td>450</td><td>56.67</td></tr>",
                            "<tr><td>144</td><td>FNES 230</td><td>4356</td><td>4356</td><td>100</td></tr>",
                            "<tr><td>12</td><td>FNES 250</td><td>300</td><td>300</td><td>100</td></tr>",
                            "<tr><td>208</td><td>FNES 266</td><td>1872</td><td>1768</td><td>105.88</td></tr>",
                            "<tr><td>26</td><td>FNES 327</td><td>156</td><td>494</td><td>31.58</td></tr>",
                            "<tr><td>11</td><td>FNES 337</td><td>286</td><td>330</td><td>86.67</td></tr>",
                            "<tr><td>60</td><td>FNES 341</td><td>1200</td><td>1500</td><td>80</td></tr>",
                            "<tr><td>17</td><td>FNES 366</td><td>595</td><td>595</td><td>100</td></tr>",
                            "<tr><td>11</td><td>FNES 368</td><td>330</td><td>418</td><td>78.95</td></tr>",
                            "<tr><td>9</td><td>FNES 379</td><td>81</td><td>225</td><td>36</td></tr>",
                            "<tr><td>21</td><td>FNES 643</td><td>252</td><td>525</td><td>48</td></tr>",
                            "<tr><td>66</td><td>FNES 711</td><td>450</td><td>810</td><td>55.56</td></tr>",
                            "<tr><td>7</td><td>FNES 725</td><td>70</td><td>140</td><td>50</td></tr>",
                            "<tr><td>12</td><td>FNES 762</td><td>312</td><td>300</td><td>104</td></tr>",
                            "<tr><td>12</td><td>FNES 770</td><td>120</td><td>300</td><td>40</td></tr>",
                            "<tr><td>318</td><td>FREN 111</td><td>8202</td><td>7452</td><td>110.06</td></tr>",
                            "<tr><td>18</td><td>GEOL 077</td><td>630</td><td>630</td><td>100</td></tr>",
                            "<tr><td>18</td><td>GEOL 342</td><td>234</td><td>450</td><td>52</td></tr>",
                            "<tr><td>12</td><td>GERM 223</td><td>132</td><td>300</td><td>44</td></tr>",
                            "<tr><td>236</td><td>HIST 101</td><td>8864</td><td>8920</td><td>99.37</td></tr>",
                            "<tr><td>1859</td><td>HIST 103</td><td>83875</td><td>88979</td><td>94.26</td></tr>",
                            "<tr><td>44</td><td>HIST 126</td><td>836</td><td>0</td><td>NULL</td></tr>",
                            "<tr><td>15</td><td>HIST 149</td><td>360</td><td>450</td><td>80</td></tr>",
                            "<tr><td>19</td><td>HIST 204</td><td>361</td><td>665</td><td>54.29</td></tr>",
                            "<tr><td>10</td><td>HIST 289</td><td>170</td><td>300</td><td>56.67</td></tr>",
                            "<tr><td>10</td><td>HIST 370</td><td>190</td><td>250</td><td>76</td></tr>",
                            "<tr><td>14</td><td>HIST 716</td><td>322</td><td>336</td><td>95.83</td></tr>",
                            "<tr><td>15</td><td>HIST 756</td><td>315</td><td>360</td><td>87.5</td></tr>",
                            "<tr><td>9</td><td>HMNS 101</td><td>162</td><td>180</td><td>90</td></tr>",
                            "<tr><td>152</td><td>ITAL 111</td><td>4340</td><td>4104</td><td>105.75</td></tr>",
                            "<tr><td>9</td><td>ITAL 203</td><td>135</td><td>225</td><td>60</td></tr>",
                            "<tr><td>9</td><td>JAZZ 713</td><td>99</td><td>180</td><td>55</td></tr>",
                            "<tr><td>460</td><td>JPNS 102</td><td>10260</td><td>11000</td><td>93.27</td></tr>",
                            "<tr><td>8</td><td>JPNS 204</td><td>128</td><td>200</td><td>64</td></tr>",
                            "<tr><td>11</td><td>JPNS 306</td><td>66</td><td>275</td><td>24</td></tr>",
                            "<tr><td>10</td><td>LCD 206W</td><td>220</td><td>250</td><td>88</td></tr>",
                            "<tr><td>56</td><td>LCD 7414</td><td>364</td><td>224</td><td>162.5</td></tr>",
                            "<tr><td>75</td><td>LIBR 100</td><td>1090</td><td>1500</td><td>72.67</td></tr>",
                            "<tr><td>355</td><td>MATH 114</td><td>7820</td><td>7500</td><td>104.27</td></tr>",
                            "<tr><td>1100</td><td>MATH 120</td><td>33050</td><td>26860</td><td>123.05</td></tr>",
                            "<tr><td>5</td><td>MATH 132</td><td>60</td><td>125</td><td>48</td></tr>",
                            "<tr><td>3762</td><td>MATH 141</td><td>92592</td><td>84330</td><td>109.8</td></tr>",
                            "<tr><td>46</td><td>MATH 202</td><td>1194</td><td>1030</td><td>115.92</td></tr>",
                            "<tr><td>12</td><td>MATH 223</td><td>384</td><td>300</td><td>128</td></tr>",
                            "<tr><td>13</td><td>MATH 242</td><td>650</td><td>325</td><td>200</td></tr>",
                            "<tr><td>16</td><td>MATH 320</td><td>208</td><td>400</td><td>52</td></tr>",
                            "<tr><td>16</td><td>MATH 613</td><td>352</td><td>400</td><td>88</td></tr>",
                            "<tr><td>13</td><td>MATH 615</td><td>195</td><td>325</td><td>60</td></tr>",
                            "<tr><td>13</td><td>PHIL 146</td><td>117</td><td>156</td><td>75</td></tr>",
                            "<tr><td>14</td><td>PHIL 222</td><td>266</td><td>350</td><td>76</td></tr>",
                            "<tr><td>14</td><td>PHIL 267</td><td>140</td><td>210</td><td>66.67</td></tr>",
                            "<tr><td>13</td><td>PHIL 271</td><td>143</td><td>130</td><td>110</td></tr>",
                            "<tr><td>18</td><td>PHIL 710</td><td>36</td><td>90</td><td>40</td></tr>",
                            "<tr><td>14</td><td>PHIL 730</td><td>0</td><td>70</td><td>0</td></tr>",
                            "<tr><td>28</td><td>PHYS 003</td><td>1176</td><td>1400</td><td>84</td></tr>",
                            "<tr><td>78</td><td>PHYS 011</td><td>2028</td><td>2028</td><td>100</td></tr>",
                            "<tr><td>1305</td><td>PHYS 014</td><td>33930</td><td>33930</td><td>100</td></tr>",
                            "<tr><td>4543</td><td>PHYS 103</td><td>119493</td><td>118118</td><td>101.16</td></tr>",
                            "<tr><td>11</td><td>PHYS 227</td><td>264</td><td>264</td><td>100</td></tr>",
                            "<tr><td>1188</td><td>PSCI 101</td><td>37602</td><td>56106</td><td>67.02</td></tr>",
                            "<tr><td>192</td><td>PSCI 103</td><td>6660</td><td>7920</td><td>84.09</td></tr>",
                            "<tr><td>15</td><td>PSCI 211</td><td>825</td><td>825</td><td>100</td></tr>",
                            "<tr><td>15</td><td>PSCI 222</td><td>570</td><td>825</td><td>69.09</td></tr>",
                            "<tr><td>11</td><td>PSCI 230</td><td>220</td><td>385</td><td>57.14</td></tr>",
                            "<tr><td>20</td><td>PSCI 250</td><td>1160</td><td>1100</td><td>105.45</td></tr>",
                            "<tr><td>20</td><td>PSCI 255</td><td>760</td><td>1100</td><td>69.09</td></tr>",
                            "<tr><td>15</td><td>PSCI 280</td><td>315</td><td>450</td><td>70</td></tr>",
                            "<tr><td>20</td><td>PSCI 282</td><td>480</td><td>1100</td><td>43.64</td></tr>",
                            "<tr><td>19</td><td>PSCI 289</td><td>722</td><td>950</td><td>76</td></tr>",
                            "<tr><td>11</td><td>PSCI 297</td><td>253</td><td>264</td><td>95.83</td></tr>",
                            "<tr><td>12</td><td>RUSS 204</td><td>180</td><td>300</td><td>60</td></tr>",
                            "<tr><td>81</td><td>SEYS 552</td><td>1164</td><td>1620</td><td>71.85</td></tr>",
                            "<tr><td>11</td><td>SEYS 563</td><td>242</td><td>275</td><td>88</td></tr>",
                            "<tr><td>14</td><td>SEYS 707</td><td>280</td><td>280</td><td>100</td></tr>",
                            "<tr><td>13</td><td>SEYS 719</td><td>130</td><td>260</td><td>50</td></tr>",
                            "<tr><td>9</td><td>SEYS 724</td><td>90</td><td>180</td><td>50</td></tr>",
                            "<tr><td>11</td><td>SEYS 760</td><td>165</td><td>275</td><td>60</td></tr>",
                            "<tr><td>10</td><td>SPAN 060</td><td>240</td><td>250</td><td>96</td></tr>",
                            "<tr><td>10</td><td>SPAN 201</td><td>180</td><td>250</td><td>72</td></tr>",
                            "<tr><td>34</td><td>SPAN 225</td><td>740</td><td>850</td><td>87.06</td></tr>",
                            "<tr><td>48</td><td>WGS 101W</td><td>1176</td><td>1200</td><td>98</td></tr>",
                            "<tr><td>742</td><td>ACCT 202</td><td>31416</td><td>37233</td><td>84.38</td></tr>",
                            "<tr><td>546</td><td>ACCT 306</td><td>24648</td><td>28440</td><td>86.67</td></tr>",
                            "<tr><td>805</td><td>ACCT 311</td><td>30737</td><td>39445</td><td>77.92</td></tr>",
                            "<tr><td>400</td><td>ACCT 321</td><td>15410</td><td>18710</td><td>82.36</td></tr>",
                            "<tr><td>13</td><td>ACCT 341</td><td>871</td><td>871</td><td>100</td></tr>",
                            "<tr><td>12</td><td>ACCT 723</td><td>336</td><td>300</td><td>112</td></tr>",
                            "<tr><td>50</td><td>ACCT 757</td><td>1110</td><td>1250</td><td>88.8</td></tr>",
                            "<tr><td>21</td><td>ACCT 773</td><td>357</td><td>420</td><td>85</td></tr>",
                            "<tr><td>56</td><td>ANTH 200</td><td>896</td><td>840</td><td>106.67</td></tr>",
                            "<tr><td>6</td><td>ANTH 210</td><td>66</td><td>66</td><td>100</td></tr>",
                            "<tr><td>5</td><td>ANTH 361</td><td>90</td><td>85</td><td>105.88</td></tr>",
                            "<tr><td>14</td><td>ARAB 101</td><td>350</td><td>350</td><td>100</td></tr>",
                            "<tr><td>8</td><td>ARTH 258</td><td>408</td><td>400</td><td>102</td></tr>",
                            "<tr><td>36</td><td>ARTS 150</td><td>666</td><td>648</td><td>102.78</td></tr>",
                            "<tr><td>16</td><td>ARTS 172</td><td>272</td><td>272</td><td>100</td></tr>",
                            "<tr><td>160</td><td>ARTS 182</td><td>2720</td><td>2720</td><td>100</td></tr>",
                            "<tr><td>16</td><td>ARTS 192</td><td>256</td><td>272</td><td>94.12</td></tr>",
                            "<tr><td>280</td><td>ARTS 214</td><td>5192</td><td>4684</td><td>110.85</td></tr>",
                            "<tr><td>123</td><td>ARTS 240</td><td>1683</td><td>2214</td><td>76.02</td></tr>",
                            "<tr><td>156</td><td>ARTS 245</td><td>3120</td><td>2652</td><td>117.65</td></tr>",
                            "<tr><td>19</td><td>ARTS 247</td><td>152</td><td>152</td><td>100</td></tr>",
                            "<tr><td>18</td><td>ARTS 253</td><td>270</td><td>324</td><td>83.33</td></tr>",
                            "<tr><td>40</td><td>ARTS 264</td><td>368</td><td>720</td><td>51.11</td></tr>",
                            "<tr><td>9</td><td>ARTS 266</td><td>171</td><td>153</td><td>111.76</td></tr>",
                            "<tr><td>8</td><td>ARTS 276</td><td>104</td><td>112</td><td>92.86</td></tr>",
                            "<tr><td>75</td><td>ARTS 288</td><td>75</td><td>75</td><td>100</td></tr>",
                            "<tr><td>16</td><td>ARTS 290</td><td>288</td><td>272</td><td>105.88</td></tr>",
                            "<tr><td>32</td><td>ARTS 375</td><td>64</td><td>32</td><td>200</td></tr>",
                            "<tr><td>11</td><td>ARTS 392</td><td>154</td><td>77</td><td>200</td></tr>",
                            "<tr><td>248</td><td>ARTS 729</td><td>1000</td><td>1840</td><td>54.35</td></tr>",
                            "<tr><td>11</td><td>ARTS 731</td><td>88</td><td>88</td><td>100</td></tr>",
                            "<tr><td>112</td><td>ASTR 001</td><td>12320</td><td>12320</td><td>100</td></tr>",
                            "<tr><td>8959</td><td>BIOL 040</td><td>240397</td><td>257856</td><td>93.23</td></tr>",
                            "<tr><td>28925</td><td>BIOL 105</td><td>714575</td><td>726700</td><td>98.33</td></tr>",
                            "<tr><td>1014</td><td>BIOL 226</td><td>23616</td><td>23472</td><td>100.61</td></tr>",
                            "<tr><td>72</td><td>BIOL 367</td><td>1656</td><td>1800</td><td>92</td></tr>",
                            "<tr><td>16</td><td>BIOL 381</td><td>240</td><td>448</td><td>53.57</td></tr>",
                            "<tr><td>153</td><td>BIOL 610</td><td>765</td><td>765</td><td>100</td></tr>",
                            "<tr><td>16</td><td>BIOL 666</td><td>128</td><td>128</td><td>100</td></tr>",
                            "<tr><td>68</td><td>BUS 341W</td><td>1400</td><td>1880</td><td>74.47</td></tr>",
                            "<tr><td>6</td><td>CESL 700</td><td>78</td><td>120</td><td>65</td></tr>",
                            "<tr><td>15</td><td>CHEM 163</td><td>495</td><td>675</td><td>73.33</td></tr>",
                            "<tr><td>8</td><td>CHEM 385</td><td>8</td><td>96</td><td>8.33</td></tr>",
                            "<tr><td>8</td><td>CHEM 650</td><td>24</td><td>160</td><td>15</td></tr>",
                            "<tr><td>184</td><td>CHEM 781</td><td>368</td><td>4600</td><td>8</td></tr>",
                            "<tr><td>23</td><td>CHEM 786</td><td>23</td><td>460</td><td>5</td></tr>",
                            "<tr><td>88</td><td>CHIN 102</td><td>2376</td><td>2200</td><td>108</td></tr>",
                            "<tr><td>11</td><td>CHIN 204</td><td>253</td><td>275</td><td>92</td></tr>",
                            "<tr><td>11</td><td>CHIN 350</td><td>352</td><td>330</td><td>106.67</td></tr>",
                            "<tr><td>14</td><td>CHIN 360</td><td>406</td><td>420</td><td>96.67</td></tr>",
                            "<tr><td>1773</td><td>CSCI 048</td><td>73440</td><td>75510</td><td>97.26</td></tr>",
                            "<tr><td>284</td><td>CSCI 090</td><td>4256</td><td>6400</td><td>66.5</td></tr>",
                            "<tr><td>10</td><td>CSCI 344</td><td>210</td><td>320</td><td>65.63</td></tr>",
                            "<tr><td>177</td><td>CSCI 700</td><td>1005</td><td>1416</td><td>70.97</td></tr>",
                            "<tr><td>10</td><td>CSCI 715</td><td>90</td><td>120</td><td>75</td></tr>",
                            "<tr><td>165</td><td>CSCI 744</td><td>930</td><td>984</td><td>94.51</td></tr>",
                            "<tr><td>5</td><td>DRAM 115</td><td>110</td><td>150</td><td>73.33</td></tr>",
                            "<tr><td>13</td><td>DRAM 202</td><td>312</td><td>325</td><td>96</td></tr>",
                            "<tr><td>11</td><td>EAST 132</td><td>187</td><td>330</td><td>56.67</td></tr>",
                            "<tr><td>12</td><td>EAST 209</td><td>228</td><td>360</td><td>63.33</td></tr>",
                            "<tr><td>415</td><td>ECON 202</td><td>25170</td><td>26150</td><td>96.25</td></tr>",
                            "<tr><td>15</td><td>ECON 242</td><td>645</td><td>600</td><td>107.5</td></tr>",
                            "<tr><td>375</td><td>ECON 249</td><td>29700</td><td>29350</td><td>101.19</td></tr>",
                            "<tr><td>16</td><td>ECON 328</td><td>704</td><td>720</td><td>97.78</td></tr>",
                            "<tr><td>2977</td><td>ECON 721</td><td>7254</td><td>36972</td><td>19.62</td></tr>",
                            "<tr><td>45</td><td>EECE 220</td><td>885</td><td>900</td><td>98.33</td></tr>",
                            "<tr><td>108</td><td>EECE 311</td><td>2016</td><td>2700</td><td>74.67</td></tr>",
                            "<tr><td>208</td><td>EECE 525</td><td>5196</td><td>5200</td><td>99.92</td></tr>",
                            "<tr><td>15</td><td>EECE 806</td><td>195</td><td>225</td><td>86.67</td></tr>",
                            "<tr><td>185</td><td>ENGL 243</td><td>4860</td><td>4995</td><td>97.3</td></tr>",
                            "<tr><td>9</td><td>ENGL 302</td><td>144</td><td>162</td><td>88.89</td></tr>",
                            "<tr><td>11</td><td>ENGL 349</td><td>308</td><td>330</td><td>93.33</td></tr>",
                            "<tr><td>9</td><td>ENGL 369</td><td>279</td><td>270</td><td>103.33</td></tr>",
                            "<tr><td>7</td><td>ENGL 753</td><td>70</td><td>105</td><td>66.67</td></tr>",
                            "<tr><td>275</td><td>FNES 011</td><td>6930</td><td>6875</td><td>100.8</td></tr>",
                            "<tr><td>20</td><td>FNES 013</td><td>500</td><td>480</td><td>104.17</td></tr>",
                            "<tr><td>20</td><td>FNES 021</td><td>500</td><td>500</td><td>100</td></tr>",
                            "<tr><td>5</td><td>FNES 023</td><td>90</td><td>100</td><td>90</td></tr>",
                            "<tr><td>68</td><td>FNES 106</td><td>2754</td><td>2720</td><td>101.25</td></tr>",
                            "<tr><td>52</td><td>FNES 143</td><td>1144</td><td>1508</td><td>75.86</td></tr>",
                            "<tr><td>12</td><td>FNES 160</td><td>432</td><td>420</td><td>102.86</td></tr>",
                            "<tr><td>9</td><td>FNES 166</td><td>216</td><td>216</td><td>100</td></tr>",
                            "<tr><td>464</td><td>FNES 211</td><td>12064</td><td>12064</td><td>100</td></tr>",
                            "<tr><td>72</td><td>FNES 311</td><td>936</td><td>1800</td><td>52</td></tr>",
                            "<tr><td>60</td><td>FNES 342</td><td>1476</td><td>1956</td><td>75.46</td></tr>",
                            "<tr><td>9</td><td>FNES 343</td><td>306</td><td>306</td><td>100</td></tr>",
                            "<tr><td>12</td><td>FNES 349</td><td>180</td><td>288</td><td>62.5</td></tr>",
                            "<tr><td>116</td><td>FNES 353</td><td>3364</td><td>2784</td><td>120.83</td></tr>",
                            "<tr><td>12</td><td>FNES 369</td><td>120</td><td>300</td><td>40</td></tr>",
                            "<tr><td>18</td><td>FNES 381</td><td>378</td><td>450</td><td>84</td></tr>",
                            "<tr><td>18</td><td>FNES 702</td><td>414</td><td>540</td><td>76.67</td></tr>",
                            "<tr><td>7</td><td>FNES 719</td><td>70</td><td>140</td><td>50</td></tr>",
                            "<tr><td>144</td><td>FNES 726</td><td>720</td><td>2160</td><td>33.33</td></tr>",
                            "<tr><td>21</td><td>FNES 763</td><td>357</td><td>630</td><td>56.67</td></tr>",
                            "<tr><td>24</td><td>FREN 041</td><td>600</td><td>600</td><td>100</td></tr>",
                            "<tr><td>12</td><td>FREN 350</td><td>36</td><td>180</td><td>20</td></tr>",
                            "<tr><td>12</td><td>FREN 720</td><td>72</td><td>120</td><td>60</td></tr>",
                            "<tr><td>17</td><td>GEOL 008</td><td>1020</td><td>1037</td><td>98.36</td></tr>",
                            "<tr><td>413</td><td>GEOL 099</td><td>15092</td><td>15400</td><td>98</td></tr>",
                            "<tr><td>96</td><td>GEOL 702</td><td>0</td><td>192</td><td>0</td></tr>",
                            "<tr><td>400</td><td>HIST 102</td><td>16940</td><td>19370</td><td>87.45</td></tr>",
                            "<tr><td>3105</td><td>HIST 104</td><td>117345</td><td>120735</td><td>97.19</td></tr>",
                            "<tr><td>14</td><td>HIST 140</td><td>490</td><td>490</td><td>100</td></tr>",
                            "<tr><td>15</td><td>HIST 148</td><td>675</td><td>750</td><td>90</td></tr>",
                            "<tr><td>846</td><td>HIST 190</td><td>13149</td><td>16920</td><td>77.71</td></tr>",
                            "<tr><td>19</td><td>HIST 288</td><td>1007</td><td>950</td><td>106</td></tr>",
                            "<tr><td>21</td><td>HIST 302</td><td>105</td><td>105</td><td>100</td></tr>",
                            "<tr><td>19</td><td>HIST 347</td><td>551</td><td>760</td><td>72.5</td></tr>",
                            "<tr><td>15</td><td>HIST 710</td><td>315</td><td>360</td><td>87.5</td></tr>",
                            "<tr><td>18</td><td>HIST 719</td><td>450</td><td>432</td><td>104.17</td></tr>",
                            "<tr><td>10</td><td>HIST 796</td><td>50</td><td>100</td><td>50</td></tr>",
                            "<tr><td>54</td><td>HNRS 226</td><td>1122</td><td>1176</td><td>95.41</td></tr>",
                            "<tr><td>8</td><td>ITAL 112</td><td>144</td><td>200</td><td>72</td></tr>",
                            "<tr><td>10</td><td>ITAL 223</td><td>70</td><td>250</td><td>28</td></tr>",
                            "<tr><td>2</td><td>ITAL 780</td><td>18</td><td>20</td><td>90</td></tr>",
                            "<tr><td>9</td><td>JAZZ 710</td><td>108</td><td>180</td><td>60</td></tr>",
                            "<tr><td>360</td><td>JAZZ 794</td><td>16920</td><td>36000</td><td>47</td></tr>",
                            "<tr><td>11</td><td>JPNS 230</td><td>330</td><td>330</td><td>100</td></tr>",
                            "<tr><td>32</td><td>LCD 7293</td><td>512</td><td>512</td><td>100</td></tr>",
                            "<tr><td>15</td><td>MATH 113</td><td>255</td><td>375</td><td>68</td></tr>",
                            "<tr><td>2445</td><td>MATH 131</td><td>57420</td><td>55500</td><td>103.46</td></tr>",
                            "<tr><td>1026</td><td>MATH 142</td><td>26604</td><td>24615</td><td>108.08</td></tr>",
                            "<tr><td>402</td><td>MATH 151</td><td>9648</td><td>9150</td><td>105.44</td></tr>",
                            "<tr><td>12</td><td>MATH 158</td><td>108</td><td>300</td><td>36</td></tr>",
                            "<tr><td>581</td><td>MATH 231</td><td>17017</td><td>13300</td><td>127.95</td></tr>",
                            "<tr><td>776</td><td>MATH 241</td><td>25032</td><td>18600</td><td>134.58</td></tr>",
                            "<tr><td>15</td><td>MATH 341</td><td>225</td><td>270</td><td>83.33</td></tr>",
                            "<tr><td>16</td><td>MATH 505</td><td>352</td><td>400</td><td>88</td></tr>",
                            "<tr><td>16</td><td>MATH 524</td><td>400</td><td>400</td><td>100</td></tr>",
                            "<tr><td>13</td><td>MATH 618</td><td>728</td><td>650</td><td>112</td></tr>",
                            "<tr><td>11</td><td>MATH 633</td><td>176</td><td>220</td><td>80</td></tr>",
                            "<tr><td>14</td><td>PHIL 121</td><td>238</td><td>350</td><td>68</td></tr>",
                            "<tr><td>224</td><td>PHIL 160</td><td>7224</td><td>7280</td><td>99.23</td></tr>",
                            "<tr><td>13</td><td>PHIL 223</td><td>169</td><td>195</td><td>86.67</td></tr>",
                            "<tr><td>14</td><td>PHIL 653</td><td>0</td><td>70</td><td>0</td></tr>",
                            "<tr><td>13</td><td>PHIL 717</td><td>13</td><td>65</td><td>20</td></tr>",
                            "<tr><td>34</td><td>PHYS 234</td><td>306</td><td>340</td><td>90</td></tr>",
                            "<tr><td>11</td><td>PHYS 623</td><td>55</td><td>44</td><td>125</td></tr>",
                            "<tr><td>2</td><td>PHYS 661</td><td>14</td><td>30</td><td>46.67</td></tr>",
                            "<tr><td>9</td><td>PORT 204</td><td>126</td><td>225</td><td>56</td></tr>",
                            "<tr><td>1032</td><td>PSCI 100</td><td>36544</td><td>45504</td><td>80.31</td></tr>",
                            "<tr><td>15</td><td>PSCI 217</td><td>675</td><td>825</td><td>81.82</td></tr>",
                            "<tr><td>20</td><td>PSCI 231</td><td>600</td><td>600</td><td>100</td></tr>",
                            "<tr><td>11</td><td>PSCI 239</td><td>242</td><td>385</td><td>62.86</td></tr>",
                            "<tr><td>20</td><td>PSCI 258</td><td>300</td><td>1100</td><td>27.27</td></tr>",
                            "<tr><td>19</td><td>PSCI 260</td><td>684</td><td>950</td><td>72</td></tr>",
                            "<tr><td>11</td><td>PSCI 269</td><td>88</td><td>385</td><td>22.86</td></tr>",
                            "<tr><td>20</td><td>PSCI 276</td><td>600</td><td>700</td><td>85.71</td></tr>",
                            "<tr><td>15</td><td>PSCI 279</td><td>255</td><td>825</td><td>30.91</td></tr>",
                            "<tr><td>13</td><td>SEYS 362</td><td>78</td><td>325</td><td>24</td></tr>",
                            "<tr><td>12</td><td>SEYS 364</td><td>156</td><td>300</td><td>52</td></tr>",
                            "<tr><td>3</td><td>SEYS 560</td><td>42</td><td>75</td><td>56</td></tr>",
                            "<tr><td>12</td><td>SEYS 706</td><td>108</td><td>240</td><td>45</td></tr>",
                            "<tr><td>13</td><td>SEYS 718</td><td>286</td><td>260</td><td>110</td></tr>",
                            "<tr><td>14</td><td>SEYS 778</td><td>56</td><td>350</td><td>16</td></tr>",
                            "<tr><td>17</td><td>SEYS 786</td><td>136</td><td>425</td><td>32</td></tr>",
                            "<tr><td>434</td><td>SOC 381W</td><td>8057</td><td>8015</td><td>100.52</td></tr>",
                            "<tr><td>156</td><td>SPAN 041</td><td>3876</td><td>3900</td><td>99.38</td></tr>",
                            "<tr><td>360</td><td>SPAN 112</td><td>9888</td><td>7200</td><td>137.33</td></tr>",
                            "<tr><td>8</td><td>SPAN 240</td><td>192</td><td>200</td><td>96</td></tr>",
                            "<tr><td>10</td><td>SPAN 260</td><td>170</td><td>250</td><td>68</td></tr>",
                            "<tr><td>8</td><td>SPAN 280</td><td>152</td><td>200</td><td>76</td></tr>",
                            "<tr><td>9</td><td>SPAN 290</td><td>189</td><td>225</td><td>84</td></tr>",
                            "<tr><td>8</td><td>SPAN 357</td><td>200</td><td>224</td><td>89.29</td></tr>",
                            "<tr><td>12</td><td>SPAN 760</td><td>96</td><td>60</td><td>160</td></tr>",
                            "</table>"
                        ]
                    }
                }
            ],
            "execution_count": 3
        },
        {
            "cell_type": "markdown",
            "source": [
                "# 10 + Querries"
            ],
            "metadata": {
                "language": "sql",
                "azdata_cell_guid": "3d7a94f5-8e9a-4ea5-8a67-0ca63e7140d0"
            },
            "attachments": {}
        },
        {
            "cell_type": "markdown",
            "source": [
                "### <span style=\"color: #09885a;\">1</span>) Same professor teaching multiple classes"
            ],
            "metadata": {
                "language": "sql",
                "azdata_cell_guid": "19a4f791-576b-454b-a11d-76fbd0aeb294"
            },
            "attachments": {}
        },
        {
            "cell_type": "code",
            "source": [
                "USE QueensClassSchedule;\n",
                "Select I.InstructorID, COUNT(CourseID)\n",
                "FROM Class as C\n",
                "JOIN Instructor as I\n",
                "ON I.InstructorID = C.InstructorID\n",
                "GROUP BY I.InstructorID;"
            ],
            "metadata": {
                "language": "sql",
                "azdata_cell_guid": "7395ea49-9356-49de-8bd3-ea77f4b2eec3"
            },
            "outputs": [
                {
                    "output_type": "display_data",
                    "data": {
                        "text/html": "(862 rows affected)"
                    },
                    "metadata": {}
                },
                {
                    "output_type": "display_data",
                    "data": {
                        "text/html": "Total execution time: 00:00:00.083"
                    },
                    "metadata": {}
                },
                {
                    "output_type": "execute_result",
                    "metadata": {},
                    "execution_count": 4,
                    "data": {
                        "application/vnd.dataresource+json": {
                            "schema": {
                                "fields": [
                                    {
                                        "name": "InstructorID"
                                    },
                                    {
                                        "name": "(No column name)"
                                    }
                                ]
                            },
                            "data": [
                                {
                                    "0": "4789",
                                    "1": "126"
                                },
                                {
                                    "0": "4790",
                                    "1": "1088"
                                },
                                {
                                    "0": "4792",
                                    "1": "280"
                                },
                                {
                                    "0": "4793",
                                    "1": "339"
                                },
                                {
                                    "0": "4794",
                                    "1": "440"
                                },
                                {
                                    "0": "4796",
                                    "1": "238"
                                },
                                {
                                    "0": "4798",
                                    "1": "15"
                                },
                                {
                                    "0": "4799",
                                    "1": "72"
                                },
                                {
                                    "0": "4800",
                                    "1": "441"
                                },
                                {
                                    "0": "4801",
                                    "1": "448"
                                },
                                {
                                    "0": "4802",
                                    "1": "34"
                                },
                                {
                                    "0": "4803",
                                    "1": "510"
                                },
                                {
                                    "0": "4805",
                                    "1": "1368"
                                },
                                {
                                    "0": "4806",
                                    "1": "1228"
                                },
                                {
                                    "0": "4807",
                                    "1": "504"
                                },
                                {
                                    "0": "4809",
                                    "1": "2958"
                                },
                                {
                                    "0": "4810",
                                    "1": "100"
                                },
                                {
                                    "0": "4811",
                                    "1": "78"
                                },
                                {
                                    "0": "4815",
                                    "1": "243"
                                },
                                {
                                    "0": "4816",
                                    "1": "26"
                                },
                                {
                                    "0": "4817",
                                    "1": "34"
                                },
                                {
                                    "0": "4818",
                                    "1": "300"
                                },
                                {
                                    "0": "4820",
                                    "1": "156"
                                },
                                {
                                    "0": "4821",
                                    "1": "120"
                                },
                                {
                                    "0": "4822",
                                    "1": "58"
                                },
                                {
                                    "0": "4823",
                                    "1": "2400"
                                },
                                {
                                    "0": "4825",
                                    "1": "33"
                                },
                                {
                                    "0": "4828",
                                    "1": "198"
                                },
                                {
                                    "0": "4829",
                                    "1": "14"
                                },
                                {
                                    "0": "4830",
                                    "1": "288"
                                },
                                {
                                    "0": "4831",
                                    "1": "27"
                                },
                                {
                                    "0": "4832",
                                    "1": "863"
                                },
                                {
                                    "0": "4833",
                                    "1": "556"
                                },
                                {
                                    "0": "4834",
                                    "1": "105"
                                },
                                {
                                    "0": "4841",
                                    "1": "666"
                                },
                                {
                                    "0": "4842",
                                    "1": "322"
                                },
                                {
                                    "0": "4846",
                                    "1": "5"
                                },
                                {
                                    "0": "4847",
                                    "1": "660"
                                },
                                {
                                    "0": "4849",
                                    "1": "114"
                                },
                                {
                                    "0": "4850",
                                    "1": "272"
                                },
                                {
                                    "0": "4851",
                                    "1": "40"
                                },
                                {
                                    "0": "4852",
                                    "1": "405"
                                },
                                {
                                    "0": "4853",
                                    "1": "60"
                                },
                                {
                                    "0": "4857",
                                    "1": "26"
                                },
                                {
                                    "0": "4858",
                                    "1": "98"
                                },
                                {
                                    "0": "4859",
                                    "1": "5"
                                },
                                {
                                    "0": "4862",
                                    "1": "206"
                                },
                                {
                                    "0": "4863",
                                    "1": "30"
                                },
                                {
                                    "0": "4864",
                                    "1": "15"
                                },
                                {
                                    "0": "4865",
                                    "1": "391"
                                },
                                {
                                    "0": "4869",
                                    "1": "73"
                                },
                                {
                                    "0": "4870",
                                    "1": "91"
                                },
                                {
                                    "0": "4871",
                                    "1": "144"
                                },
                                {
                                    "0": "4876",
                                    "1": "64"
                                },
                                {
                                    "0": "4878",
                                    "1": "10"
                                },
                                {
                                    "0": "4881",
                                    "1": "75"
                                },
                                {
                                    "0": "4882",
                                    "1": "9"
                                },
                                {
                                    "0": "4883",
                                    "1": "160"
                                },
                                {
                                    "0": "4887",
                                    "1": "198"
                                },
                                {
                                    "0": "4888",
                                    "1": "112"
                                },
                                {
                                    "0": "4889",
                                    "1": "580"
                                },
                                {
                                    "0": "4891",
                                    "1": "408"
                                },
                                {
                                    "0": "4893",
                                    "1": "276"
                                },
                                {
                                    "0": "4894",
                                    "1": "208"
                                },
                                {
                                    "0": "4895",
                                    "1": "842"
                                },
                                {
                                    "0": "4896",
                                    "1": "210"
                                },
                                {
                                    "0": "4897",
                                    "1": "8"
                                },
                                {
                                    "0": "4898",
                                    "1": "528"
                                },
                                {
                                    "0": "4900",
                                    "1": "1628"
                                },
                                {
                                    "0": "4902",
                                    "1": "560"
                                },
                                {
                                    "0": "4904",
                                    "1": "320"
                                },
                                {
                                    "0": "4905",
                                    "1": "117"
                                },
                                {
                                    "0": "4906",
                                    "1": "12"
                                },
                                {
                                    "0": "4907",
                                    "1": "553"
                                },
                                {
                                    "0": "4908",
                                    "1": "111"
                                },
                                {
                                    "0": "4909",
                                    "1": "14"
                                },
                                {
                                    "0": "4911",
                                    "1": "462"
                                },
                                {
                                    "0": "4912",
                                    "1": "440"
                                },
                                {
                                    "0": "4913",
                                    "1": "206"
                                },
                                {
                                    "0": "4914",
                                    "1": "48"
                                },
                                {
                                    "0": "4915",
                                    "1": "525"
                                },
                                {
                                    "0": "4916",
                                    "1": "16"
                                },
                                {
                                    "0": "4917",
                                    "1": "80"
                                },
                                {
                                    "0": "4921",
                                    "1": "40"
                                },
                                {
                                    "0": "4922",
                                    "1": "105"
                                },
                                {
                                    "0": "4927",
                                    "1": "320"
                                },
                                {
                                    "0": "4928",
                                    "1": "28"
                                },
                                {
                                    "0": "4929",
                                    "1": "102"
                                },
                                {
                                    "0": "4930",
                                    "1": "182"
                                },
                                {
                                    "0": "4931",
                                    "1": "17"
                                },
                                {
                                    "0": "4932",
                                    "1": "12"
                                },
                                {
                                    "0": "4934",
                                    "1": "293"
                                },
                                {
                                    "0": "4935",
                                    "1": "1238"
                                },
                                {
                                    "0": "4937",
                                    "1": "54"
                                },
                                {
                                    "0": "4938",
                                    "1": "39"
                                },
                                {
                                    "0": "4940",
                                    "1": "296"
                                },
                                {
                                    "0": "4941",
                                    "1": "105"
                                },
                                {
                                    "0": "4943",
                                    "1": "299"
                                },
                                {
                                    "0": "4944",
                                    "1": "72"
                                },
                                {
                                    "0": "4947",
                                    "1": "7"
                                },
                                {
                                    "0": "4952",
                                    "1": "561"
                                },
                                {
                                    "0": "4953",
                                    "1": "22"
                                },
                                {
                                    "0": "4956",
                                    "1": "999"
                                },
                                {
                                    "0": "4957",
                                    "1": "390"
                                },
                                {
                                    "0": "4958",
                                    "1": "425"
                                },
                                {
                                    "0": "4959",
                                    "1": "18"
                                },
                                {
                                    "0": "4962",
                                    "1": "86"
                                },
                                {
                                    "0": "4963",
                                    "1": "38"
                                },
                                {
                                    "0": "4965",
                                    "1": "70"
                                },
                                {
                                    "0": "4966",
                                    "1": "76"
                                },
                                {
                                    "0": "4967",
                                    "1": "32"
                                },
                                {
                                    "0": "4970",
                                    "1": "152"
                                },
                                {
                                    "0": "4971",
                                    "1": "3"
                                },
                                {
                                    "0": "4974",
                                    "1": "216"
                                },
                                {
                                    "0": "4976",
                                    "1": "15"
                                },
                                {
                                    "0": "4978",
                                    "1": "200"
                                },
                                {
                                    "0": "4979",
                                    "1": "91"
                                },
                                {
                                    "0": "4980",
                                    "1": "289"
                                },
                                {
                                    "0": "4981",
                                    "1": "64"
                                },
                                {
                                    "0": "4982",
                                    "1": "421"
                                },
                                {
                                    "0": "4983",
                                    "1": "42"
                                },
                                {
                                    "0": "4984",
                                    "1": "19"
                                },
                                {
                                    "0": "4995",
                                    "1": "99"
                                },
                                {
                                    "0": "4999",
                                    "1": "240"
                                },
                                {
                                    "0": "5000",
                                    "1": "126"
                                },
                                {
                                    "0": "5001",
                                    "1": "192"
                                },
                                {
                                    "0": "5003",
                                    "1": "12"
                                },
                                {
                                    "0": "5007",
                                    "1": "66"
                                },
                                {
                                    "0": "5010",
                                    "1": "1066"
                                },
                                {
                                    "0": "5012",
                                    "1": "27"
                                },
                                {
                                    "0": "5013",
                                    "1": "9"
                                },
                                {
                                    "0": "5017",
                                    "1": "14"
                                },
                                {
                                    "0": "5019",
                                    "1": "252"
                                },
                                {
                                    "0": "5020",
                                    "1": "196"
                                },
                                {
                                    "0": "5021",
                                    "1": "504"
                                },
                                {
                                    "0": "5022",
                                    "1": "12"
                                },
                                {
                                    "0": "5023",
                                    "1": "148"
                                },
                                {
                                    "0": "5025",
                                    "1": "11300"
                                },
                                {
                                    "0": "5027",
                                    "1": "966"
                                },
                                {
                                    "0": "5028",
                                    "1": "24"
                                },
                                {
                                    "0": "5030",
                                    "1": "240"
                                },
                                {
                                    "0": "5031",
                                    "1": "418"
                                },
                                {
                                    "0": "5032",
                                    "1": "1185"
                                },
                                {
                                    "0": "5034",
                                    "1": "288"
                                },
                                {
                                    "0": "5040",
                                    "1": "12"
                                },
                                {
                                    "0": "5041",
                                    "1": "192"
                                },
                                {
                                    "0": "5044",
                                    "1": "203"
                                },
                                {
                                    "0": "5046",
                                    "1": "1037"
                                },
                                {
                                    "0": "5047",
                                    "1": "204"
                                },
                                {
                                    "0": "5048",
                                    "1": "242"
                                },
                                {
                                    "0": "5050",
                                    "1": "126"
                                },
                                {
                                    "0": "5052",
                                    "1": "977"
                                },
                                {
                                    "0": "5056",
                                    "1": "12"
                                },
                                {
                                    "0": "5059",
                                    "1": "264"
                                },
                                {
                                    "0": "5060",
                                    "1": "88"
                                },
                                {
                                    "0": "5061",
                                    "1": "319"
                                },
                                {
                                    "0": "5062",
                                    "1": "19"
                                },
                                {
                                    "0": "5063",
                                    "1": "26"
                                },
                                {
                                    "0": "5064",
                                    "1": "216"
                                },
                                {
                                    "0": "5066",
                                    "1": "36"
                                },
                                {
                                    "0": "5069",
                                    "1": "184"
                                },
                                {
                                    "0": "5071",
                                    "1": "84"
                                },
                                {
                                    "0": "5072",
                                    "1": "98"
                                },
                                {
                                    "0": "5073",
                                    "1": "70"
                                },
                                {
                                    "0": "5074",
                                    "1": "1932"
                                },
                                {
                                    "0": "5076",
                                    "1": "44"
                                },
                                {
                                    "0": "5078",
                                    "1": "540"
                                },
                                {
                                    "0": "5079",
                                    "1": "28"
                                },
                                {
                                    "0": "5081",
                                    "1": "2400"
                                },
                                {
                                    "0": "5083",
                                    "1": "1273"
                                },
                                {
                                    "0": "5085",
                                    "1": "344"
                                },
                                {
                                    "0": "5088",
                                    "1": "250"
                                },
                                {
                                    "0": "5091",
                                    "1": "44"
                                },
                                {
                                    "0": "5092",
                                    "1": "135"
                                },
                                {
                                    "0": "5096",
                                    "1": "1088"
                                },
                                {
                                    "0": "5098",
                                    "1": "60"
                                },
                                {
                                    "0": "5103",
                                    "1": "195"
                                },
                                {
                                    "0": "5104",
                                    "1": "111"
                                },
                                {
                                    "0": "5106",
                                    "1": "323"
                                },
                                {
                                    "0": "5107",
                                    "1": "10"
                                },
                                {
                                    "0": "5108",
                                    "1": "812"
                                },
                                {
                                    "0": "5109",
                                    "1": "18"
                                },
                                {
                                    "0": "5111",
                                    "1": "9"
                                },
                                {
                                    "0": "5112",
                                    "1": "50"
                                },
                                {
                                    "0": "5113",
                                    "1": "544"
                                },
                                {
                                    "0": "5115",
                                    "1": "264"
                                },
                                {
                                    "0": "5116",
                                    "1": "429"
                                },
                                {
                                    "0": "5118",
                                    "1": "321"
                                },
                                {
                                    "0": "5120",
                                    "1": "14"
                                },
                                {
                                    "0": "5121",
                                    "1": "4"
                                },
                                {
                                    "0": "5122",
                                    "1": "374"
                                },
                                {
                                    "0": "5125",
                                    "1": "90"
                                },
                                {
                                    "0": "5128",
                                    "1": "54"
                                },
                                {
                                    "0": "5129",
                                    "1": "165"
                                },
                                {
                                    "0": "5130",
                                    "1": "76"
                                },
                                {
                                    "0": "5131",
                                    "1": "126"
                                },
                                {
                                    "0": "5132",
                                    "1": "132"
                                },
                                {
                                    "0": "5133",
                                    "1": "84"
                                },
                                {
                                    "0": "5134",
                                    "1": "18"
                                },
                                {
                                    "0": "5138",
                                    "1": "253"
                                },
                                {
                                    "0": "5139",
                                    "1": "136"
                                },
                                {
                                    "0": "5140",
                                    "1": "168"
                                },
                                {
                                    "0": "5141",
                                    "1": "269"
                                },
                                {
                                    "0": "5143",
                                    "1": "60"
                                },
                                {
                                    "0": "5145",
                                    "1": "272"
                                },
                                {
                                    "0": "5146",
                                    "1": "564"
                                },
                                {
                                    "0": "5147",
                                    "1": "156"
                                },
                                {
                                    "0": "5149",
                                    "1": "86"
                                },
                                {
                                    "0": "5151",
                                    "1": "210"
                                },
                                {
                                    "0": "5153",
                                    "1": "60"
                                },
                                {
                                    "0": "5154",
                                    "1": "56"
                                },
                                {
                                    "0": "5155",
                                    "1": "81"
                                },
                                {
                                    "0": "5157",
                                    "1": "63"
                                },
                                {
                                    "0": "5158",
                                    "1": "270"
                                },
                                {
                                    "0": "5159",
                                    "1": "245"
                                },
                                {
                                    "0": "5161",
                                    "1": "36"
                                },
                                {
                                    "0": "5162",
                                    "1": "351"
                                },
                                {
                                    "0": "5163",
                                    "1": "12"
                                },
                                {
                                    "0": "5164",
                                    "1": "780"
                                },
                                {
                                    "0": "5166",
                                    "1": "126"
                                },
                                {
                                    "0": "5168",
                                    "1": "55"
                                },
                                {
                                    "0": "5173",
                                    "1": "104"
                                },
                                {
                                    "0": "5174",
                                    "1": "81"
                                },
                                {
                                    "0": "5175",
                                    "1": "39"
                                },
                                {
                                    "0": "5176",
                                    "1": "720"
                                },
                                {
                                    "0": "5181",
                                    "1": "252"
                                },
                                {
                                    "0": "5185",
                                    "1": "44"
                                },
                                {
                                    "0": "5187",
                                    "1": "287"
                                },
                                {
                                    "0": "5193",
                                    "1": "41"
                                },
                                {
                                    "0": "5199",
                                    "1": "630"
                                },
                                {
                                    "0": "5201",
                                    "1": "80"
                                },
                                {
                                    "0": "5203",
                                    "1": "814"
                                },
                                {
                                    "0": "5207",
                                    "1": "156"
                                },
                                {
                                    "0": "5208",
                                    "1": "22"
                                },
                                {
                                    "0": "5209",
                                    "1": "36"
                                },
                                {
                                    "0": "5211",
                                    "1": "27"
                                },
                                {
                                    "0": "5212",
                                    "1": "80"
                                },
                                {
                                    "0": "5213",
                                    "1": "365"
                                },
                                {
                                    "0": "5216",
                                    "1": "19"
                                },
                                {
                                    "0": "5218",
                                    "1": "234"
                                },
                                {
                                    "0": "5222",
                                    "1": "42"
                                },
                                {
                                    "0": "5224",
                                    "1": "2904"
                                },
                                {
                                    "0": "5228",
                                    "1": "666"
                                },
                                {
                                    "0": "5229",
                                    "1": "1120"
                                },
                                {
                                    "0": "5231",
                                    "1": "288"
                                },
                                {
                                    "0": "5233",
                                    "1": "341"
                                },
                                {
                                    "0": "5234",
                                    "1": "203"
                                },
                                {
                                    "0": "5235",
                                    "1": "117"
                                },
                                {
                                    "0": "5237",
                                    "1": "1827"
                                },
                                {
                                    "0": "5240",
                                    "1": "11926"
                                },
                                {
                                    "0": "5241",
                                    "1": "54"
                                },
                                {
                                    "0": "5242",
                                    "1": "196"
                                },
                                {
                                    "0": "5243",
                                    "1": "2"
                                },
                                {
                                    "0": "5244",
                                    "1": "11"
                                },
                                {
                                    "0": "5245",
                                    "1": "276"
                                },
                                {
                                    "0": "5246",
                                    "1": "465"
                                },
                                {
                                    "0": "5248",
                                    "1": "42"
                                },
                                {
                                    "0": "5250",
                                    "1": "13"
                                },
                                {
                                    "0": "5251",
                                    "1": "148"
                                },
                                {
                                    "0": "5253",
                                    "1": "15"
                                },
                                {
                                    "0": "5255",
                                    "1": "321"
                                },
                                {
                                    "0": "5256",
                                    "1": "342"
                                },
                                {
                                    "0": "5257",
                                    "1": "72"
                                },
                                {
                                    "0": "5258",
                                    "1": "344"
                                },
                                {
                                    "0": "5259",
                                    "1": "2334"
                                },
                                {
                                    "0": "5260",
                                    "1": "148"
                                },
                                {
                                    "0": "5261",
                                    "1": "130"
                                },
                                {
                                    "0": "5262",
                                    "1": "21"
                                },
                                {
                                    "0": "5264",
                                    "1": "6"
                                },
                                {
                                    "0": "5266",
                                    "1": "115"
                                },
                                {
                                    "0": "5267",
                                    "1": "1932"
                                },
                                {
                                    "0": "5268",
                                    "1": "162"
                                },
                                {
                                    "0": "5270",
                                    "1": "33"
                                },
                                {
                                    "0": "5273",
                                    "1": "44"
                                },
                                {
                                    "0": "5274",
                                    "1": "297"
                                },
                                {
                                    "0": "5278",
                                    "1": "226"
                                },
                                {
                                    "0": "5283",
                                    "1": "76"
                                },
                                {
                                    "0": "5284",
                                    "1": "204"
                                },
                                {
                                    "0": "5289",
                                    "1": "112"
                                },
                                {
                                    "0": "5290",
                                    "1": "5"
                                },
                                {
                                    "0": "5291",
                                    "1": "144"
                                },
                                {
                                    "0": "5293",
                                    "1": "48"
                                },
                                {
                                    "0": "5294",
                                    "1": "84"
                                },
                                {
                                    "0": "5295",
                                    "1": "168"
                                },
                                {
                                    "0": "5296",
                                    "1": "24"
                                },
                                {
                                    "0": "5299",
                                    "1": "5318"
                                },
                                {
                                    "0": "5300",
                                    "1": "276"
                                },
                                {
                                    "0": "5302",
                                    "1": "11"
                                },
                                {
                                    "0": "5303",
                                    "1": "192"
                                },
                                {
                                    "0": "5304",
                                    "1": "1180"
                                },
                                {
                                    "0": "5309",
                                    "1": "17"
                                },
                                {
                                    "0": "5310",
                                    "1": "16"
                                },
                                {
                                    "0": "5312",
                                    "1": "34"
                                },
                                {
                                    "0": "5313",
                                    "1": "13"
                                },
                                {
                                    "0": "5316",
                                    "1": "210"
                                },
                                {
                                    "0": "5320",
                                    "1": "54"
                                },
                                {
                                    "0": "5321",
                                    "1": "465"
                                },
                                {
                                    "0": "5324",
                                    "1": "285"
                                },
                                {
                                    "0": "5328",
                                    "1": "48"
                                },
                                {
                                    "0": "5330",
                                    "1": "1110"
                                },
                                {
                                    "0": "5332",
                                    "1": "12"
                                },
                                {
                                    "0": "5335",
                                    "1": "274"
                                },
                                {
                                    "0": "5336",
                                    "1": "39"
                                },
                                {
                                    "0": "5337",
                                    "1": "10"
                                },
                                {
                                    "0": "5338",
                                    "1": "16"
                                },
                                {
                                    "0": "5339",
                                    "1": "38"
                                },
                                {
                                    "0": "5344",
                                    "1": "243"
                                },
                                {
                                    "0": "5346",
                                    "1": "75"
                                },
                                {
                                    "0": "5347",
                                    "1": "1850"
                                },
                                {
                                    "0": "5349",
                                    "1": "42"
                                },
                                {
                                    "0": "5351",
                                    "1": "203"
                                },
                                {
                                    "0": "5352",
                                    "1": "90"
                                },
                                {
                                    "0": "5356",
                                    "1": "740"
                                },
                                {
                                    "0": "5358",
                                    "1": "444"
                                },
                                {
                                    "0": "5359",
                                    "1": "333"
                                },
                                {
                                    "0": "5360",
                                    "1": "180"
                                },
                                {
                                    "0": "5361",
                                    "1": "30"
                                },
                                {
                                    "0": "5364",
                                    "1": "120"
                                },
                                {
                                    "0": "5365",
                                    "1": "18"
                                },
                                {
                                    "0": "5366",
                                    "1": "64"
                                },
                                {
                                    "0": "5367",
                                    "1": "81"
                                },
                                {
                                    "0": "5368",
                                    "1": "200"
                                },
                                {
                                    "0": "5369",
                                    "1": "96"
                                },
                                {
                                    "0": "5371",
                                    "1": "33"
                                },
                                {
                                    "0": "5372",
                                    "1": "2"
                                },
                                {
                                    "0": "5373",
                                    "1": "10"
                                },
                                {
                                    "0": "5378",
                                    "1": "50"
                                },
                                {
                                    "0": "5379",
                                    "1": "112"
                                },
                                {
                                    "0": "5380",
                                    "1": "26"
                                },
                                {
                                    "0": "5381",
                                    "1": "234"
                                },
                                {
                                    "0": "5383",
                                    "1": "122"
                                },
                                {
                                    "0": "5384",
                                    "1": "135"
                                },
                                {
                                    "0": "5385",
                                    "1": "26"
                                },
                                {
                                    "0": "5386",
                                    "1": "119"
                                },
                                {
                                    "0": "5389",
                                    "1": "270"
                                },
                                {
                                    "0": "5390",
                                    "1": "91"
                                },
                                {
                                    "0": "5391",
                                    "1": "186"
                                },
                                {
                                    "0": "5392",
                                    "1": "112"
                                },
                                {
                                    "0": "5393",
                                    "1": "936"
                                },
                                {
                                    "0": "5397",
                                    "1": "4400"
                                },
                                {
                                    "0": "5399",
                                    "1": "462"
                                },
                                {
                                    "0": "5400",
                                    "1": "936"
                                },
                                {
                                    "0": "5403",
                                    "1": "5"
                                },
                                {
                                    "0": "5404",
                                    "1": "295"
                                },
                                {
                                    "0": "5405",
                                    "1": "38"
                                },
                                {
                                    "0": "5407",
                                    "1": "296"
                                },
                                {
                                    "0": "5409",
                                    "1": "22"
                                },
                                {
                                    "0": "5412",
                                    "1": "360"
                                },
                                {
                                    "0": "5416",
                                    "1": "518"
                                },
                                {
                                    "0": "5417",
                                    "1": "112"
                                },
                                {
                                    "0": "5418",
                                    "1": "408"
                                },
                                {
                                    "0": "5419",
                                    "1": "18"
                                },
                                {
                                    "0": "5424",
                                    "1": "153"
                                },
                                {
                                    "0": "5428",
                                    "1": "72"
                                },
                                {
                                    "0": "5434",
                                    "1": "79"
                                },
                                {
                                    "0": "5435",
                                    "1": "95"
                                },
                                {
                                    "0": "5436",
                                    "1": "192"
                                },
                                {
                                    "0": "5437",
                                    "1": "6"
                                },
                                {
                                    "0": "5439",
                                    "1": "272"
                                },
                                {
                                    "0": "5440",
                                    "1": "99"
                                },
                                {
                                    "0": "5444",
                                    "1": "14"
                                },
                                {
                                    "0": "5445",
                                    "1": "17"
                                },
                                {
                                    "0": "5448",
                                    "1": "150"
                                },
                                {
                                    "0": "5452",
                                    "1": "72"
                                },
                                {
                                    "0": "5453",
                                    "1": "70"
                                },
                                {
                                    "0": "5454",
                                    "1": "56"
                                },
                                {
                                    "0": "5456",
                                    "1": "189"
                                },
                                {
                                    "0": "5457",
                                    "1": "460"
                                },
                                {
                                    "0": "5458",
                                    "1": "72"
                                },
                                {
                                    "0": "5459",
                                    "1": "1750"
                                },
                                {
                                    "0": "5460",
                                    "1": "102"
                                },
                                {
                                    "0": "5462",
                                    "1": "7"
                                },
                                {
                                    "0": "5465",
                                    "1": "154"
                                },
                                {
                                    "0": "5466",
                                    "1": "19"
                                },
                                {
                                    "0": "5467",
                                    "1": "196"
                                },
                                {
                                    "0": "5471",
                                    "1": "366"
                                },
                                {
                                    "0": "5472",
                                    "1": "14"
                                },
                                {
                                    "0": "5474",
                                    "1": "153"
                                },
                                {
                                    "0": "5475",
                                    "1": "56"
                                },
                                {
                                    "0": "5478",
                                    "1": "180"
                                },
                                {
                                    "0": "5481",
                                    "1": "209"
                                },
                                {
                                    "0": "5482",
                                    "1": "15"
                                },
                                {
                                    "0": "5485",
                                    "1": "16"
                                },
                                {
                                    "0": "5486",
                                    "1": "180"
                                },
                                {
                                    "0": "5487",
                                    "1": "3029"
                                },
                                {
                                    "0": "5488",
                                    "1": "16"
                                },
                                {
                                    "0": "5489",
                                    "1": "55"
                                },
                                {
                                    "0": "5491",
                                    "1": "390"
                                },
                                {
                                    "0": "5493",
                                    "1": "46"
                                },
                                {
                                    "0": "5494",
                                    "1": "187"
                                },
                                {
                                    "0": "5495",
                                    "1": "666"
                                },
                                {
                                    "0": "5496",
                                    "1": "10"
                                },
                                {
                                    "0": "5498",
                                    "1": "330"
                                },
                                {
                                    "0": "5500",
                                    "1": "13"
                                },
                                {
                                    "0": "5502",
                                    "1": "1184"
                                },
                                {
                                    "0": "5503",
                                    "1": "21"
                                },
                                {
                                    "0": "5505",
                                    "1": "36"
                                },
                                {
                                    "0": "5506",
                                    "1": "84"
                                },
                                {
                                    "0": "5508",
                                    "1": "459"
                                },
                                {
                                    "0": "5511",
                                    "1": "3600"
                                },
                                {
                                    "0": "5512",
                                    "1": "55"
                                },
                                {
                                    "0": "5515",
                                    "1": "6"
                                },
                                {
                                    "0": "5518",
                                    "1": "204"
                                },
                                {
                                    "0": "5522",
                                    "1": "9462"
                                },
                                {
                                    "0": "5527",
                                    "1": "77"
                                },
                                {
                                    "0": "5528",
                                    "1": "390"
                                },
                                {
                                    "0": "5530",
                                    "1": "36"
                                },
                                {
                                    "0": "5531",
                                    "1": "632"
                                },
                                {
                                    "0": "5532",
                                    "1": "108"
                                },
                                {
                                    "0": "5534",
                                    "1": "2"
                                },
                                {
                                    "0": "5535",
                                    "1": "1258"
                                },
                                {
                                    "0": "5536",
                                    "1": "252"
                                },
                                {
                                    "0": "5539",
                                    "1": "520"
                                },
                                {
                                    "0": "5540",
                                    "1": "28"
                                },
                                {
                                    "0": "5543",
                                    "1": "37"
                                },
                                {
                                    "0": "5545",
                                    "1": "36"
                                },
                                {
                                    "0": "5546",
                                    "1": "11"
                                },
                                {
                                    "0": "5547",
                                    "1": "405"
                                },
                                {
                                    "0": "5548",
                                    "1": "171"
                                },
                                {
                                    "0": "5550",
                                    "1": "6"
                                },
                                {
                                    "0": "5551",
                                    "1": "63"
                                },
                                {
                                    "0": "5553",
                                    "1": "88"
                                },
                                {
                                    "0": "5554",
                                    "1": "105"
                                },
                                {
                                    "0": "5558",
                                    "1": "34"
                                },
                                {
                                    "0": "5560",
                                    "1": "168"
                                },
                                {
                                    "0": "5561",
                                    "1": "120"
                                },
                                {
                                    "0": "5562",
                                    "1": "30"
                                },
                                {
                                    "0": "5563",
                                    "1": "17"
                                },
                                {
                                    "0": "5567",
                                    "1": "117"
                                },
                                {
                                    "0": "5570",
                                    "1": "1005"
                                },
                                {
                                    "0": "5571",
                                    "1": "80"
                                },
                                {
                                    "0": "5572",
                                    "1": "22"
                                },
                                {
                                    "0": "5573",
                                    "1": "680"
                                },
                                {
                                    "0": "5574",
                                    "1": "143"
                                },
                                {
                                    "0": "5576",
                                    "1": "35"
                                },
                                {
                                    "0": "5577",
                                    "1": "140"
                                },
                                {
                                    "0": "5580",
                                    "1": "280"
                                },
                                {
                                    "0": "5581",
                                    "1": "12"
                                },
                                {
                                    "0": "5582",
                                    "1": "38"
                                },
                                {
                                    "0": "5583",
                                    "1": "18"
                                },
                                {
                                    "0": "5585",
                                    "1": "9"
                                },
                                {
                                    "0": "5586",
                                    "1": "12"
                                },
                                {
                                    "0": "5587",
                                    "1": "88"
                                },
                                {
                                    "0": "5588",
                                    "1": "15"
                                },
                                {
                                    "0": "5589",
                                    "1": "123"
                                },
                                {
                                    "0": "5590",
                                    "1": "220"
                                },
                                {
                                    "0": "5591",
                                    "1": "13"
                                },
                                {
                                    "0": "5595",
                                    "1": "1932"
                                },
                                {
                                    "0": "5596",
                                    "1": "26"
                                },
                                {
                                    "0": "5600",
                                    "1": "84"
                                },
                                {
                                    "0": "5602",
                                    "1": "936"
                                },
                                {
                                    "0": "5603",
                                    "1": "40"
                                },
                                {
                                    "0": "5604",
                                    "1": "237"
                                },
                                {
                                    "0": "5607",
                                    "1": "40"
                                },
                                {
                                    "0": "5609",
                                    "1": "916"
                                },
                                {
                                    "0": "5610",
                                    "1": "160"
                                },
                                {
                                    "0": "5611",
                                    "1": "108"
                                },
                                {
                                    "0": "5612",
                                    "1": "375"
                                },
                                {
                                    "0": "5614",
                                    "1": "152"
                                },
                                {
                                    "0": "5615",
                                    "1": "314"
                                },
                                {
                                    "0": "5616",
                                    "1": "134"
                                },
                                {
                                    "0": "5617",
                                    "1": "70"
                                },
                                {
                                    "0": "5619",
                                    "1": "504"
                                },
                                {
                                    "0": "5621",
                                    "1": "187"
                                },
                                {
                                    "0": "5622",
                                    "1": "36"
                                },
                                {
                                    "0": "5625",
                                    "1": "154"
                                },
                                {
                                    "0": "5626",
                                    "1": "540"
                                },
                                {
                                    "0": "5627",
                                    "1": "1530"
                                },
                                {
                                    "0": "5629",
                                    "1": "1220"
                                },
                                {
                                    "0": "5630",
                                    "1": "48"
                                },
                                {
                                    "0": "5633",
                                    "1": "432"
                                },
                                {
                                    "0": "5634",
                                    "1": "18"
                                },
                                {
                                    "0": "5636",
                                    "1": "30"
                                },
                                {
                                    "0": "5637",
                                    "1": "440"
                                },
                                {
                                    "0": "5638",
                                    "1": "432"
                                },
                                {
                                    "0": "5639",
                                    "1": "39"
                                },
                                {
                                    "0": "5640",
                                    "1": "181"
                                },
                                {
                                    "0": "5642",
                                    "1": "44"
                                },
                                {
                                    "0": "5647",
                                    "1": "143"
                                },
                                {
                                    "0": "5648",
                                    "1": "2100"
                                },
                                {
                                    "0": "5649",
                                    "1": "114"
                                },
                                {
                                    "0": "5651",
                                    "1": "297"
                                },
                                {
                                    "0": "5652",
                                    "1": "27"
                                },
                                {
                                    "0": "5654",
                                    "1": "63"
                                },
                                {
                                    "0": "5656",
                                    "1": "108"
                                },
                                {
                                    "0": "5657",
                                    "1": "65"
                                },
                                {
                                    "0": "5659",
                                    "1": "2736"
                                },
                                {
                                    "0": "5660",
                                    "1": "469"
                                },
                                {
                                    "0": "5663",
                                    "1": "40"
                                },
                                {
                                    "0": "5664",
                                    "1": "2"
                                },
                                {
                                    "0": "5665",
                                    "1": "341"
                                },
                                {
                                    "0": "5670",
                                    "1": "268"
                                },
                                {
                                    "0": "5671",
                                    "1": "552"
                                },
                                {
                                    "0": "5672",
                                    "1": "14"
                                },
                                {
                                    "0": "5675",
                                    "1": "8"
                                },
                                {
                                    "0": "5676",
                                    "1": "55"
                                },
                                {
                                    "0": "5678",
                                    "1": "38"
                                },
                                {
                                    "0": "5679",
                                    "1": "13"
                                },
                                {
                                    "0": "5680",
                                    "1": "315"
                                },
                                {
                                    "0": "5682",
                                    "1": "169"
                                },
                                {
                                    "0": "5683",
                                    "1": "544"
                                },
                                {
                                    "0": "5685",
                                    "1": "90"
                                },
                                {
                                    "0": "5687",
                                    "1": "9"
                                },
                                {
                                    "0": "5688",
                                    "1": "242"
                                },
                                {
                                    "0": "5689",
                                    "1": "45"
                                },
                                {
                                    "0": "5699",
                                    "1": "105"
                                },
                                {
                                    "0": "5700",
                                    "1": "518"
                                },
                                {
                                    "0": "5701",
                                    "1": "112"
                                },
                                {
                                    "0": "5703",
                                    "1": "40"
                                },
                                {
                                    "0": "5705",
                                    "1": "42"
                                },
                                {
                                    "0": "5706",
                                    "1": "228"
                                },
                                {
                                    "0": "5707",
                                    "1": "12"
                                },
                                {
                                    "0": "5710",
                                    "1": "5780"
                                },
                                {
                                    "0": "5715",
                                    "1": "39"
                                },
                                {
                                    "0": "5716",
                                    "1": "101"
                                },
                                {
                                    "0": "5719",
                                    "1": "36"
                                },
                                {
                                    "0": "5722",
                                    "1": "297"
                                },
                                {
                                    "0": "5723",
                                    "1": "11"
                                },
                                {
                                    "0": "5724",
                                    "1": "96"
                                },
                                {
                                    "0": "5725",
                                    "1": "170"
                                },
                                {
                                    "0": "5726",
                                    "1": "178"
                                },
                                {
                                    "0": "5730",
                                    "1": "256"
                                },
                                {
                                    "0": "5731",
                                    "1": "95"
                                },
                                {
                                    "0": "5733",
                                    "1": "54"
                                },
                                {
                                    "0": "5734",
                                    "1": "58"
                                },
                                {
                                    "0": "5737",
                                    "1": "95"
                                },
                                {
                                    "0": "5739",
                                    "1": "33"
                                },
                                {
                                    "0": "5741",
                                    "1": "142"
                                },
                                {
                                    "0": "5743",
                                    "1": "108"
                                },
                                {
                                    "0": "5744",
                                    "1": "273"
                                },
                                {
                                    "0": "5745",
                                    "1": "36"
                                },
                                {
                                    "0": "5747",
                                    "1": "165"
                                },
                                {
                                    "0": "5749",
                                    "1": "150"
                                },
                                {
                                    "0": "5751",
                                    "1": "110"
                                },
                                {
                                    "0": "5752",
                                    "1": "10"
                                },
                                {
                                    "0": "5760",
                                    "1": "36"
                                },
                                {
                                    "0": "5763",
                                    "1": "232"
                                },
                                {
                                    "0": "5764",
                                    "1": "84"
                                },
                                {
                                    "0": "5765",
                                    "1": "52"
                                },
                                {
                                    "0": "5766",
                                    "1": "119"
                                },
                                {
                                    "0": "5769",
                                    "1": "12"
                                },
                                {
                                    "0": "5771",
                                    "1": "210"
                                },
                                {
                                    "0": "5772",
                                    "1": "306"
                                },
                                {
                                    "0": "5773",
                                    "1": "231"
                                },
                                {
                                    "0": "5774",
                                    "1": "24"
                                },
                                {
                                    "0": "5777",
                                    "1": "19"
                                },
                                {
                                    "0": "5779",
                                    "1": "205"
                                },
                                {
                                    "0": "5783",
                                    "1": "792"
                                },
                                {
                                    "0": "5784",
                                    "1": "280"
                                },
                                {
                                    "0": "5785",
                                    "1": "56"
                                },
                                {
                                    "0": "5787",
                                    "1": "156"
                                },
                                {
                                    "0": "5788",
                                    "1": "273"
                                },
                                {
                                    "0": "5789",
                                    "1": "219"
                                },
                                {
                                    "0": "5793",
                                    "1": "4104"
                                },
                                {
                                    "0": "5795",
                                    "1": "510"
                                },
                                {
                                    "0": "5797",
                                    "1": "126"
                                },
                                {
                                    "0": "5799",
                                    "1": "333"
                                },
                                {
                                    "0": "5802",
                                    "1": "588"
                                },
                                {
                                    "0": "5804",
                                    "1": "459"
                                },
                                {
                                    "0": "5808",
                                    "1": "420"
                                },
                                {
                                    "0": "5816",
                                    "1": "553"
                                },
                                {
                                    "0": "5819",
                                    "1": "189"
                                },
                                {
                                    "0": "5820",
                                    "1": "610"
                                },
                                {
                                    "0": "5821",
                                    "1": "144"
                                },
                                {
                                    "0": "5822",
                                    "1": "208"
                                },
                                {
                                    "0": "5823",
                                    "1": "150"
                                },
                                {
                                    "0": "5826",
                                    "1": "295"
                                },
                                {
                                    "0": "5828",
                                    "1": "531"
                                },
                                {
                                    "0": "5829",
                                    "1": "474"
                                },
                                {
                                    "0": "5835",
                                    "1": "218"
                                },
                                {
                                    "0": "5837",
                                    "1": "990"
                                },
                                {
                                    "0": "5838",
                                    "1": "81"
                                },
                                {
                                    "0": "5840",
                                    "1": "194"
                                },
                                {
                                    "0": "5841",
                                    "1": "79"
                                },
                                {
                                    "0": "5842",
                                    "1": "295"
                                },
                                {
                                    "0": "5843",
                                    "1": "15"
                                },
                                {
                                    "0": "5845",
                                    "1": "35"
                                },
                                {
                                    "0": "5846",
                                    "1": "54"
                                },
                                {
                                    "0": "5847",
                                    "1": "96"
                                },
                                {
                                    "0": "5848",
                                    "1": "24"
                                },
                                {
                                    "0": "5849",
                                    "1": "188"
                                },
                                {
                                    "0": "5850",
                                    "1": "182"
                                },
                                {
                                    "0": "5852",
                                    "1": "121"
                                },
                                {
                                    "0": "5855",
                                    "1": "101"
                                },
                                {
                                    "0": "5857",
                                    "1": "270"
                                },
                                {
                                    "0": "5860",
                                    "1": "44"
                                },
                                {
                                    "0": "5861",
                                    "1": "9765"
                                },
                                {
                                    "0": "5864",
                                    "1": "11"
                                },
                                {
                                    "0": "5865",
                                    "1": "90"
                                },
                                {
                                    "0": "5866",
                                    "1": "405"
                                },
                                {
                                    "0": "5869",
                                    "1": "44"
                                },
                                {
                                    "0": "5870",
                                    "1": "591"
                                },
                                {
                                    "0": "5873",
                                    "1": "90"
                                },
                                {
                                    "0": "5875",
                                    "1": "116"
                                },
                                {
                                    "0": "5876",
                                    "1": "20"
                                },
                                {
                                    "0": "5877",
                                    "1": "102"
                                },
                                {
                                    "0": "5878",
                                    "1": "110"
                                },
                                {
                                    "0": "5879",
                                    "1": "123"
                                },
                                {
                                    "0": "5880",
                                    "1": "13"
                                },
                                {
                                    "0": "5881",
                                    "1": "135"
                                },
                                {
                                    "0": "5882",
                                    "1": "12"
                                },
                                {
                                    "0": "5883",
                                    "1": "16"
                                },
                                {
                                    "0": "5885",
                                    "1": "36"
                                },
                                {
                                    "0": "5887",
                                    "1": "11"
                                },
                                {
                                    "0": "5888",
                                    "1": "159"
                                },
                                {
                                    "0": "5889",
                                    "1": "84"
                                },
                                {
                                    "0": "5891",
                                    "1": "64"
                                },
                                {
                                    "0": "5893",
                                    "1": "12"
                                },
                                {
                                    "0": "5896",
                                    "1": "289"
                                },
                                {
                                    "0": "5897",
                                    "1": "140"
                                },
                                {
                                    "0": "5899",
                                    "1": "128"
                                },
                                {
                                    "0": "5902",
                                    "1": "1368"
                                },
                                {
                                    "0": "5903",
                                    "1": "91"
                                },
                                {
                                    "0": "5904",
                                    "1": "638"
                                },
                                {
                                    "0": "5905",
                                    "1": "120"
                                },
                                {
                                    "0": "5907",
                                    "1": "32"
                                },
                                {
                                    "0": "5908",
                                    "1": "368"
                                },
                                {
                                    "0": "5909",
                                    "1": "26"
                                },
                                {
                                    "0": "5910",
                                    "1": "32"
                                },
                                {
                                    "0": "5911",
                                    "1": "99"
                                },
                                {
                                    "0": "5912",
                                    "1": "1088"
                                },
                                {
                                    "0": "5917",
                                    "1": "28"
                                },
                                {
                                    "0": "5920",
                                    "1": "48"
                                },
                                {
                                    "0": "5923",
                                    "1": "243"
                                },
                                {
                                    "0": "5924",
                                    "1": "14"
                                },
                                {
                                    "0": "5926",
                                    "1": "180"
                                },
                                {
                                    "0": "5927",
                                    "1": "516"
                                },
                                {
                                    "0": "5929",
                                    "1": "32"
                                },
                                {
                                    "0": "5932",
                                    "1": "192"
                                },
                                {
                                    "0": "5933",
                                    "1": "90"
                                },
                                {
                                    "0": "5937",
                                    "1": "36"
                                },
                                {
                                    "0": "5941",
                                    "1": "63"
                                },
                                {
                                    "0": "5943",
                                    "1": "189"
                                },
                                {
                                    "0": "5944",
                                    "1": "24"
                                },
                                {
                                    "0": "5948",
                                    "1": "16"
                                },
                                {
                                    "0": "5949",
                                    "1": "60"
                                },
                                {
                                    "0": "5950",
                                    "1": "210"
                                },
                                {
                                    "0": "5953",
                                    "1": "12"
                                },
                                {
                                    "0": "5954",
                                    "1": "15"
                                },
                                {
                                    "0": "5957",
                                    "1": "210"
                                },
                                {
                                    "0": "5958",
                                    "1": "234"
                                },
                                {
                                    "0": "5959",
                                    "1": "104"
                                },
                                {
                                    "0": "5960",
                                    "1": "26"
                                },
                                {
                                    "0": "5961",
                                    "1": "84"
                                },
                                {
                                    "0": "5963",
                                    "1": "30"
                                },
                                {
                                    "0": "5970",
                                    "1": "118"
                                },
                                {
                                    "0": "5971",
                                    "1": "64"
                                },
                                {
                                    "0": "5972",
                                    "1": "198"
                                },
                                {
                                    "0": "5973",
                                    "1": "44"
                                },
                                {
                                    "0": "5976",
                                    "1": "12"
                                },
                                {
                                    "0": "5977",
                                    "1": "288"
                                },
                                {
                                    "0": "5981",
                                    "1": "90"
                                },
                                {
                                    "0": "5984",
                                    "1": "14525"
                                },
                                {
                                    "0": "5986",
                                    "1": "7"
                                },
                                {
                                    "0": "5987",
                                    "1": "90"
                                },
                                {
                                    "0": "5988",
                                    "1": "402"
                                },
                                {
                                    "0": "5989",
                                    "1": "298"
                                },
                                {
                                    "0": "5990",
                                    "1": "72"
                                },
                                {
                                    "0": "5991",
                                    "1": "3"
                                },
                                {
                                    "0": "5993",
                                    "1": "132"
                                },
                                {
                                    "0": "5994",
                                    "1": "54"
                                },
                                {
                                    "0": "5995",
                                    "1": "333"
                                },
                                {
                                    "0": "5996",
                                    "1": "52"
                                },
                                {
                                    "0": "5997",
                                    "1": "1280"
                                },
                                {
                                    "0": "5999",
                                    "1": "192"
                                },
                                {
                                    "0": "6000",
                                    "1": "260"
                                },
                                {
                                    "0": "6002",
                                    "1": "15"
                                },
                                {
                                    "0": "6007",
                                    "1": "299"
                                },
                                {
                                    "0": "6008",
                                    "1": "150"
                                },
                                {
                                    "0": "6009",
                                    "1": "440"
                                },
                                {
                                    "0": "6011",
                                    "1": "210"
                                },
                                {
                                    "0": "6014",
                                    "1": "24"
                                },
                                {
                                    "0": "6015",
                                    "1": "230"
                                },
                                {
                                    "0": "6017",
                                    "1": "629"
                                },
                                {
                                    "0": "6019",
                                    "1": "14"
                                },
                                {
                                    "0": "6021",
                                    "1": "27"
                                },
                                {
                                    "0": "6025",
                                    "1": "1200"
                                },
                                {
                                    "0": "6028",
                                    "1": "120"
                                },
                                {
                                    "0": "6030",
                                    "1": "663"
                                },
                                {
                                    "0": "6031",
                                    "1": "27"
                                },
                                {
                                    "0": "6032",
                                    "1": "42"
                                },
                                {
                                    "0": "6035",
                                    "1": "19"
                                },
                                {
                                    "0": "6037",
                                    "1": "3"
                                },
                                {
                                    "0": "6039",
                                    "1": "260"
                                },
                                {
                                    "0": "6042",
                                    "1": "24"
                                },
                                {
                                    "0": "6043",
                                    "1": "11"
                                },
                                {
                                    "0": "6047",
                                    "1": "35"
                                },
                                {
                                    "0": "6051",
                                    "1": "100"
                                },
                                {
                                    "0": "6054",
                                    "1": "120"
                                },
                                {
                                    "0": "6057",
                                    "1": "44"
                                },
                                {
                                    "0": "6058",
                                    "1": "200"
                                },
                                {
                                    "0": "6064",
                                    "1": "128"
                                },
                                {
                                    "0": "6066",
                                    "1": "60"
                                },
                                {
                                    "0": "6069",
                                    "1": "26"
                                },
                                {
                                    "0": "6070",
                                    "1": "234"
                                },
                                {
                                    "0": "6072",
                                    "1": "70"
                                },
                                {
                                    "0": "6073",
                                    "1": "11"
                                },
                                {
                                    "0": "6074",
                                    "1": "42"
                                },
                                {
                                    "0": "6078",
                                    "1": "444"
                                },
                                {
                                    "0": "6079",
                                    "1": "4879"
                                },
                                {
                                    "0": "6081",
                                    "1": "23"
                                },
                                {
                                    "0": "6082",
                                    "1": "7"
                                },
                                {
                                    "0": "6085",
                                    "1": "63"
                                },
                                {
                                    "0": "6088",
                                    "1": "40"
                                },
                                {
                                    "0": "6089",
                                    "1": "42"
                                },
                                {
                                    "0": "6090",
                                    "1": "190"
                                },
                                {
                                    "0": "6094",
                                    "1": "189"
                                },
                                {
                                    "0": "6095",
                                    "1": "200"
                                },
                                {
                                    "0": "6099",
                                    "1": "1345"
                                },
                                {
                                    "0": "6100",
                                    "1": "62"
                                },
                                {
                                    "0": "6105",
                                    "1": "19"
                                },
                                {
                                    "0": "6107",
                                    "1": "189"
                                },
                                {
                                    "0": "6108",
                                    "1": "355"
                                },
                                {
                                    "0": "6109",
                                    "1": "64"
                                },
                                {
                                    "0": "6111",
                                    "1": "15"
                                },
                                {
                                    "0": "6112",
                                    "1": "119"
                                },
                                {
                                    "0": "6113",
                                    "1": "518"
                                },
                                {
                                    "0": "6115",
                                    "1": "270"
                                },
                                {
                                    "0": "6116",
                                    "1": "12"
                                },
                                {
                                    "0": "6117",
                                    "1": "592"
                                },
                                {
                                    "0": "6119",
                                    "1": "275"
                                },
                                {
                                    "0": "6121",
                                    "1": "187"
                                },
                                {
                                    "0": "6123",
                                    "1": "57"
                                },
                                {
                                    "0": "6124",
                                    "1": "84"
                                },
                                {
                                    "0": "6125",
                                    "1": "46"
                                },
                                {
                                    "0": "6128",
                                    "1": "76"
                                },
                                {
                                    "0": "6129",
                                    "1": "174"
                                },
                                {
                                    "0": "6131",
                                    "1": "390"
                                },
                                {
                                    "0": "6132",
                                    "1": "110"
                                },
                                {
                                    "0": "6134",
                                    "1": "322"
                                },
                                {
                                    "0": "6138",
                                    "1": "138"
                                },
                                {
                                    "0": "6139",
                                    "1": "600"
                                },
                                {
                                    "0": "6140",
                                    "1": "611"
                                },
                                {
                                    "0": "6148",
                                    "1": "30"
                                },
                                {
                                    "0": "6153",
                                    "1": "3600"
                                },
                                {
                                    "0": "6155",
                                    "1": "3300"
                                },
                                {
                                    "0": "6160",
                                    "1": "380"
                                },
                                {
                                    "0": "6161",
                                    "1": "240"
                                },
                                {
                                    "0": "6162",
                                    "1": "65"
                                },
                                {
                                    "0": "6167",
                                    "1": "18"
                                },
                                {
                                    "0": "6170",
                                    "1": "162"
                                },
                                {
                                    "0": "6171",
                                    "1": "70"
                                },
                                {
                                    "0": "6178",
                                    "1": "126"
                                },
                                {
                                    "0": "6179",
                                    "1": "48"
                                },
                                {
                                    "0": "6180",
                                    "1": "336"
                                },
                                {
                                    "0": "6186",
                                    "1": "26"
                                },
                                {
                                    "0": "6187",
                                    "1": "225"
                                },
                                {
                                    "0": "6188",
                                    "1": "160"
                                },
                                {
                                    "0": "6189",
                                    "1": "528"
                                },
                                {
                                    "0": "6190",
                                    "1": "161"
                                },
                                {
                                    "0": "6192",
                                    "1": "55"
                                },
                                {
                                    "0": "6193",
                                    "1": "48"
                                },
                                {
                                    "0": "6194",
                                    "1": "304"
                                },
                                {
                                    "0": "6195",
                                    "1": "17"
                                },
                                {
                                    "0": "6196",
                                    "1": "189"
                                },
                                {
                                    "0": "6197",
                                    "1": "149"
                                },
                                {
                                    "0": "6198",
                                    "1": "77"
                                },
                                {
                                    "0": "6199",
                                    "1": "22"
                                },
                                {
                                    "0": "6200",
                                    "1": "176"
                                },
                                {
                                    "0": "6201",
                                    "1": "104"
                                },
                                {
                                    "0": "6202",
                                    "1": "186"
                                },
                                {
                                    "0": "6205",
                                    "1": "91"
                                },
                                {
                                    "0": "6206",
                                    "1": "24"
                                },
                                {
                                    "0": "6209",
                                    "1": "80"
                                },
                                {
                                    "0": "6217",
                                    "1": "424"
                                },
                                {
                                    "0": "6218",
                                    "1": "144"
                                },
                                {
                                    "0": "6219",
                                    "1": "24"
                                },
                                {
                                    "0": "6220",
                                    "1": "93"
                                },
                                {
                                    "0": "6221",
                                    "1": "2736"
                                },
                                {
                                    "0": "6222",
                                    "1": "10"
                                },
                                {
                                    "0": "6223",
                                    "1": "960"
                                },
                                {
                                    "0": "6224",
                                    "1": "108"
                                },
                                {
                                    "0": "6225",
                                    "1": "20"
                                },
                                {
                                    "0": "6226",
                                    "1": "162"
                                },
                                {
                                    "0": "6227",
                                    "1": "56"
                                },
                                {
                                    "0": "6230",
                                    "1": "15"
                                },
                                {
                                    "0": "6236",
                                    "1": "342"
                                },
                                {
                                    "0": "6239",
                                    "1": "377"
                                },
                                {
                                    "0": "6240",
                                    "1": "99"
                                },
                                {
                                    "0": "6241",
                                    "1": "108"
                                },
                                {
                                    "0": "6243",
                                    "1": "35"
                                },
                                {
                                    "0": "6246",
                                    "1": "320"
                                },
                                {
                                    "0": "6247",
                                    "1": "130"
                                },
                                {
                                    "0": "6250",
                                    "1": "20"
                                },
                                {
                                    "0": "6251",
                                    "1": "481"
                                },
                                {
                                    "0": "6255",
                                    "1": "84"
                                },
                                {
                                    "0": "6256",
                                    "1": "108"
                                },
                                {
                                    "0": "6257",
                                    "1": "133"
                                },
                                {
                                    "0": "6259",
                                    "1": "14"
                                },
                                {
                                    "0": "6260",
                                    "1": "148"
                                },
                                {
                                    "0": "6262",
                                    "1": "420"
                                },
                                {
                                    "0": "6263",
                                    "1": "72"
                                },
                                {
                                    "0": "6264",
                                    "1": "72"
                                },
                                {
                                    "0": "6266",
                                    "1": "16"
                                },
                                {
                                    "0": "6267",
                                    "1": "155"
                                },
                                {
                                    "0": "6268",
                                    "1": "95"
                                },
                                {
                                    "0": "6271",
                                    "1": "44"
                                },
                                {
                                    "0": "6272",
                                    "1": "1232"
                                },
                                {
                                    "0": "6277",
                                    "1": "36"
                                },
                                {
                                    "0": "6279",
                                    "1": "638"
                                },
                                {
                                    "0": "6280",
                                    "1": "270"
                                },
                                {
                                    "0": "6281",
                                    "1": "140"
                                },
                                {
                                    "0": "6283",
                                    "1": "492"
                                },
                                {
                                    "0": "6286",
                                    "1": "57"
                                },
                                {
                                    "0": "6287",
                                    "1": "296"
                                },
                                {
                                    "0": "6288",
                                    "1": "88"
                                },
                                {
                                    "0": "6289",
                                    "1": "23"
                                },
                                {
                                    "0": "6291",
                                    "1": "18"
                                },
                                {
                                    "0": "6293",
                                    "1": "419"
                                },
                                {
                                    "0": "6294",
                                    "1": "31"
                                },
                                {
                                    "0": "6296",
                                    "1": "53"
                                },
                                {
                                    "0": "6297",
                                    "1": "55"
                                },
                                {
                                    "0": "6298",
                                    "1": "126"
                                },
                                {
                                    "0": "6304",
                                    "1": "204"
                                },
                                {
                                    "0": "6305",
                                    "1": "203"
                                },
                                {
                                    "0": "6307",
                                    "1": "13"
                                },
                                {
                                    "0": "6308",
                                    "1": "1344"
                                },
                                {
                                    "0": "6309",
                                    "1": "407"
                                },
                                {
                                    "0": "6310",
                                    "1": "210"
                                },
                                {
                                    "0": "6311",
                                    "1": "187"
                                },
                                {
                                    "0": "6312",
                                    "1": "30"
                                },
                                {
                                    "0": "6314",
                                    "1": "294"
                                },
                                {
                                    "0": "6315",
                                    "1": "13"
                                },
                                {
                                    "0": "6316",
                                    "1": "29"
                                },
                                {
                                    "0": "6318",
                                    "1": "50"
                                },
                                {
                                    "0": "6319",
                                    "1": "290"
                                },
                                {
                                    "0": "6320",
                                    "1": "26"
                                },
                                {
                                    "0": "6321",
                                    "1": "90"
                                },
                                {
                                    "0": "6326",
                                    "1": "56"
                                },
                                {
                                    "0": "6327",
                                    "1": "80"
                                },
                                {
                                    "0": "6332",
                                    "1": "46"
                                },
                                {
                                    "0": "6335",
                                    "1": "39"
                                },
                                {
                                    "0": "6338",
                                    "1": "32"
                                },
                                {
                                    "0": "6341",
                                    "1": "56"
                                },
                                {
                                    "0": "6343",
                                    "1": "56"
                                },
                                {
                                    "0": "6344",
                                    "1": "110"
                                },
                                {
                                    "0": "6345",
                                    "1": "504"
                                },
                                {
                                    "0": "6346",
                                    "1": "150"
                                },
                                {
                                    "0": "6347",
                                    "1": "520"
                                },
                                {
                                    "0": "6348",
                                    "1": "680"
                                },
                                {
                                    "0": "6350",
                                    "1": "638"
                                },
                                {
                                    "0": "6351",
                                    "1": "54"
                                },
                                {
                                    "0": "6353",
                                    "1": "198"
                                },
                                {
                                    "0": "6354",
                                    "1": "20"
                                },
                                {
                                    "0": "6355",
                                    "1": "10"
                                },
                                {
                                    "0": "6356",
                                    "1": "2808"
                                },
                                {
                                    "0": "6361",
                                    "1": "85"
                                },
                                {
                                    "0": "6363",
                                    "1": "90"
                                },
                                {
                                    "0": "6365",
                                    "1": "375"
                                },
                                {
                                    "0": "6369",
                                    "1": "184"
                                },
                                {
                                    "0": "6370",
                                    "1": "69"
                                },
                                {
                                    "0": "6371",
                                    "1": "27"
                                },
                                {
                                    "0": "6373",
                                    "1": "96"
                                },
                                {
                                    "0": "6374",
                                    "1": "4"
                                },
                                {
                                    "0": "6375",
                                    "1": "664"
                                },
                                {
                                    "0": "6377",
                                    "1": "34"
                                },
                                {
                                    "0": "6378",
                                    "1": "64"
                                },
                                {
                                    "0": "6379",
                                    "1": "703"
                                },
                                {
                                    "0": "6380",
                                    "1": "114"
                                },
                                {
                                    "0": "6382",
                                    "1": "57"
                                },
                                {
                                    "0": "6383",
                                    "1": "15"
                                },
                                {
                                    "0": "6384",
                                    "1": "432"
                                }
                            ]
                        },
                        "text/html": [
                            "<table>",
                            "<tr><th>InstructorID</th><th>(No column name)</th></tr>",
                            "<tr><td>4789</td><td>126</td></tr>",
                            "<tr><td>4790</td><td>1088</td></tr>",
                            "<tr><td>4792</td><td>280</td></tr>",
                            "<tr><td>4793</td><td>339</td></tr>",
                            "<tr><td>4794</td><td>440</td></tr>",
                            "<tr><td>4796</td><td>238</td></tr>",
                            "<tr><td>4798</td><td>15</td></tr>",
                            "<tr><td>4799</td><td>72</td></tr>",
                            "<tr><td>4800</td><td>441</td></tr>",
                            "<tr><td>4801</td><td>448</td></tr>",
                            "<tr><td>4802</td><td>34</td></tr>",
                            "<tr><td>4803</td><td>510</td></tr>",
                            "<tr><td>4805</td><td>1368</td></tr>",
                            "<tr><td>4806</td><td>1228</td></tr>",
                            "<tr><td>4807</td><td>504</td></tr>",
                            "<tr><td>4809</td><td>2958</td></tr>",
                            "<tr><td>4810</td><td>100</td></tr>",
                            "<tr><td>4811</td><td>78</td></tr>",
                            "<tr><td>4815</td><td>243</td></tr>",
                            "<tr><td>4816</td><td>26</td></tr>",
                            "<tr><td>4817</td><td>34</td></tr>",
                            "<tr><td>4818</td><td>300</td></tr>",
                            "<tr><td>4820</td><td>156</td></tr>",
                            "<tr><td>4821</td><td>120</td></tr>",
                            "<tr><td>4822</td><td>58</td></tr>",
                            "<tr><td>4823</td><td>2400</td></tr>",
                            "<tr><td>4825</td><td>33</td></tr>",
                            "<tr><td>4828</td><td>198</td></tr>",
                            "<tr><td>4829</td><td>14</td></tr>",
                            "<tr><td>4830</td><td>288</td></tr>",
                            "<tr><td>4831</td><td>27</td></tr>",
                            "<tr><td>4832</td><td>863</td></tr>",
                            "<tr><td>4833</td><td>556</td></tr>",
                            "<tr><td>4834</td><td>105</td></tr>",
                            "<tr><td>4841</td><td>666</td></tr>",
                            "<tr><td>4842</td><td>322</td></tr>",
                            "<tr><td>4846</td><td>5</td></tr>",
                            "<tr><td>4847</td><td>660</td></tr>",
                            "<tr><td>4849</td><td>114</td></tr>",
                            "<tr><td>4850</td><td>272</td></tr>",
                            "<tr><td>4851</td><td>40</td></tr>",
                            "<tr><td>4852</td><td>405</td></tr>",
                            "<tr><td>4853</td><td>60</td></tr>",
                            "<tr><td>4857</td><td>26</td></tr>",
                            "<tr><td>4858</td><td>98</td></tr>",
                            "<tr><td>4859</td><td>5</td></tr>",
                            "<tr><td>4862</td><td>206</td></tr>",
                            "<tr><td>4863</td><td>30</td></tr>",
                            "<tr><td>4864</td><td>15</td></tr>",
                            "<tr><td>4865</td><td>391</td></tr>",
                            "<tr><td>4869</td><td>73</td></tr>",
                            "<tr><td>4870</td><td>91</td></tr>",
                            "<tr><td>4871</td><td>144</td></tr>",
                            "<tr><td>4876</td><td>64</td></tr>",
                            "<tr><td>4878</td><td>10</td></tr>",
                            "<tr><td>4881</td><td>75</td></tr>",
                            "<tr><td>4882</td><td>9</td></tr>",
                            "<tr><td>4883</td><td>160</td></tr>",
                            "<tr><td>4887</td><td>198</td></tr>",
                            "<tr><td>4888</td><td>112</td></tr>",
                            "<tr><td>4889</td><td>580</td></tr>",
                            "<tr><td>4891</td><td>408</td></tr>",
                            "<tr><td>4893</td><td>276</td></tr>",
                            "<tr><td>4894</td><td>208</td></tr>",
                            "<tr><td>4895</td><td>842</td></tr>",
                            "<tr><td>4896</td><td>210</td></tr>",
                            "<tr><td>4897</td><td>8</td></tr>",
                            "<tr><td>4898</td><td>528</td></tr>",
                            "<tr><td>4900</td><td>1628</td></tr>",
                            "<tr><td>4902</td><td>560</td></tr>",
                            "<tr><td>4904</td><td>320</td></tr>",
                            "<tr><td>4905</td><td>117</td></tr>",
                            "<tr><td>4906</td><td>12</td></tr>",
                            "<tr><td>4907</td><td>553</td></tr>",
                            "<tr><td>4908</td><td>111</td></tr>",
                            "<tr><td>4909</td><td>14</td></tr>",
                            "<tr><td>4911</td><td>462</td></tr>",
                            "<tr><td>4912</td><td>440</td></tr>",
                            "<tr><td>4913</td><td>206</td></tr>",
                            "<tr><td>4914</td><td>48</td></tr>",
                            "<tr><td>4915</td><td>525</td></tr>",
                            "<tr><td>4916</td><td>16</td></tr>",
                            "<tr><td>4917</td><td>80</td></tr>",
                            "<tr><td>4921</td><td>40</td></tr>",
                            "<tr><td>4922</td><td>105</td></tr>",
                            "<tr><td>4927</td><td>320</td></tr>",
                            "<tr><td>4928</td><td>28</td></tr>",
                            "<tr><td>4929</td><td>102</td></tr>",
                            "<tr><td>4930</td><td>182</td></tr>",
                            "<tr><td>4931</td><td>17</td></tr>",
                            "<tr><td>4932</td><td>12</td></tr>",
                            "<tr><td>4934</td><td>293</td></tr>",
                            "<tr><td>4935</td><td>1238</td></tr>",
                            "<tr><td>4937</td><td>54</td></tr>",
                            "<tr><td>4938</td><td>39</td></tr>",
                            "<tr><td>4940</td><td>296</td></tr>",
                            "<tr><td>4941</td><td>105</td></tr>",
                            "<tr><td>4943</td><td>299</td></tr>",
                            "<tr><td>4944</td><td>72</td></tr>",
                            "<tr><td>4947</td><td>7</td></tr>",
                            "<tr><td>4952</td><td>561</td></tr>",
                            "<tr><td>4953</td><td>22</td></tr>",
                            "<tr><td>4956</td><td>999</td></tr>",
                            "<tr><td>4957</td><td>390</td></tr>",
                            "<tr><td>4958</td><td>425</td></tr>",
                            "<tr><td>4959</td><td>18</td></tr>",
                            "<tr><td>4962</td><td>86</td></tr>",
                            "<tr><td>4963</td><td>38</td></tr>",
                            "<tr><td>4965</td><td>70</td></tr>",
                            "<tr><td>4966</td><td>76</td></tr>",
                            "<tr><td>4967</td><td>32</td></tr>",
                            "<tr><td>4970</td><td>152</td></tr>",
                            "<tr><td>4971</td><td>3</td></tr>",
                            "<tr><td>4974</td><td>216</td></tr>",
                            "<tr><td>4976</td><td>15</td></tr>",
                            "<tr><td>4978</td><td>200</td></tr>",
                            "<tr><td>4979</td><td>91</td></tr>",
                            "<tr><td>4980</td><td>289</td></tr>",
                            "<tr><td>4981</td><td>64</td></tr>",
                            "<tr><td>4982</td><td>421</td></tr>",
                            "<tr><td>4983</td><td>42</td></tr>",
                            "<tr><td>4984</td><td>19</td></tr>",
                            "<tr><td>4995</td><td>99</td></tr>",
                            "<tr><td>4999</td><td>240</td></tr>",
                            "<tr><td>5000</td><td>126</td></tr>",
                            "<tr><td>5001</td><td>192</td></tr>",
                            "<tr><td>5003</td><td>12</td></tr>",
                            "<tr><td>5007</td><td>66</td></tr>",
                            "<tr><td>5010</td><td>1066</td></tr>",
                            "<tr><td>5012</td><td>27</td></tr>",
                            "<tr><td>5013</td><td>9</td></tr>",
                            "<tr><td>5017</td><td>14</td></tr>",
                            "<tr><td>5019</td><td>252</td></tr>",
                            "<tr><td>5020</td><td>196</td></tr>",
                            "<tr><td>5021</td><td>504</td></tr>",
                            "<tr><td>5022</td><td>12</td></tr>",
                            "<tr><td>5023</td><td>148</td></tr>",
                            "<tr><td>5025</td><td>11300</td></tr>",
                            "<tr><td>5027</td><td>966</td></tr>",
                            "<tr><td>5028</td><td>24</td></tr>",
                            "<tr><td>5030</td><td>240</td></tr>",
                            "<tr><td>5031</td><td>418</td></tr>",
                            "<tr><td>5032</td><td>1185</td></tr>",
                            "<tr><td>5034</td><td>288</td></tr>",
                            "<tr><td>5040</td><td>12</td></tr>",
                            "<tr><td>5041</td><td>192</td></tr>",
                            "<tr><td>5044</td><td>203</td></tr>",
                            "<tr><td>5046</td><td>1037</td></tr>",
                            "<tr><td>5047</td><td>204</td></tr>",
                            "<tr><td>5048</td><td>242</td></tr>",
                            "<tr><td>5050</td><td>126</td></tr>",
                            "<tr><td>5052</td><td>977</td></tr>",
                            "<tr><td>5056</td><td>12</td></tr>",
                            "<tr><td>5059</td><td>264</td></tr>",
                            "<tr><td>5060</td><td>88</td></tr>",
                            "<tr><td>5061</td><td>319</td></tr>",
                            "<tr><td>5062</td><td>19</td></tr>",
                            "<tr><td>5063</td><td>26</td></tr>",
                            "<tr><td>5064</td><td>216</td></tr>",
                            "<tr><td>5066</td><td>36</td></tr>",
                            "<tr><td>5069</td><td>184</td></tr>",
                            "<tr><td>5071</td><td>84</td></tr>",
                            "<tr><td>5072</td><td>98</td></tr>",
                            "<tr><td>5073</td><td>70</td></tr>",
                            "<tr><td>5074</td><td>1932</td></tr>",
                            "<tr><td>5076</td><td>44</td></tr>",
                            "<tr><td>5078</td><td>540</td></tr>",
                            "<tr><td>5079</td><td>28</td></tr>",
                            "<tr><td>5081</td><td>2400</td></tr>",
                            "<tr><td>5083</td><td>1273</td></tr>",
                            "<tr><td>5085</td><td>344</td></tr>",
                            "<tr><td>5088</td><td>250</td></tr>",
                            "<tr><td>5091</td><td>44</td></tr>",
                            "<tr><td>5092</td><td>135</td></tr>",
                            "<tr><td>5096</td><td>1088</td></tr>",
                            "<tr><td>5098</td><td>60</td></tr>",
                            "<tr><td>5103</td><td>195</td></tr>",
                            "<tr><td>5104</td><td>111</td></tr>",
                            "<tr><td>5106</td><td>323</td></tr>",
                            "<tr><td>5107</td><td>10</td></tr>",
                            "<tr><td>5108</td><td>812</td></tr>",
                            "<tr><td>5109</td><td>18</td></tr>",
                            "<tr><td>5111</td><td>9</td></tr>",
                            "<tr><td>5112</td><td>50</td></tr>",
                            "<tr><td>5113</td><td>544</td></tr>",
                            "<tr><td>5115</td><td>264</td></tr>",
                            "<tr><td>5116</td><td>429</td></tr>",
                            "<tr><td>5118</td><td>321</td></tr>",
                            "<tr><td>5120</td><td>14</td></tr>",
                            "<tr><td>5121</td><td>4</td></tr>",
                            "<tr><td>5122</td><td>374</td></tr>",
                            "<tr><td>5125</td><td>90</td></tr>",
                            "<tr><td>5128</td><td>54</td></tr>",
                            "<tr><td>5129</td><td>165</td></tr>",
                            "<tr><td>5130</td><td>76</td></tr>",
                            "<tr><td>5131</td><td>126</td></tr>",
                            "<tr><td>5132</td><td>132</td></tr>",
                            "<tr><td>5133</td><td>84</td></tr>",
                            "<tr><td>5134</td><td>18</td></tr>",
                            "<tr><td>5138</td><td>253</td></tr>",
                            "<tr><td>5139</td><td>136</td></tr>",
                            "<tr><td>5140</td><td>168</td></tr>",
                            "<tr><td>5141</td><td>269</td></tr>",
                            "<tr><td>5143</td><td>60</td></tr>",
                            "<tr><td>5145</td><td>272</td></tr>",
                            "<tr><td>5146</td><td>564</td></tr>",
                            "<tr><td>5147</td><td>156</td></tr>",
                            "<tr><td>5149</td><td>86</td></tr>",
                            "<tr><td>5151</td><td>210</td></tr>",
                            "<tr><td>5153</td><td>60</td></tr>",
                            "<tr><td>5154</td><td>56</td></tr>",
                            "<tr><td>5155</td><td>81</td></tr>",
                            "<tr><td>5157</td><td>63</td></tr>",
                            "<tr><td>5158</td><td>270</td></tr>",
                            "<tr><td>5159</td><td>245</td></tr>",
                            "<tr><td>5161</td><td>36</td></tr>",
                            "<tr><td>5162</td><td>351</td></tr>",
                            "<tr><td>5163</td><td>12</td></tr>",
                            "<tr><td>5164</td><td>780</td></tr>",
                            "<tr><td>5166</td><td>126</td></tr>",
                            "<tr><td>5168</td><td>55</td></tr>",
                            "<tr><td>5173</td><td>104</td></tr>",
                            "<tr><td>5174</td><td>81</td></tr>",
                            "<tr><td>5175</td><td>39</td></tr>",
                            "<tr><td>5176</td><td>720</td></tr>",
                            "<tr><td>5181</td><td>252</td></tr>",
                            "<tr><td>5185</td><td>44</td></tr>",
                            "<tr><td>5187</td><td>287</td></tr>",
                            "<tr><td>5193</td><td>41</td></tr>",
                            "<tr><td>5199</td><td>630</td></tr>",
                            "<tr><td>5201</td><td>80</td></tr>",
                            "<tr><td>5203</td><td>814</td></tr>",
                            "<tr><td>5207</td><td>156</td></tr>",
                            "<tr><td>5208</td><td>22</td></tr>",
                            "<tr><td>5209</td><td>36</td></tr>",
                            "<tr><td>5211</td><td>27</td></tr>",
                            "<tr><td>5212</td><td>80</td></tr>",
                            "<tr><td>5213</td><td>365</td></tr>",
                            "<tr><td>5216</td><td>19</td></tr>",
                            "<tr><td>5218</td><td>234</td></tr>",
                            "<tr><td>5222</td><td>42</td></tr>",
                            "<tr><td>5224</td><td>2904</td></tr>",
                            "<tr><td>5228</td><td>666</td></tr>",
                            "<tr><td>5229</td><td>1120</td></tr>",
                            "<tr><td>5231</td><td>288</td></tr>",
                            "<tr><td>5233</td><td>341</td></tr>",
                            "<tr><td>5234</td><td>203</td></tr>",
                            "<tr><td>5235</td><td>117</td></tr>",
                            "<tr><td>5237</td><td>1827</td></tr>",
                            "<tr><td>5240</td><td>11926</td></tr>",
                            "<tr><td>5241</td><td>54</td></tr>",
                            "<tr><td>5242</td><td>196</td></tr>",
                            "<tr><td>5243</td><td>2</td></tr>",
                            "<tr><td>5244</td><td>11</td></tr>",
                            "<tr><td>5245</td><td>276</td></tr>",
                            "<tr><td>5246</td><td>465</td></tr>",
                            "<tr><td>5248</td><td>42</td></tr>",
                            "<tr><td>5250</td><td>13</td></tr>",
                            "<tr><td>5251</td><td>148</td></tr>",
                            "<tr><td>5253</td><td>15</td></tr>",
                            "<tr><td>5255</td><td>321</td></tr>",
                            "<tr><td>5256</td><td>342</td></tr>",
                            "<tr><td>5257</td><td>72</td></tr>",
                            "<tr><td>5258</td><td>344</td></tr>",
                            "<tr><td>5259</td><td>2334</td></tr>",
                            "<tr><td>5260</td><td>148</td></tr>",
                            "<tr><td>5261</td><td>130</td></tr>",
                            "<tr><td>5262</td><td>21</td></tr>",
                            "<tr><td>5264</td><td>6</td></tr>",
                            "<tr><td>5266</td><td>115</td></tr>",
                            "<tr><td>5267</td><td>1932</td></tr>",
                            "<tr><td>5268</td><td>162</td></tr>",
                            "<tr><td>5270</td><td>33</td></tr>",
                            "<tr><td>5273</td><td>44</td></tr>",
                            "<tr><td>5274</td><td>297</td></tr>",
                            "<tr><td>5278</td><td>226</td></tr>",
                            "<tr><td>5283</td><td>76</td></tr>",
                            "<tr><td>5284</td><td>204</td></tr>",
                            "<tr><td>5289</td><td>112</td></tr>",
                            "<tr><td>5290</td><td>5</td></tr>",
                            "<tr><td>5291</td><td>144</td></tr>",
                            "<tr><td>5293</td><td>48</td></tr>",
                            "<tr><td>5294</td><td>84</td></tr>",
                            "<tr><td>5295</td><td>168</td></tr>",
                            "<tr><td>5296</td><td>24</td></tr>",
                            "<tr><td>5299</td><td>5318</td></tr>",
                            "<tr><td>5300</td><td>276</td></tr>",
                            "<tr><td>5302</td><td>11</td></tr>",
                            "<tr><td>5303</td><td>192</td></tr>",
                            "<tr><td>5304</td><td>1180</td></tr>",
                            "<tr><td>5309</td><td>17</td></tr>",
                            "<tr><td>5310</td><td>16</td></tr>",
                            "<tr><td>5312</td><td>34</td></tr>",
                            "<tr><td>5313</td><td>13</td></tr>",
                            "<tr><td>5316</td><td>210</td></tr>",
                            "<tr><td>5320</td><td>54</td></tr>",
                            "<tr><td>5321</td><td>465</td></tr>",
                            "<tr><td>5324</td><td>285</td></tr>",
                            "<tr><td>5328</td><td>48</td></tr>",
                            "<tr><td>5330</td><td>1110</td></tr>",
                            "<tr><td>5332</td><td>12</td></tr>",
                            "<tr><td>5335</td><td>274</td></tr>",
                            "<tr><td>5336</td><td>39</td></tr>",
                            "<tr><td>5337</td><td>10</td></tr>",
                            "<tr><td>5338</td><td>16</td></tr>",
                            "<tr><td>5339</td><td>38</td></tr>",
                            "<tr><td>5344</td><td>243</td></tr>",
                            "<tr><td>5346</td><td>75</td></tr>",
                            "<tr><td>5347</td><td>1850</td></tr>",
                            "<tr><td>5349</td><td>42</td></tr>",
                            "<tr><td>5351</td><td>203</td></tr>",
                            "<tr><td>5352</td><td>90</td></tr>",
                            "<tr><td>5356</td><td>740</td></tr>",
                            "<tr><td>5358</td><td>444</td></tr>",
                            "<tr><td>5359</td><td>333</td></tr>",
                            "<tr><td>5360</td><td>180</td></tr>",
                            "<tr><td>5361</td><td>30</td></tr>",
                            "<tr><td>5364</td><td>120</td></tr>",
                            "<tr><td>5365</td><td>18</td></tr>",
                            "<tr><td>5366</td><td>64</td></tr>",
                            "<tr><td>5367</td><td>81</td></tr>",
                            "<tr><td>5368</td><td>200</td></tr>",
                            "<tr><td>5369</td><td>96</td></tr>",
                            "<tr><td>5371</td><td>33</td></tr>",
                            "<tr><td>5372</td><td>2</td></tr>",
                            "<tr><td>5373</td><td>10</td></tr>",
                            "<tr><td>5378</td><td>50</td></tr>",
                            "<tr><td>5379</td><td>112</td></tr>",
                            "<tr><td>5380</td><td>26</td></tr>",
                            "<tr><td>5381</td><td>234</td></tr>",
                            "<tr><td>5383</td><td>122</td></tr>",
                            "<tr><td>5384</td><td>135</td></tr>",
                            "<tr><td>5385</td><td>26</td></tr>",
                            "<tr><td>5386</td><td>119</td></tr>",
                            "<tr><td>5389</td><td>270</td></tr>",
                            "<tr><td>5390</td><td>91</td></tr>",
                            "<tr><td>5391</td><td>186</td></tr>",
                            "<tr><td>5392</td><td>112</td></tr>",
                            "<tr><td>5393</td><td>936</td></tr>",
                            "<tr><td>5397</td><td>4400</td></tr>",
                            "<tr><td>5399</td><td>462</td></tr>",
                            "<tr><td>5400</td><td>936</td></tr>",
                            "<tr><td>5403</td><td>5</td></tr>",
                            "<tr><td>5404</td><td>295</td></tr>",
                            "<tr><td>5405</td><td>38</td></tr>",
                            "<tr><td>5407</td><td>296</td></tr>",
                            "<tr><td>5409</td><td>22</td></tr>",
                            "<tr><td>5412</td><td>360</td></tr>",
                            "<tr><td>5416</td><td>518</td></tr>",
                            "<tr><td>5417</td><td>112</td></tr>",
                            "<tr><td>5418</td><td>408</td></tr>",
                            "<tr><td>5419</td><td>18</td></tr>",
                            "<tr><td>5424</td><td>153</td></tr>",
                            "<tr><td>5428</td><td>72</td></tr>",
                            "<tr><td>5434</td><td>79</td></tr>",
                            "<tr><td>5435</td><td>95</td></tr>",
                            "<tr><td>5436</td><td>192</td></tr>",
                            "<tr><td>5437</td><td>6</td></tr>",
                            "<tr><td>5439</td><td>272</td></tr>",
                            "<tr><td>5440</td><td>99</td></tr>",
                            "<tr><td>5444</td><td>14</td></tr>",
                            "<tr><td>5445</td><td>17</td></tr>",
                            "<tr><td>5448</td><td>150</td></tr>",
                            "<tr><td>5452</td><td>72</td></tr>",
                            "<tr><td>5453</td><td>70</td></tr>",
                            "<tr><td>5454</td><td>56</td></tr>",
                            "<tr><td>5456</td><td>189</td></tr>",
                            "<tr><td>5457</td><td>460</td></tr>",
                            "<tr><td>5458</td><td>72</td></tr>",
                            "<tr><td>5459</td><td>1750</td></tr>",
                            "<tr><td>5460</td><td>102</td></tr>",
                            "<tr><td>5462</td><td>7</td></tr>",
                            "<tr><td>5465</td><td>154</td></tr>",
                            "<tr><td>5466</td><td>19</td></tr>",
                            "<tr><td>5467</td><td>196</td></tr>",
                            "<tr><td>5471</td><td>366</td></tr>",
                            "<tr><td>5472</td><td>14</td></tr>",
                            "<tr><td>5474</td><td>153</td></tr>",
                            "<tr><td>5475</td><td>56</td></tr>",
                            "<tr><td>5478</td><td>180</td></tr>",
                            "<tr><td>5481</td><td>209</td></tr>",
                            "<tr><td>5482</td><td>15</td></tr>",
                            "<tr><td>5485</td><td>16</td></tr>",
                            "<tr><td>5486</td><td>180</td></tr>",
                            "<tr><td>5487</td><td>3029</td></tr>",
                            "<tr><td>5488</td><td>16</td></tr>",
                            "<tr><td>5489</td><td>55</td></tr>",
                            "<tr><td>5491</td><td>390</td></tr>",
                            "<tr><td>5493</td><td>46</td></tr>",
                            "<tr><td>5494</td><td>187</td></tr>",
                            "<tr><td>5495</td><td>666</td></tr>",
                            "<tr><td>5496</td><td>10</td></tr>",
                            "<tr><td>5498</td><td>330</td></tr>",
                            "<tr><td>5500</td><td>13</td></tr>",
                            "<tr><td>5502</td><td>1184</td></tr>",
                            "<tr><td>5503</td><td>21</td></tr>",
                            "<tr><td>5505</td><td>36</td></tr>",
                            "<tr><td>5506</td><td>84</td></tr>",
                            "<tr><td>5508</td><td>459</td></tr>",
                            "<tr><td>5511</td><td>3600</td></tr>",
                            "<tr><td>5512</td><td>55</td></tr>",
                            "<tr><td>5515</td><td>6</td></tr>",
                            "<tr><td>5518</td><td>204</td></tr>",
                            "<tr><td>5522</td><td>9462</td></tr>",
                            "<tr><td>5527</td><td>77</td></tr>",
                            "<tr><td>5528</td><td>390</td></tr>",
                            "<tr><td>5530</td><td>36</td></tr>",
                            "<tr><td>5531</td><td>632</td></tr>",
                            "<tr><td>5532</td><td>108</td></tr>",
                            "<tr><td>5534</td><td>2</td></tr>",
                            "<tr><td>5535</td><td>1258</td></tr>",
                            "<tr><td>5536</td><td>252</td></tr>",
                            "<tr><td>5539</td><td>520</td></tr>",
                            "<tr><td>5540</td><td>28</td></tr>",
                            "<tr><td>5543</td><td>37</td></tr>",
                            "<tr><td>5545</td><td>36</td></tr>",
                            "<tr><td>5546</td><td>11</td></tr>",
                            "<tr><td>5547</td><td>405</td></tr>",
                            "<tr><td>5548</td><td>171</td></tr>",
                            "<tr><td>5550</td><td>6</td></tr>",
                            "<tr><td>5551</td><td>63</td></tr>",
                            "<tr><td>5553</td><td>88</td></tr>",
                            "<tr><td>5554</td><td>105</td></tr>",
                            "<tr><td>5558</td><td>34</td></tr>",
                            "<tr><td>5560</td><td>168</td></tr>",
                            "<tr><td>5561</td><td>120</td></tr>",
                            "<tr><td>5562</td><td>30</td></tr>",
                            "<tr><td>5563</td><td>17</td></tr>",
                            "<tr><td>5567</td><td>117</td></tr>",
                            "<tr><td>5570</td><td>1005</td></tr>",
                            "<tr><td>5571</td><td>80</td></tr>",
                            "<tr><td>5572</td><td>22</td></tr>",
                            "<tr><td>5573</td><td>680</td></tr>",
                            "<tr><td>5574</td><td>143</td></tr>",
                            "<tr><td>5576</td><td>35</td></tr>",
                            "<tr><td>5577</td><td>140</td></tr>",
                            "<tr><td>5580</td><td>280</td></tr>",
                            "<tr><td>5581</td><td>12</td></tr>",
                            "<tr><td>5582</td><td>38</td></tr>",
                            "<tr><td>5583</td><td>18</td></tr>",
                            "<tr><td>5585</td><td>9</td></tr>",
                            "<tr><td>5586</td><td>12</td></tr>",
                            "<tr><td>5587</td><td>88</td></tr>",
                            "<tr><td>5588</td><td>15</td></tr>",
                            "<tr><td>5589</td><td>123</td></tr>",
                            "<tr><td>5590</td><td>220</td></tr>",
                            "<tr><td>5591</td><td>13</td></tr>",
                            "<tr><td>5595</td><td>1932</td></tr>",
                            "<tr><td>5596</td><td>26</td></tr>",
                            "<tr><td>5600</td><td>84</td></tr>",
                            "<tr><td>5602</td><td>936</td></tr>",
                            "<tr><td>5603</td><td>40</td></tr>",
                            "<tr><td>5604</td><td>237</td></tr>",
                            "<tr><td>5607</td><td>40</td></tr>",
                            "<tr><td>5609</td><td>916</td></tr>",
                            "<tr><td>5610</td><td>160</td></tr>",
                            "<tr><td>5611</td><td>108</td></tr>",
                            "<tr><td>5612</td><td>375</td></tr>",
                            "<tr><td>5614</td><td>152</td></tr>",
                            "<tr><td>5615</td><td>314</td></tr>",
                            "<tr><td>5616</td><td>134</td></tr>",
                            "<tr><td>5617</td><td>70</td></tr>",
                            "<tr><td>5619</td><td>504</td></tr>",
                            "<tr><td>5621</td><td>187</td></tr>",
                            "<tr><td>5622</td><td>36</td></tr>",
                            "<tr><td>5625</td><td>154</td></tr>",
                            "<tr><td>5626</td><td>540</td></tr>",
                            "<tr><td>5627</td><td>1530</td></tr>",
                            "<tr><td>5629</td><td>1220</td></tr>",
                            "<tr><td>5630</td><td>48</td></tr>",
                            "<tr><td>5633</td><td>432</td></tr>",
                            "<tr><td>5634</td><td>18</td></tr>",
                            "<tr><td>5636</td><td>30</td></tr>",
                            "<tr><td>5637</td><td>440</td></tr>",
                            "<tr><td>5638</td><td>432</td></tr>",
                            "<tr><td>5639</td><td>39</td></tr>",
                            "<tr><td>5640</td><td>181</td></tr>",
                            "<tr><td>5642</td><td>44</td></tr>",
                            "<tr><td>5647</td><td>143</td></tr>",
                            "<tr><td>5648</td><td>2100</td></tr>",
                            "<tr><td>5649</td><td>114</td></tr>",
                            "<tr><td>5651</td><td>297</td></tr>",
                            "<tr><td>5652</td><td>27</td></tr>",
                            "<tr><td>5654</td><td>63</td></tr>",
                            "<tr><td>5656</td><td>108</td></tr>",
                            "<tr><td>5657</td><td>65</td></tr>",
                            "<tr><td>5659</td><td>2736</td></tr>",
                            "<tr><td>5660</td><td>469</td></tr>",
                            "<tr><td>5663</td><td>40</td></tr>",
                            "<tr><td>5664</td><td>2</td></tr>",
                            "<tr><td>5665</td><td>341</td></tr>",
                            "<tr><td>5670</td><td>268</td></tr>",
                            "<tr><td>5671</td><td>552</td></tr>",
                            "<tr><td>5672</td><td>14</td></tr>",
                            "<tr><td>5675</td><td>8</td></tr>",
                            "<tr><td>5676</td><td>55</td></tr>",
                            "<tr><td>5678</td><td>38</td></tr>",
                            "<tr><td>5679</td><td>13</td></tr>",
                            "<tr><td>5680</td><td>315</td></tr>",
                            "<tr><td>5682</td><td>169</td></tr>",
                            "<tr><td>5683</td><td>544</td></tr>",
                            "<tr><td>5685</td><td>90</td></tr>",
                            "<tr><td>5687</td><td>9</td></tr>",
                            "<tr><td>5688</td><td>242</td></tr>",
                            "<tr><td>5689</td><td>45</td></tr>",
                            "<tr><td>5699</td><td>105</td></tr>",
                            "<tr><td>5700</td><td>518</td></tr>",
                            "<tr><td>5701</td><td>112</td></tr>",
                            "<tr><td>5703</td><td>40</td></tr>",
                            "<tr><td>5705</td><td>42</td></tr>",
                            "<tr><td>5706</td><td>228</td></tr>",
                            "<tr><td>5707</td><td>12</td></tr>",
                            "<tr><td>5710</td><td>5780</td></tr>",
                            "<tr><td>5715</td><td>39</td></tr>",
                            "<tr><td>5716</td><td>101</td></tr>",
                            "<tr><td>5719</td><td>36</td></tr>",
                            "<tr><td>5722</td><td>297</td></tr>",
                            "<tr><td>5723</td><td>11</td></tr>",
                            "<tr><td>5724</td><td>96</td></tr>",
                            "<tr><td>5725</td><td>170</td></tr>",
                            "<tr><td>5726</td><td>178</td></tr>",
                            "<tr><td>5730</td><td>256</td></tr>",
                            "<tr><td>5731</td><td>95</td></tr>",
                            "<tr><td>5733</td><td>54</td></tr>",
                            "<tr><td>5734</td><td>58</td></tr>",
                            "<tr><td>5737</td><td>95</td></tr>",
                            "<tr><td>5739</td><td>33</td></tr>",
                            "<tr><td>5741</td><td>142</td></tr>",
                            "<tr><td>5743</td><td>108</td></tr>",
                            "<tr><td>5744</td><td>273</td></tr>",
                            "<tr><td>5745</td><td>36</td></tr>",
                            "<tr><td>5747</td><td>165</td></tr>",
                            "<tr><td>5749</td><td>150</td></tr>",
                            "<tr><td>5751</td><td>110</td></tr>",
                            "<tr><td>5752</td><td>10</td></tr>",
                            "<tr><td>5760</td><td>36</td></tr>",
                            "<tr><td>5763</td><td>232</td></tr>",
                            "<tr><td>5764</td><td>84</td></tr>",
                            "<tr><td>5765</td><td>52</td></tr>",
                            "<tr><td>5766</td><td>119</td></tr>",
                            "<tr><td>5769</td><td>12</td></tr>",
                            "<tr><td>5771</td><td>210</td></tr>",
                            "<tr><td>5772</td><td>306</td></tr>",
                            "<tr><td>5773</td><td>231</td></tr>",
                            "<tr><td>5774</td><td>24</td></tr>",
                            "<tr><td>5777</td><td>19</td></tr>",
                            "<tr><td>5779</td><td>205</td></tr>",
                            "<tr><td>5783</td><td>792</td></tr>",
                            "<tr><td>5784</td><td>280</td></tr>",
                            "<tr><td>5785</td><td>56</td></tr>",
                            "<tr><td>5787</td><td>156</td></tr>",
                            "<tr><td>5788</td><td>273</td></tr>",
                            "<tr><td>5789</td><td>219</td></tr>",
                            "<tr><td>5793</td><td>4104</td></tr>",
                            "<tr><td>5795</td><td>510</td></tr>",
                            "<tr><td>5797</td><td>126</td></tr>",
                            "<tr><td>5799</td><td>333</td></tr>",
                            "<tr><td>5802</td><td>588</td></tr>",
                            "<tr><td>5804</td><td>459</td></tr>",
                            "<tr><td>5808</td><td>420</td></tr>",
                            "<tr><td>5816</td><td>553</td></tr>",
                            "<tr><td>5819</td><td>189</td></tr>",
                            "<tr><td>5820</td><td>610</td></tr>",
                            "<tr><td>5821</td><td>144</td></tr>",
                            "<tr><td>5822</td><td>208</td></tr>",
                            "<tr><td>5823</td><td>150</td></tr>",
                            "<tr><td>5826</td><td>295</td></tr>",
                            "<tr><td>5828</td><td>531</td></tr>",
                            "<tr><td>5829</td><td>474</td></tr>",
                            "<tr><td>5835</td><td>218</td></tr>",
                            "<tr><td>5837</td><td>990</td></tr>",
                            "<tr><td>5838</td><td>81</td></tr>",
                            "<tr><td>5840</td><td>194</td></tr>",
                            "<tr><td>5841</td><td>79</td></tr>",
                            "<tr><td>5842</td><td>295</td></tr>",
                            "<tr><td>5843</td><td>15</td></tr>",
                            "<tr><td>5845</td><td>35</td></tr>",
                            "<tr><td>5846</td><td>54</td></tr>",
                            "<tr><td>5847</td><td>96</td></tr>",
                            "<tr><td>5848</td><td>24</td></tr>",
                            "<tr><td>5849</td><td>188</td></tr>",
                            "<tr><td>5850</td><td>182</td></tr>",
                            "<tr><td>5852</td><td>121</td></tr>",
                            "<tr><td>5855</td><td>101</td></tr>",
                            "<tr><td>5857</td><td>270</td></tr>",
                            "<tr><td>5860</td><td>44</td></tr>",
                            "<tr><td>5861</td><td>9765</td></tr>",
                            "<tr><td>5864</td><td>11</td></tr>",
                            "<tr><td>5865</td><td>90</td></tr>",
                            "<tr><td>5866</td><td>405</td></tr>",
                            "<tr><td>5869</td><td>44</td></tr>",
                            "<tr><td>5870</td><td>591</td></tr>",
                            "<tr><td>5873</td><td>90</td></tr>",
                            "<tr><td>5875</td><td>116</td></tr>",
                            "<tr><td>5876</td><td>20</td></tr>",
                            "<tr><td>5877</td><td>102</td></tr>",
                            "<tr><td>5878</td><td>110</td></tr>",
                            "<tr><td>5879</td><td>123</td></tr>",
                            "<tr><td>5880</td><td>13</td></tr>",
                            "<tr><td>5881</td><td>135</td></tr>",
                            "<tr><td>5882</td><td>12</td></tr>",
                            "<tr><td>5883</td><td>16</td></tr>",
                            "<tr><td>5885</td><td>36</td></tr>",
                            "<tr><td>5887</td><td>11</td></tr>",
                            "<tr><td>5888</td><td>159</td></tr>",
                            "<tr><td>5889</td><td>84</td></tr>",
                            "<tr><td>5891</td><td>64</td></tr>",
                            "<tr><td>5893</td><td>12</td></tr>",
                            "<tr><td>5896</td><td>289</td></tr>",
                            "<tr><td>5897</td><td>140</td></tr>",
                            "<tr><td>5899</td><td>128</td></tr>",
                            "<tr><td>5902</td><td>1368</td></tr>",
                            "<tr><td>5903</td><td>91</td></tr>",
                            "<tr><td>5904</td><td>638</td></tr>",
                            "<tr><td>5905</td><td>120</td></tr>",
                            "<tr><td>5907</td><td>32</td></tr>",
                            "<tr><td>5908</td><td>368</td></tr>",
                            "<tr><td>5909</td><td>26</td></tr>",
                            "<tr><td>5910</td><td>32</td></tr>",
                            "<tr><td>5911</td><td>99</td></tr>",
                            "<tr><td>5912</td><td>1088</td></tr>",
                            "<tr><td>5917</td><td>28</td></tr>",
                            "<tr><td>5920</td><td>48</td></tr>",
                            "<tr><td>5923</td><td>243</td></tr>",
                            "<tr><td>5924</td><td>14</td></tr>",
                            "<tr><td>5926</td><td>180</td></tr>",
                            "<tr><td>5927</td><td>516</td></tr>",
                            "<tr><td>5929</td><td>32</td></tr>",
                            "<tr><td>5932</td><td>192</td></tr>",
                            "<tr><td>5933</td><td>90</td></tr>",
                            "<tr><td>5937</td><td>36</td></tr>",
                            "<tr><td>5941</td><td>63</td></tr>",
                            "<tr><td>5943</td><td>189</td></tr>",
                            "<tr><td>5944</td><td>24</td></tr>",
                            "<tr><td>5948</td><td>16</td></tr>",
                            "<tr><td>5949</td><td>60</td></tr>",
                            "<tr><td>5950</td><td>210</td></tr>",
                            "<tr><td>5953</td><td>12</td></tr>",
                            "<tr><td>5954</td><td>15</td></tr>",
                            "<tr><td>5957</td><td>210</td></tr>",
                            "<tr><td>5958</td><td>234</td></tr>",
                            "<tr><td>5959</td><td>104</td></tr>",
                            "<tr><td>5960</td><td>26</td></tr>",
                            "<tr><td>5961</td><td>84</td></tr>",
                            "<tr><td>5963</td><td>30</td></tr>",
                            "<tr><td>5970</td><td>118</td></tr>",
                            "<tr><td>5971</td><td>64</td></tr>",
                            "<tr><td>5972</td><td>198</td></tr>",
                            "<tr><td>5973</td><td>44</td></tr>",
                            "<tr><td>5976</td><td>12</td></tr>",
                            "<tr><td>5977</td><td>288</td></tr>",
                            "<tr><td>5981</td><td>90</td></tr>",
                            "<tr><td>5984</td><td>14525</td></tr>",
                            "<tr><td>5986</td><td>7</td></tr>",
                            "<tr><td>5987</td><td>90</td></tr>",
                            "<tr><td>5988</td><td>402</td></tr>",
                            "<tr><td>5989</td><td>298</td></tr>",
                            "<tr><td>5990</td><td>72</td></tr>",
                            "<tr><td>5991</td><td>3</td></tr>",
                            "<tr><td>5993</td><td>132</td></tr>",
                            "<tr><td>5994</td><td>54</td></tr>",
                            "<tr><td>5995</td><td>333</td></tr>",
                            "<tr><td>5996</td><td>52</td></tr>",
                            "<tr><td>5997</td><td>1280</td></tr>",
                            "<tr><td>5999</td><td>192</td></tr>",
                            "<tr><td>6000</td><td>260</td></tr>",
                            "<tr><td>6002</td><td>15</td></tr>",
                            "<tr><td>6007</td><td>299</td></tr>",
                            "<tr><td>6008</td><td>150</td></tr>",
                            "<tr><td>6009</td><td>440</td></tr>",
                            "<tr><td>6011</td><td>210</td></tr>",
                            "<tr><td>6014</td><td>24</td></tr>",
                            "<tr><td>6015</td><td>230</td></tr>",
                            "<tr><td>6017</td><td>629</td></tr>",
                            "<tr><td>6019</td><td>14</td></tr>",
                            "<tr><td>6021</td><td>27</td></tr>",
                            "<tr><td>6025</td><td>1200</td></tr>",
                            "<tr><td>6028</td><td>120</td></tr>",
                            "<tr><td>6030</td><td>663</td></tr>",
                            "<tr><td>6031</td><td>27</td></tr>",
                            "<tr><td>6032</td><td>42</td></tr>",
                            "<tr><td>6035</td><td>19</td></tr>",
                            "<tr><td>6037</td><td>3</td></tr>",
                            "<tr><td>6039</td><td>260</td></tr>",
                            "<tr><td>6042</td><td>24</td></tr>",
                            "<tr><td>6043</td><td>11</td></tr>",
                            "<tr><td>6047</td><td>35</td></tr>",
                            "<tr><td>6051</td><td>100</td></tr>",
                            "<tr><td>6054</td><td>120</td></tr>",
                            "<tr><td>6057</td><td>44</td></tr>",
                            "<tr><td>6058</td><td>200</td></tr>",
                            "<tr><td>6064</td><td>128</td></tr>",
                            "<tr><td>6066</td><td>60</td></tr>",
                            "<tr><td>6069</td><td>26</td></tr>",
                            "<tr><td>6070</td><td>234</td></tr>",
                            "<tr><td>6072</td><td>70</td></tr>",
                            "<tr><td>6073</td><td>11</td></tr>",
                            "<tr><td>6074</td><td>42</td></tr>",
                            "<tr><td>6078</td><td>444</td></tr>",
                            "<tr><td>6079</td><td>4879</td></tr>",
                            "<tr><td>6081</td><td>23</td></tr>",
                            "<tr><td>6082</td><td>7</td></tr>",
                            "<tr><td>6085</td><td>63</td></tr>",
                            "<tr><td>6088</td><td>40</td></tr>",
                            "<tr><td>6089</td><td>42</td></tr>",
                            "<tr><td>6090</td><td>190</td></tr>",
                            "<tr><td>6094</td><td>189</td></tr>",
                            "<tr><td>6095</td><td>200</td></tr>",
                            "<tr><td>6099</td><td>1345</td></tr>",
                            "<tr><td>6100</td><td>62</td></tr>",
                            "<tr><td>6105</td><td>19</td></tr>",
                            "<tr><td>6107</td><td>189</td></tr>",
                            "<tr><td>6108</td><td>355</td></tr>",
                            "<tr><td>6109</td><td>64</td></tr>",
                            "<tr><td>6111</td><td>15</td></tr>",
                            "<tr><td>6112</td><td>119</td></tr>",
                            "<tr><td>6113</td><td>518</td></tr>",
                            "<tr><td>6115</td><td>270</td></tr>",
                            "<tr><td>6116</td><td>12</td></tr>",
                            "<tr><td>6117</td><td>592</td></tr>",
                            "<tr><td>6119</td><td>275</td></tr>",
                            "<tr><td>6121</td><td>187</td></tr>",
                            "<tr><td>6123</td><td>57</td></tr>",
                            "<tr><td>6124</td><td>84</td></tr>",
                            "<tr><td>6125</td><td>46</td></tr>",
                            "<tr><td>6128</td><td>76</td></tr>",
                            "<tr><td>6129</td><td>174</td></tr>",
                            "<tr><td>6131</td><td>390</td></tr>",
                            "<tr><td>6132</td><td>110</td></tr>",
                            "<tr><td>6134</td><td>322</td></tr>",
                            "<tr><td>6138</td><td>138</td></tr>",
                            "<tr><td>6139</td><td>600</td></tr>",
                            "<tr><td>6140</td><td>611</td></tr>",
                            "<tr><td>6148</td><td>30</td></tr>",
                            "<tr><td>6153</td><td>3600</td></tr>",
                            "<tr><td>6155</td><td>3300</td></tr>",
                            "<tr><td>6160</td><td>380</td></tr>",
                            "<tr><td>6161</td><td>240</td></tr>",
                            "<tr><td>6162</td><td>65</td></tr>",
                            "<tr><td>6167</td><td>18</td></tr>",
                            "<tr><td>6170</td><td>162</td></tr>",
                            "<tr><td>6171</td><td>70</td></tr>",
                            "<tr><td>6178</td><td>126</td></tr>",
                            "<tr><td>6179</td><td>48</td></tr>",
                            "<tr><td>6180</td><td>336</td></tr>",
                            "<tr><td>6186</td><td>26</td></tr>",
                            "<tr><td>6187</td><td>225</td></tr>",
                            "<tr><td>6188</td><td>160</td></tr>",
                            "<tr><td>6189</td><td>528</td></tr>",
                            "<tr><td>6190</td><td>161</td></tr>",
                            "<tr><td>6192</td><td>55</td></tr>",
                            "<tr><td>6193</td><td>48</td></tr>",
                            "<tr><td>6194</td><td>304</td></tr>",
                            "<tr><td>6195</td><td>17</td></tr>",
                            "<tr><td>6196</td><td>189</td></tr>",
                            "<tr><td>6197</td><td>149</td></tr>",
                            "<tr><td>6198</td><td>77</td></tr>",
                            "<tr><td>6199</td><td>22</td></tr>",
                            "<tr><td>6200</td><td>176</td></tr>",
                            "<tr><td>6201</td><td>104</td></tr>",
                            "<tr><td>6202</td><td>186</td></tr>",
                            "<tr><td>6205</td><td>91</td></tr>",
                            "<tr><td>6206</td><td>24</td></tr>",
                            "<tr><td>6209</td><td>80</td></tr>",
                            "<tr><td>6217</td><td>424</td></tr>",
                            "<tr><td>6218</td><td>144</td></tr>",
                            "<tr><td>6219</td><td>24</td></tr>",
                            "<tr><td>6220</td><td>93</td></tr>",
                            "<tr><td>6221</td><td>2736</td></tr>",
                            "<tr><td>6222</td><td>10</td></tr>",
                            "<tr><td>6223</td><td>960</td></tr>",
                            "<tr><td>6224</td><td>108</td></tr>",
                            "<tr><td>6225</td><td>20</td></tr>",
                            "<tr><td>6226</td><td>162</td></tr>",
                            "<tr><td>6227</td><td>56</td></tr>",
                            "<tr><td>6230</td><td>15</td></tr>",
                            "<tr><td>6236</td><td>342</td></tr>",
                            "<tr><td>6239</td><td>377</td></tr>",
                            "<tr><td>6240</td><td>99</td></tr>",
                            "<tr><td>6241</td><td>108</td></tr>",
                            "<tr><td>6243</td><td>35</td></tr>",
                            "<tr><td>6246</td><td>320</td></tr>",
                            "<tr><td>6247</td><td>130</td></tr>",
                            "<tr><td>6250</td><td>20</td></tr>",
                            "<tr><td>6251</td><td>481</td></tr>",
                            "<tr><td>6255</td><td>84</td></tr>",
                            "<tr><td>6256</td><td>108</td></tr>",
                            "<tr><td>6257</td><td>133</td></tr>",
                            "<tr><td>6259</td><td>14</td></tr>",
                            "<tr><td>6260</td><td>148</td></tr>",
                            "<tr><td>6262</td><td>420</td></tr>",
                            "<tr><td>6263</td><td>72</td></tr>",
                            "<tr><td>6264</td><td>72</td></tr>",
                            "<tr><td>6266</td><td>16</td></tr>",
                            "<tr><td>6267</td><td>155</td></tr>",
                            "<tr><td>6268</td><td>95</td></tr>",
                            "<tr><td>6271</td><td>44</td></tr>",
                            "<tr><td>6272</td><td>1232</td></tr>",
                            "<tr><td>6277</td><td>36</td></tr>",
                            "<tr><td>6279</td><td>638</td></tr>",
                            "<tr><td>6280</td><td>270</td></tr>",
                            "<tr><td>6281</td><td>140</td></tr>",
                            "<tr><td>6283</td><td>492</td></tr>",
                            "<tr><td>6286</td><td>57</td></tr>",
                            "<tr><td>6287</td><td>296</td></tr>",
                            "<tr><td>6288</td><td>88</td></tr>",
                            "<tr><td>6289</td><td>23</td></tr>",
                            "<tr><td>6291</td><td>18</td></tr>",
                            "<tr><td>6293</td><td>419</td></tr>",
                            "<tr><td>6294</td><td>31</td></tr>",
                            "<tr><td>6296</td><td>53</td></tr>",
                            "<tr><td>6297</td><td>55</td></tr>",
                            "<tr><td>6298</td><td>126</td></tr>",
                            "<tr><td>6304</td><td>204</td></tr>",
                            "<tr><td>6305</td><td>203</td></tr>",
                            "<tr><td>6307</td><td>13</td></tr>",
                            "<tr><td>6308</td><td>1344</td></tr>",
                            "<tr><td>6309</td><td>407</td></tr>",
                            "<tr><td>6310</td><td>210</td></tr>",
                            "<tr><td>6311</td><td>187</td></tr>",
                            "<tr><td>6312</td><td>30</td></tr>",
                            "<tr><td>6314</td><td>294</td></tr>",
                            "<tr><td>6315</td><td>13</td></tr>",
                            "<tr><td>6316</td><td>29</td></tr>",
                            "<tr><td>6318</td><td>50</td></tr>",
                            "<tr><td>6319</td><td>290</td></tr>",
                            "<tr><td>6320</td><td>26</td></tr>",
                            "<tr><td>6321</td><td>90</td></tr>",
                            "<tr><td>6326</td><td>56</td></tr>",
                            "<tr><td>6327</td><td>80</td></tr>",
                            "<tr><td>6332</td><td>46</td></tr>",
                            "<tr><td>6335</td><td>39</td></tr>",
                            "<tr><td>6338</td><td>32</td></tr>",
                            "<tr><td>6341</td><td>56</td></tr>",
                            "<tr><td>6343</td><td>56</td></tr>",
                            "<tr><td>6344</td><td>110</td></tr>",
                            "<tr><td>6345</td><td>504</td></tr>",
                            "<tr><td>6346</td><td>150</td></tr>",
                            "<tr><td>6347</td><td>520</td></tr>",
                            "<tr><td>6348</td><td>680</td></tr>",
                            "<tr><td>6350</td><td>638</td></tr>",
                            "<tr><td>6351</td><td>54</td></tr>",
                            "<tr><td>6353</td><td>198</td></tr>",
                            "<tr><td>6354</td><td>20</td></tr>",
                            "<tr><td>6355</td><td>10</td></tr>",
                            "<tr><td>6356</td><td>2808</td></tr>",
                            "<tr><td>6361</td><td>85</td></tr>",
                            "<tr><td>6363</td><td>90</td></tr>",
                            "<tr><td>6365</td><td>375</td></tr>",
                            "<tr><td>6369</td><td>184</td></tr>",
                            "<tr><td>6370</td><td>69</td></tr>",
                            "<tr><td>6371</td><td>27</td></tr>",
                            "<tr><td>6373</td><td>96</td></tr>",
                            "<tr><td>6374</td><td>4</td></tr>",
                            "<tr><td>6375</td><td>664</td></tr>",
                            "<tr><td>6377</td><td>34</td></tr>",
                            "<tr><td>6378</td><td>64</td></tr>",
                            "<tr><td>6379</td><td>703</td></tr>",
                            "<tr><td>6380</td><td>114</td></tr>",
                            "<tr><td>6382</td><td>57</td></tr>",
                            "<tr><td>6383</td><td>15</td></tr>",
                            "<tr><td>6384</td><td>432</td></tr>",
                            "</table>"
                        ]
                    }
                }
            ],
            "execution_count": 4
        },
        {
            "cell_type": "markdown",
            "source": [
                "### <span style=\"color: #09885a;\">3</span>) which <span style=\"color: #795e26;\">day</span> has the most classes taught"
            ],
            "metadata": {
                "language": "sql",
                "azdata_cell_guid": "56e384a0-0739-4372-a47a-fccbe872e44c"
            },
            "attachments": {}
        },
        {
            "cell_type": "code",
            "source": [
                "USE QueensClassSchedule;\n",
                "SELECT D.DayName, COUNT(ClassDayID) as NumberOFClasses\n",
                "FROM dbo.ClassDay\n",
                "JOIN dbo.[Day] as D \n",
                "ON ClassDay.DayID = D.DayID\n",
                "GROUP BY D.DayName\n",
                "ORDER BY COUNT(ClassDayID) DESC;"
            ],
            "metadata": {
                "language": "sql",
                "azdata_cell_guid": "20f4a9fb-a05a-4183-91e8-d4c6d92084ba"
            },
            "outputs": [
                {
                    "output_type": "display_data",
                    "data": {
                        "text/html": "(7 rows affected)"
                    },
                    "metadata": {}
                },
                {
                    "output_type": "display_data",
                    "data": {
                        "text/html": "Total execution time: 00:00:00.015"
                    },
                    "metadata": {}
                },
                {
                    "output_type": "execute_result",
                    "metadata": {},
                    "execution_count": 5,
                    "data": {
                        "application/vnd.dataresource+json": {
                            "schema": {
                                "fields": [
                                    {
                                        "name": "DayName"
                                    },
                                    {
                                        "name": "NumberOFClasses"
                                    }
                                ]
                            },
                            "data": [
                                {
                                    "0": "M",
                                    "1": "7198"
                                },
                                {
                                    "0": "TH",
                                    "1": "7043"
                                },
                                {
                                    "0": "W",
                                    "1": "6794"
                                },
                                {
                                    "0": "T",
                                    "1": "6246"
                                },
                                {
                                    "0": "F",
                                    "1": "2342"
                                },
                                {
                                    "0": "S",
                                    "1": "1524"
                                },
                                {
                                    "0": "SU",
                                    "1": "1390"
                                }
                            ]
                        },
                        "text/html": [
                            "<table>",
                            "<tr><th>DayName</th><th>NumberOFClasses</th></tr>",
                            "<tr><td>M</td><td>7198</td></tr>",
                            "<tr><td>TH</td><td>7043</td></tr>",
                            "<tr><td>W</td><td>6794</td></tr>",
                            "<tr><td>T</td><td>6246</td></tr>",
                            "<tr><td>F</td><td>2342</td></tr>",
                            "<tr><td>S</td><td>1524</td></tr>",
                            "<tr><td>SU</td><td>1390</td></tr>",
                            "</table>"
                        ]
                    }
                }
            ],
            "execution_count": 5
        },
        {
            "cell_type": "markdown",
            "source": [
                "### <span style=\"color: #09885a;\">4</span>) How many total credits have been offered <span style=\"color: #0000ff;\">at</span> Queens College"
            ],
            "metadata": {
                "language": "sql",
                "azdata_cell_guid": "a0a21b6d-f83e-4015-a9a5-2f00c0e46ea5"
            },
            "attachments": {}
        },
        {
            "cell_type": "code",
            "source": [
                "USE QueensClassSchedule;\n",
                "Select sum(CAST(Credits AS int)) as TotalCredits\n",
                "from dbo.Course;"
            ],
            "metadata": {
                "language": "sql",
                "azdata_cell_guid": "8b9b2264-79ca-4026-8040-efc61aea31a9"
            },
            "outputs": [
                {
                    "output_type": "display_data",
                    "data": {
                        "text/html": "(1 row affected)"
                    },
                    "metadata": {}
                },
                {
                    "output_type": "display_data",
                    "data": {
                        "text/html": "Total execution time: 00:00:00.005"
                    },
                    "metadata": {}
                },
                {
                    "output_type": "execute_result",
                    "metadata": {},
                    "execution_count": 6,
                    "data": {
                        "application/vnd.dataresource+json": {
                            "schema": {
                                "fields": [
                                    {
                                        "name": "TotalCredits"
                                    }
                                ]
                            },
                            "data": [
                                {
                                    "0": "9284"
                                }
                            ]
                        },
                        "text/html": [
                            "<table>",
                            "<tr><th>TotalCredits</th></tr>",
                            "<tr><td>9284</td></tr>",
                            "</table>"
                        ]
                    }
                }
            ],
            "execution_count": 6
        },
        {
            "cell_type": "markdown",
            "source": [
                "### <span style=\"color: #09885a;\">5</span>) Student <span style=\"color: #0000ff;\">to</span> professor ratio per class"
            ],
            "metadata": {
                "language": "sql",
                "azdata_cell_guid": "df174664-4f91-4335-a3be-95d98d4fb18f"
            },
            "attachments": {}
        },
        {
            "cell_type": "markdown",
            "source": [
                "### <span style=\"color: #09885a;\">6</span>) <span style=\"color: #0000ff;\">percentage</span> the <span style=\"color: #795e26;\">least</span> enrolled class"
            ],
            "metadata": {
                "language": "sql",
                "azdata_cell_guid": "a1a16807-1304-4a89-9259-c02859bfe12c"
            },
            "attachments": {}
        },
        {
            "cell_type": "code",
            "source": [
                "USE QueensClassSchedule;\n",
                "SELECT TOP 1 COUNT(Class.ClassID) as Classes, Course.CourseName, SUM(Enrolled) as Enrolled, SUM(MaxEnrollment) as TotalEnrollment,\n",
                "    CASE \n",
                "    WHEN SUM(MaxEnrollment) = 0\n",
                "    THEN 0\n",
                "    ELSE ROUND(CAST(( SUM(Enrolled) * 100.0 / SUM(MaxEnrollment)) AS FLOAT), 2)\n",
                "    END AS Percentage\n",
                "FROM Course\n",
                "JOIN dbo.Class\n",
                "ON Course.CourseID = Class.CourseID\n",
                "JOIN ClassDetail as CD\n",
                "ON CD.ClassDetailID = Class.ClassDetailID\n",
                "GROUP BY Course.CourseName\n",
                "ORDER BY [Percentage];"
            ],
            "metadata": {
                "language": "sql",
                "azdata_cell_guid": "b001edf4-4063-48d0-acdb-dff23650d51e",
                "tags": [
                    "hide_input"
                ]
            },
            "outputs": [
                {
                    "output_type": "display_data",
                    "data": {
                        "text/html": "(1 row affected)"
                    },
                    "metadata": {}
                },
                {
                    "output_type": "display_data",
                    "data": {
                        "text/html": "Total execution time: 00:00:00.071"
                    },
                    "metadata": {}
                },
                {
                    "output_type": "execute_result",
                    "metadata": {},
                    "execution_count": 7,
                    "data": {
                        "application/vnd.dataresource+json": {
                            "schema": {
                                "fields": [
                                    {
                                        "name": "Classes"
                                    },
                                    {
                                        "name": "CourseName"
                                    },
                                    {
                                        "name": "Enrolled"
                                    },
                                    {
                                        "name": "TotalEnrollment"
                                    },
                                    {
                                        "name": "Percentage"
                                    }
                                ]
                            },
                            "data": [
                                {
                                    "0": "96",
                                    "1": "GEOL 702",
                                    "2": "0",
                                    "3": "192",
                                    "4": "0"
                                }
                            ]
                        },
                        "text/html": [
                            "<table>",
                            "<tr><th>Classes</th><th>CourseName</th><th>Enrolled</th><th>TotalEnrollment</th><th>Percentage</th></tr>",
                            "<tr><td>96</td><td>GEOL 702</td><td>0</td><td>192</td><td>0</td></tr>",
                            "</table>"
                        ]
                    }
                }
            ],
            "execution_count": 7
        },
        {
            "cell_type": "markdown",
            "source": [
                "### <span style=\"color: #09885a;\">7</span>) <span style=\"color: #0000ff;\">percentage</span> the most enrolled class"
            ],
            "metadata": {
                "language": "sql",
                "azdata_cell_guid": "750c39db-62a4-41fd-b648-2f7e991320f2"
            },
            "attachments": {}
        },
        {
            "cell_type": "code",
            "source": [
                "USE QueensClassSchedule;\n",
                "SELECT TOP 1 COUNT(Class.ClassID) as Classes, Course.CourseName, SUM(Enrolled) as Enrolled, SUM(MaxEnrollment) as TotalEnrollment,\n",
                "    CASE \n",
                "    WHEN SUM(MaxEnrollment) = 0\n",
                "    THEN NULL\n",
                "    ELSE ROUND(CAST(( SUM(Enrolled) * 100.0 / SUM(MaxEnrollment)) AS FLOAT), 2)\n",
                "    END AS Percentage\n",
                "FROM Course\n",
                "JOIN dbo.Class\n",
                "ON Course.CourseID = Class.CourseID\n",
                "JOIN ClassDetail as CD\n",
                "ON CD.ClassDetailID = Class.ClassDetailID\n",
                "GROUP BY Course.CourseName\n",
                "ORDER BY [Percentage] DESC;"
            ],
            "metadata": {
                "language": "sql",
                "azdata_cell_guid": "6756bb9d-8eaf-49ff-92c4-029e065ce614"
            },
            "outputs": [
                {
                    "output_type": "display_data",
                    "data": {
                        "text/html": "(1 row affected)"
                    },
                    "metadata": {}
                },
                {
                    "output_type": "display_data",
                    "data": {
                        "text/html": "Total execution time: 00:00:00.070"
                    },
                    "metadata": {}
                },
                {
                    "output_type": "execute_result",
                    "metadata": {},
                    "execution_count": 8,
                    "data": {
                        "application/vnd.dataresource+json": {
                            "schema": {
                                "fields": [
                                    {
                                        "name": "Classes"
                                    },
                                    {
                                        "name": "CourseName"
                                    },
                                    {
                                        "name": "Enrolled"
                                    },
                                    {
                                        "name": "TotalEnrollment"
                                    },
                                    {
                                        "name": "Percentage"
                                    }
                                ]
                            },
                            "data": [
                                {
                                    "0": "12",
                                    "1": "FNES 796",
                                    "2": "168",
                                    "3": "60",
                                    "4": "280"
                                }
                            ]
                        },
                        "text/html": [
                            "<table>",
                            "<tr><th>Classes</th><th>CourseName</th><th>Enrolled</th><th>TotalEnrollment</th><th>Percentage</th></tr>",
                            "<tr><td>12</td><td>FNES 796</td><td>168</td><td>60</td><td>280</td></tr>",
                            "</table>"
                        ]
                    }
                }
            ],
            "execution_count": 8
        },
        {
            "cell_type": "markdown",
            "source": [
                "<span style=\"color: #09885a;\">8</span>) Department that offers the most courses"
            ],
            "metadata": {
                "language": "sql",
                "azdata_cell_guid": "d0472bdc-6d5a-4994-91d4-f9fee4c7f030"
            },
            "attachments": {}
        },
        {
            "cell_type": "code",
            "source": [
                "USE QueensClassSchedule;\n",
                "SELECT TOP 1 D.DepartmentName, COUNT(C.CourseID) as TotalCourses\n",
                "FROM dbo.Department as D\n",
                "JOIN dbo.Course as C\n",
                "ON D.DepartmentId = C.DepartmentID\n",
                "GROUP BY D.DepartmentName\n",
                "ORDER BY TotalCourses DESC;"
            ],
            "metadata": {
                "language": "sql",
                "azdata_cell_guid": "bffa0ed8-62ce-4dde-bc7b-2fedcd2f6789"
            },
            "outputs": [
                {
                    "output_type": "display_data",
                    "data": {
                        "text/html": "(1 row affected)"
                    },
                    "metadata": {}
                },
                {
                    "output_type": "display_data",
                    "data": {
                        "text/html": "Total execution time: 00:00:00.019"
                    },
                    "metadata": {}
                },
                {
                    "output_type": "execute_result",
                    "metadata": {},
                    "execution_count": 9,
                    "data": {
                        "application/vnd.dataresource+json": {
                            "schema": {
                                "fields": [
                                    {
                                        "name": "DepartmentName"
                                    },
                                    {
                                        "name": "TotalCourses"
                                    }
                                ]
                            },
                            "data": [
                                {
                                    "0": "BIOL",
                                    "1": "240"
                                }
                            ]
                        },
                        "text/html": [
                            "<table>",
                            "<tr><th>DepartmentName</th><th>TotalCourses</th></tr>",
                            "<tr><td>BIOL</td><td>240</td></tr>",
                            "</table>"
                        ]
                    }
                }
            ],
            "execution_count": 9
        },
        {
            "cell_type": "markdown",
            "source": [
                "<span style=\"color: #09885a;\">9</span>) Department that offers the <span style=\"color: #795e26;\">least</span> courses"
            ],
            "metadata": {
                "language": "sql",
                "azdata_cell_guid": "540b16b3-7467-4231-88ec-a717bd9b76f3"
            },
            "attachments": {}
        },
        {
            "cell_type": "code",
            "source": [
                "USE QueensClassSchedule;\n",
                "SELECT TOP 1 D.DepartmentName, COUNT(C.CourseID) as TotalCourses\n",
                "FROM dbo.Department as D\n",
                "JOIN dbo.Course as C\n",
                "ON D.DepartmentId = C.DepartmentID\n",
                "GROUP BY D.DepartmentName\n",
                "ORDER BY TotalCourses;"
            ],
            "metadata": {
                "language": "sql",
                "azdata_cell_guid": "87980bf5-6918-4ebe-854b-3af3f407888b"
            },
            "outputs": [
                {
                    "output_type": "display_data",
                    "data": {
                        "text/html": "(1 row affected)"
                    },
                    "metadata": {}
                },
                {
                    "output_type": "display_data",
                    "data": {
                        "text/html": "Total execution time: 00:00:00.032"
                    },
                    "metadata": {}
                },
                {
                    "output_type": "execute_result",
                    "metadata": {},
                    "execution_count": 10,
                    "data": {
                        "application/vnd.dataresource+json": {
                            "schema": {
                                "fields": [
                                    {
                                        "name": "DepartmentName"
                                    },
                                    {
                                        "name": "TotalCourses"
                                    }
                                ]
                            },
                            "data": [
                                {
                                    "0": "CMAL",
                                    "1": "1"
                                }
                            ]
                        },
                        "text/html": [
                            "<table>",
                            "<tr><th>DepartmentName</th><th>TotalCourses</th></tr>",
                            "<tr><td>CMAL</td><td>1</td></tr>",
                            "</table>"
                        ]
                    }
                }
            ],
            "execution_count": 10
        },
        {
            "cell_type": "markdown",
            "source": [
                "<span style=\"color: #09885a;\">10</span>) Which building holds the most classes"
            ],
            "metadata": {
                "language": "sql",
                "azdata_cell_guid": "5059fde4-e62e-4237-955c-c04573928210"
            },
            "attachments": {}
        },
        {
            "cell_type": "code",
            "source": [
                "USE QueensClassSchedule;\n",
                "SELECT TOP 1 COUNT(CD.ClassDetailID) as TotalClasses, BL.BuildingName\n",
                "FROM dbo.BuildingLocation as BL\n",
                "JOIN dbo.[Location] as L\n",
                "ON L.BuildingLocationID = BL.BuildingLocationID\n",
                "JOIN ClassDetail as CD\n",
                "ON CD.LocationID = L.LocationID\n",
                "GROUP BY BL.BuildingName\n",
                "ORDER BY TotalClasses DESC;"
            ],
            "metadata": {
                "language": "sql",
                "azdata_cell_guid": "07fb7022-5f7c-49a9-91e5-8eb478e4f8af"
            },
            "outputs": [
                {
                    "output_type": "display_data",
                    "data": {
                        "text/html": "(1 row affected)"
                    },
                    "metadata": {}
                },
                {
                    "output_type": "display_data",
                    "data": {
                        "text/html": "Total execution time: 00:00:00.040"
                    },
                    "metadata": {}
                },
                {
                    "output_type": "execute_result",
                    "metadata": {},
                    "execution_count": 11,
                    "data": {
                        "application/vnd.dataresource+json": {
                            "schema": {
                                "fields": [
                                    {
                                        "name": "TotalClasses"
                                    },
                                    {
                                        "name": "BuildingName"
                                    }
                                ]
                            },
                            "data": [
                                {
                                    "0": "9845",
                                    "1": "PH"
                                }
                            ]
                        },
                        "text/html": [
                            "<table>",
                            "<tr><th>TotalClasses</th><th>BuildingName</th></tr>",
                            "<tr><td>9845</td><td>PH</td></tr>",
                            "</table>"
                        ]
                    }
                }
            ],
            "execution_count": 11
        }
    ]
}